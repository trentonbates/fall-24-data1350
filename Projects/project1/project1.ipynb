{
 "cells": [
  {
   "cell_type": "code",
   "execution_count": 87,
   "metadata": {
    "deletable": false,
    "editable": false
   },
   "outputs": [
    {
     "name": "stderr",
     "output_type": "stream",
     "text": [
      "/home/codespace/.local/lib/python3.12/site-packages/nbformat/__init__.py:96: MissingIDFieldWarning: Cell is missing an id field, this will become a hard error in future nbformat versions. You may want to use `normalize()` on your notebooks before validations (available since nbformat 5.1.4). Previous versions of nbformat are fixing this issue transparently, and will stop doing so in the future.\n",
      "  validate(nb)\n"
     ]
    }
   ],
   "source": [
    "# Initialize Otter\n",
    "import otter\n",
    "grader = otter.Notebook(\"project1.ipynb\")"
   ]
  },
  {
   "cell_type": "markdown",
   "metadata": {},
   "source": [
    "# Project 1: World Population and Poverty"
   ]
  },
  {
   "cell_type": "markdown",
   "metadata": {},
   "source": [
    "In this project, you'll explore data from [Gapminder.org](http://gapminder.org), a website dedicated to providing a fact-based view of the world and how it has changed. That site includes several data visualizations and presentations, but also publishes the raw data that we will use in this project to recreate and extend some of their most famous visualizations.\n",
    "\n",
    "The Gapminder website collects data from many sources and compiles them into tables that describe many countries around the world. All of the data they aggregate are published in the [Systema Globalis](https://github.com/open-numbers/ddf--gapminder--systema_globalis/blob/master/README.md). Their goal is \"to compile all public statistics; Social, Economic and Environmental; into a comparable total dataset.\" All data sets in this project are copied directly from the Systema Globalis without any changes.\n",
    "\n",
    "This project is dedicated to [Hans Rosling](https://en.wikipedia.org/wiki/Hans_Rosling) (1948-2017), who championed the use of data to understand and prioritize global development challenges."
   ]
  },
  {
   "cell_type": "code",
   "execution_count": 88,
   "metadata": {
    "deletable": false
   },
   "outputs": [],
   "source": [
    "# Run this cell to set up the notebook, but please don't change it. \n",
    "\n",
    "# These lines import the NumPy and Datascience modules.\n",
    "from datascience import *\n",
    "import numpy as np\n",
    "\n",
    "# These lines do some fancy plotting magic.\n",
    "%matplotlib inline\n",
    "import matplotlib.pyplot as plots\n",
    "plots.style.use('fivethirtyeight')\n",
    "\n",
    "from ipywidgets import interact, interactive, fixed, interact_manual\n",
    "import ipywidgets as widgets"
   ]
  },
  {
   "cell_type": "markdown",
   "metadata": {},
   "source": [
    "## 0. Hazards with `.show`\n",
    "\n",
    "As a heads up, please do not run the function `tbl.show()` in this assignment without an argument. For instance if you want to view a table, please type `tbl.show(10)` instead of `tbl.show()`. This may break your notebook and we cannot gaurantee what we will have the capacity to aid you in this. Please answer the question below, and set the value to `True` to confirm you have read this and agree.\n"
   ]
  },
  {
   "cell_type": "code",
   "execution_count": 89,
   "metadata": {
    "tags": []
   },
   "outputs": [],
   "source": [
    "i_wont_use_show_without_an_argument = True"
   ]
  },
  {
   "cell_type": "code",
   "execution_count": 90,
   "metadata": {
    "deletable": false,
    "editable": false
   },
   "outputs": [
    {
     "data": {
      "text/html": [
       "<p><strong><pre style='display: inline;'>q0</pre></strong> passed! ✨</p>"
      ],
      "text/plain": [
       "q0 results: All test cases passed!"
      ]
     },
     "execution_count": 90,
     "metadata": {},
     "output_type": "execute_result"
    }
   ],
   "source": [
    "grader.check(\"q0\")"
   ]
  },
  {
   "cell_type": "markdown",
   "metadata": {
    "deletable": false,
    "editable": false
   },
   "source": [
    "## 1. Global Population Growth\n"
   ]
  },
  {
   "cell_type": "markdown",
   "metadata": {
    "deletable": false,
    "editable": false
   },
   "source": [
    "The global population of humans reached 1 billion around 1800, 3 billion around 1960, and 7 billion around 2011. The potential impact of population growth has concerned scientists, economists, and politicians alike.\n",
    "\n",
    "The United Nations Population Division estimates that the world population will likely continue to grow throughout the 21st century, but at a slower rate, perhaps reaching and stabilizing at 11 billion by 2100. However, the UN does not rule out scenarios of slower or more extreme growth. These projections help us understand long-term population processes, even if they leave out possible global catastrophic events like war or climate crises.\n",
    "\n",
    "<a href=\"http://www.pewresearch.org/fact-tank/2015/06/08/scientists-more-worried-than-public-about-worlds-growing-population/ft_15-06-04_popcount/\"> \n",
    " <img src=\"pew_population_projection.png\"/> \n",
    "</a>\n",
    "\n",
    "In this part of the project, we will examine some of the factors that influence population growth and how they have been changing over the years and around the world. There are two main sub-parts of this analysis.\n",
    "\n",
    "- First, we will examine the data for one country, Poland. We will see how factors such as life expectancy, fertility rate, and child mortality have changed over time in Poland, and how they are related to the rate of population growth.\n",
    "- Next, we will examine whether the changes we have observed for Poland are particular to that country or whether they reflect general patterns observable in other countries too. We will study aspects of world population growth and see how they have been changing.\n",
    "\n",
    "The first table we will consider contains the total population of each country over time. Run the cell below.\n"
   ]
  },
  {
   "cell_type": "code",
   "execution_count": 91,
   "metadata": {
    "deletable": false,
    "scrolled": true
   },
   "outputs": [
    {
     "data": {
      "text/html": [
       "<table border=\"1\" class=\"dataframe\">\n",
       "    <thead>\n",
       "        <tr>\n",
       "            <th>geo</th> <th>time</th> <th>population_total</th>\n",
       "        </tr>\n",
       "    </thead>\n",
       "    <tbody>\n",
       "        <tr>\n",
       "            <td>afg </td> <td>1800</td> <td>3280000         </td>\n",
       "        </tr>\n",
       "        <tr>\n",
       "            <td>afg </td> <td>1801</td> <td>3280000         </td>\n",
       "        </tr>\n",
       "        <tr>\n",
       "            <td>afg </td> <td>1802</td> <td>3280000         </td>\n",
       "        </tr>\n",
       "    </tbody>\n",
       "</table>\n",
       "<p>... (43534 rows omitted)</p>"
      ],
      "text/plain": [
       "<IPython.core.display.HTML object>"
      ]
     },
     "metadata": {},
     "output_type": "display_data"
    }
   ],
   "source": [
    "population = Table.read_table('population.csv').where(\"time\", are.below(2021))\n",
    "population.show(3)"
   ]
  },
  {
   "cell_type": "markdown",
   "metadata": {},
   "source": [
    "**Note:** The population csv file can also be found [here](https://github.com/open-numbers/ddf--gapminder--gapminder_world/blob/master/ddf--datapoints--population_total--by--geo--time.csv).\n"
   ]
  },
  {
   "cell_type": "markdown",
   "metadata": {
    "deletable": false
   },
   "source": [
    "### Poland\n",
    "\n",
    "The Central European nation of Poland has undergone many changes over the centuries. In modern times it was (re)created as a democratic republic in 1919 after World War I. It was invaded and divided in World War II between Germany and the Soviet Union. War and the Holocaust had a devastating impact on its people. Poland was constituted in its current borders at the end of World War II (1945) under a communist government. In 1989, with the fall of the Soviet Union, Poland re-established itself as a democratic republic.\n",
    "\n",
    "In this section of the project, we will examine aspects of the population of Poland since 1900. Poland's borders have changed, so we will look at the population within its current (2012) borders.\n",
    "\n",
    "In the `population` table, the `geo` column contains three-letter codes established by the [International Organization for Standardization](https://en.wikipedia.org/wiki/International_Organization_for_Standardization) (ISO) in the [Alpha-3](https://en.wikipedia.org/wiki/ISO_3166-1_alpha-3#Current_codes) standard. **Use the Alpha-3 link to find the 3-letter code for Poland.**\n"
   ]
  },
  {
   "cell_type": "markdown",
   "metadata": {},
   "source": [
    "**Question 1.** Create a table called `p_pop` that has two columns labeled `time` and `population_total`. The first column should contain the years from 1900 through 2020 (including both 1900 and 2020) and the second should contain the population of Poland in each of those years.\n"
   ]
  },
  {
   "cell_type": "code",
   "execution_count": 92,
   "metadata": {
    "deletable": false,
    "tags": []
   },
   "outputs": [
    {
     "data": {
      "text/html": [
       "<table border=\"1\" class=\"dataframe\">\n",
       "    <thead>\n",
       "        <tr>\n",
       "            <th>time</th> <th>population_total</th>\n",
       "        </tr>\n",
       "    </thead>\n",
       "    <tbody>\n",
       "        <tr>\n",
       "            <td>1900</td> <td>24340168        </td>\n",
       "        </tr>\n",
       "        <tr>\n",
       "            <td>1901</td> <td>24517983        </td>\n",
       "        </tr>\n",
       "        <tr>\n",
       "            <td>1902</td> <td>24694172        </td>\n",
       "        </tr>\n",
       "        <tr>\n",
       "            <td>1903</td> <td>24868705        </td>\n",
       "        </tr>\n",
       "        <tr>\n",
       "            <td>1904</td> <td>25044468        </td>\n",
       "        </tr>\n",
       "        <tr>\n",
       "            <td>1905</td> <td>25221471        </td>\n",
       "        </tr>\n",
       "        <tr>\n",
       "            <td>1906</td> <td>25399722        </td>\n",
       "        </tr>\n",
       "        <tr>\n",
       "            <td>1907</td> <td>25579229        </td>\n",
       "        </tr>\n",
       "        <tr>\n",
       "            <td>1908</td> <td>25760003        </td>\n",
       "        </tr>\n",
       "        <tr>\n",
       "            <td>1909</td> <td>25848341        </td>\n",
       "        </tr>\n",
       "    </tbody>\n",
       "</table>\n",
       "<p>... (111 rows omitted)</p>"
      ],
      "text/plain": [
       "time | population_total\n",
       "1900 | 24340168\n",
       "1901 | 24517983\n",
       "1902 | 24694172\n",
       "1903 | 24868705\n",
       "1904 | 25044468\n",
       "1905 | 25221471\n",
       "1906 | 25399722\n",
       "1907 | 25579229\n",
       "1908 | 25760003\n",
       "1909 | 25848341\n",
       "... (111 rows omitted)"
      ]
     },
     "execution_count": 92,
     "metadata": {},
     "output_type": "execute_result"
    }
   ],
   "source": [
    "p_pop = population.select(\"time\", \"population_total\").where(population.column(\"geo\"), are.containing(\"pol\")).where(\"time\", are.between_or_equal_to(1900, 2020))\n",
    "p_pop"
   ]
  },
  {
   "cell_type": "code",
   "execution_count": 93,
   "metadata": {
    "deletable": false,
    "editable": false
   },
   "outputs": [
    {
     "data": {
      "text/html": [
       "<p><strong><pre style='display: inline;'>q1_1</pre></strong> passed! 🎉</p>"
      ],
      "text/plain": [
       "q1_1 results: All test cases passed!"
      ]
     },
     "execution_count": 93,
     "metadata": {},
     "output_type": "execute_result"
    }
   ],
   "source": [
    "grader.check(\"q1_1\")"
   ]
  },
  {
   "cell_type": "markdown",
   "metadata": {
    "deletable": false
   },
   "source": [
    "Run the following cell to create a table called `p_five` that has the population of Poland every five years.\n"
   ]
  },
  {
   "cell_type": "code",
   "execution_count": 94,
   "metadata": {
    "deletable": false
   },
   "outputs": [
    {
     "data": {
      "text/html": [
       "<table border=\"1\" class=\"dataframe\">\n",
       "    <thead>\n",
       "        <tr>\n",
       "            <th>time</th> <th>population_total</th>\n",
       "        </tr>\n",
       "    </thead>\n",
       "    <tbody>\n",
       "        <tr>\n",
       "            <td>1900</td> <td>24,340,168      </td>\n",
       "        </tr>\n",
       "        <tr>\n",
       "            <td>1905</td> <td>25,221,471      </td>\n",
       "        </tr>\n",
       "        <tr>\n",
       "            <td>1910</td> <td>25,844,639      </td>\n",
       "        </tr>\n",
       "    </tbody>\n",
       "</table>\n",
       "<p>... (22 rows omitted)</p>"
      ],
      "text/plain": [
       "<IPython.core.display.HTML object>"
      ]
     },
     "metadata": {},
     "output_type": "display_data"
    }
   ],
   "source": [
    "p_pop.set_format('population_total', NumberFormatter)\n",
    "\n",
    "fives = np.arange(1900, 2021, 5) # 1900, 1905, 1910, ...\n",
    "p_five = p_pop.sort('time').where('time', are.contained_in(fives))\n",
    "p_five.show(3)"
   ]
  },
  {
   "cell_type": "markdown",
   "metadata": {},
   "source": [
    "Run the following cell to visualize the population over time. Following the devastating effects of World War I and World War II, Poland's population increased steadily from 1950 to 2000 and then leveled off. In the following questions we'll investigate this period of population growth.\n"
   ]
  },
  {
   "cell_type": "code",
   "execution_count": 95,
   "metadata": {},
   "outputs": [
    {
     "data": {
      "image/png": "[encoded data removed]",
      "text/plain": [
       "<Figure size 600x600 with 1 Axes>"
      ]
     },
     "metadata": {},
     "output_type": "display_data"
    }
   ],
   "source": [
    "p_five.plot(0, 1)"
   ]
  },
  {
   "cell_type": "markdown",
   "metadata": {},
   "source": [
    "**Question 2.** Assign `initial` to an array that contains the population for every five year interval from **1900 to 2015** (inclusive). Then, assign `changed` to an array that contains the population for every five year interval from **1905 to 2020** (inclusive). The first array should include both 1900 and 2015, and the second array should include both 1905 and 2020. You should use the `p_five` table to create both arrays, by first filtering the table to only contain the relevant years.\n",
    "\n",
    "The annual growth rate for a time period is equal to:\n",
    "\n",
    "$$\\left(\\left(\\frac{\\text{Population at end of period}}{\\text{Population at start of period}}\\right)^{\\displaystyle\\frac{1}{\\text{number of years}}}\\right) -1$$\n",
    "\n",
    "We have provided the code below that uses `initial` and `changed` in order to add a column to `p_five` called `annual_growth`. **Don't worry about the calculation of the growth rates**; run the test below to test your solution.\n",
    "\n",
    "If you are interested in how we came up with the formula for growth rates, consult the [growth rates](https://inferentialthinking.com/chapters/03/2/1/Growth.html) section of the textbook.\n"
   ]
  },
  {
   "cell_type": "code",
   "execution_count": 96,
   "metadata": {
    "tags": []
   },
   "outputs": [
    {
     "data": {
      "text/html": [
       "<table border=\"1\" class=\"dataframe\">\n",
       "    <thead>\n",
       "        <tr>\n",
       "            <th>time</th> <th>population_total</th> <th>annual_growth</th>\n",
       "        </tr>\n",
       "    </thead>\n",
       "    <tbody>\n",
       "        <tr>\n",
       "            <td>1900</td> <td>24,340,168      </td> <td>0.71%        </td>\n",
       "        </tr>\n",
       "        <tr>\n",
       "            <td>1905</td> <td>25,221,471      </td> <td>0.49%        </td>\n",
       "        </tr>\n",
       "        <tr>\n",
       "            <td>1910</td> <td>25,844,639      </td> <td>-0.87%       </td>\n",
       "        </tr>\n",
       "        <tr>\n",
       "            <td>1915</td> <td>24,739,041      </td> <td>-0.75%       </td>\n",
       "        </tr>\n",
       "        <tr>\n",
       "            <td>1920</td> <td>23,827,906      </td> <td>1.32%        </td>\n",
       "        </tr>\n",
       "        <tr>\n",
       "            <td>1925</td> <td>25,439,942      </td> <td>1.52%        </td>\n",
       "        </tr>\n",
       "        <tr>\n",
       "            <td>1930</td> <td>27,427,399      </td> <td>0.75%        </td>\n",
       "        </tr>\n",
       "        <tr>\n",
       "            <td>1935</td> <td>28,465,230      </td> <td>0.32%        </td>\n",
       "        </tr>\n",
       "        <tr>\n",
       "            <td>1940</td> <td>28,927,566      </td> <td>-1.58%       </td>\n",
       "        </tr>\n",
       "        <tr>\n",
       "            <td>1945</td> <td>26,713,772      </td> <td>-1.46%       </td>\n",
       "        </tr>\n",
       "    </tbody>\n",
       "</table>\n",
       "<p>... (14 rows omitted)</p>"
      ],
      "text/plain": [
       "time | population_total | annual_growth\n",
       "1900 | 24,340,168       | 0.71%\n",
       "1905 | 25,221,471       | 0.49%\n",
       "1910 | 25,844,639       | -0.87%\n",
       "1915 | 24,739,041       | -0.75%\n",
       "1920 | 23,827,906       | 1.32%\n",
       "1925 | 25,439,942       | 1.52%\n",
       "1930 | 27,427,399       | 0.75%\n",
       "1935 | 28,465,230       | 0.32%\n",
       "1940 | 28,927,566       | -1.58%\n",
       "1945 | 26,713,772       | -1.46%\n",
       "... (14 rows omitted)"
      ]
     },
     "execution_count": 96,
     "metadata": {},
     "output_type": "execute_result"
    }
   ],
   "source": [
    "initial = p_five.select(\"population_total\").where(p_five.column(\"time\"), are.between_or_equal_to(1900, 2015)).column(\"population_total\")\n",
    "changed = p_five.select(\"population_total\").where(p_five.column(\"time\"), are.between_or_equal_to(1905, 2020)).column(\"population_total\")\n",
    "\n",
    "p_1900_through_2015 = p_five.where('time', are.below_or_equal_to(2015)) \n",
    "p_five_growth = p_1900_through_2015.with_column('annual_growth', (changed/initial)**0.2-1)\n",
    "p_five_growth.set_format('annual_growth', PercentFormatter)"
   ]
  },
  {
   "cell_type": "code",
   "execution_count": 97,
   "metadata": {
    "deletable": false,
    "editable": false
   },
   "outputs": [
    {
     "data": {
      "text/html": [
       "<p><strong><pre style='display: inline;'>q1_2</pre></strong> passed! 🌈</p>"
      ],
      "text/plain": [
       "q1_2 results: All test cases passed!"
      ]
     },
     "execution_count": 97,
     "metadata": {},
     "output_type": "execute_result"
    }
   ],
   "source": [
    "grader.check(\"q1_2\")"
   ]
  },
  {
   "cell_type": "markdown",
   "metadata": {
    "deletable": false
   },
   "source": [
    "The annual growth rate in Poland has been declining since 1950, as shown in the table below.\n"
   ]
  },
  {
   "cell_type": "code",
   "execution_count": 98,
   "metadata": {},
   "outputs": [
    {
     "data": {
      "text/html": [
       "<table border=\"1\" class=\"dataframe\">\n",
       "    <thead>\n",
       "        <tr>\n",
       "            <th>time</th> <th>population_total</th> <th>annual_growth</th>\n",
       "        </tr>\n",
       "    </thead>\n",
       "    <tbody>\n",
       "        <tr>\n",
       "            <td>1950</td> <td>24,824,007      </td> <td>1.90%        </td>\n",
       "        </tr>\n",
       "        <tr>\n",
       "            <td>1955</td> <td>27,269,742      </td> <td>1.66%        </td>\n",
       "        </tr>\n",
       "        <tr>\n",
       "            <td>1960</td> <td>29,614,201      </td> <td>1.15%        </td>\n",
       "        </tr>\n",
       "        <tr>\n",
       "            <td>1965</td> <td>31,360,903      </td> <td>0.80%        </td>\n",
       "        </tr>\n",
       "        <tr>\n",
       "            <td>1970</td> <td>32,639,262      </td> <td>0.80%        </td>\n",
       "        </tr>\n",
       "        <tr>\n",
       "            <td>1975</td> <td>33,970,730      </td> <td>0.91%        </td>\n",
       "        </tr>\n",
       "        <tr>\n",
       "            <td>1980</td> <td>35,539,723      </td> <td>0.88%        </td>\n",
       "        </tr>\n",
       "        <tr>\n",
       "            <td>1985</td> <td>37,133,860      </td> <td>0.44%        </td>\n",
       "        </tr>\n",
       "        <tr>\n",
       "            <td>1990</td> <td>37,960,193      </td> <td>0.26%        </td>\n",
       "        </tr>\n",
       "        <tr>\n",
       "            <td>1995</td> <td>38,458,642      </td> <td>0.05%        </td>\n",
       "        </tr>\n",
       "        <tr>\n",
       "            <td>2000</td> <td>38,556,699      </td> <td>-0.10%       </td>\n",
       "        </tr>\n",
       "        <tr>\n",
       "            <td>2005</td> <td>38,368,957      </td> <td>-0.02%       </td>\n",
       "        </tr>\n",
       "        <tr>\n",
       "            <td>2010</td> <td>38,329,784      </td> <td>-0.15%       </td>\n",
       "        </tr>\n",
       "        <tr>\n",
       "            <td>2015</td> <td>38,034,076      </td> <td>-0.10%       </td>\n",
       "        </tr>\n",
       "    </tbody>\n",
       "</table>"
      ],
      "text/plain": [
       "<IPython.core.display.HTML object>"
      ]
     },
     "metadata": {},
     "output_type": "display_data"
    }
   ],
   "source": [
    "# Run this cell to view annual growth rates in Poland since 1950.\n",
    "p_five_growth.where('time', are.above_or_equal_to(1950)).show()"
   ]
  },
  {
   "cell_type": "markdown",
   "metadata": {},
   "source": [
    "Next, we'll try to understand what has changed in Poland that might explain the slowing population growth rate. Run the next cell to load three additional tables of measurements about countries over time.\n"
   ]
  },
  {
   "cell_type": "code",
   "execution_count": 99,
   "metadata": {
    "deletable": false
   },
   "outputs": [],
   "source": [
    "life_expectancy = Table.read_table('life_expectancy.csv').where('time', are.below(2021))\n",
    "child_mortality = Table.read_table('child_mortality.csv').relabel(2, 'child_mortality_under_5_per_1000_born').where('time', are.below(2021))\n",
    "fertility = Table.read_table('fertility.csv').where('time', are.below(2021))"
   ]
  },
  {
   "cell_type": "markdown",
   "metadata": {
    "deletable": false,
    "editable": false
   },
   "source": [
    "The `life_expectancy` table contains a statistic that is often used to measure how long people live, called _life expectancy at birth_. This number, for a country in a given year, [does not measure how long babies born in that year are expected to live](http://blogs.worldbank.org/opendata/what-does-life-expectancy-birth-really-mean). Instead, it measures how long someone would live, on average, if the _mortality conditions_ in that year persisted throughout their lifetime. These \"mortality conditions\" describe what fraction of people for each age survived the year. So, it is a way of measuring the proportion of people that are staying alive, aggregated over different age groups in the population.\n"
   ]
  },
  {
   "cell_type": "markdown",
   "metadata": {},
   "source": [
    "Run the following cells below to see `life_expectancy`, `child_mortality`, and `fertility`. Refer back to these tables as they will be helpful for answering further questions!\n"
   ]
  },
  {
   "cell_type": "code",
   "execution_count": 100,
   "metadata": {},
   "outputs": [
    {
     "data": {
      "text/html": [
       "<table border=\"1\" class=\"dataframe\">\n",
       "    <thead>\n",
       "        <tr>\n",
       "            <th>geo</th> <th>time</th> <th>life_expectancy_years</th>\n",
       "        </tr>\n",
       "    </thead>\n",
       "    <tbody>\n",
       "        <tr>\n",
       "            <td>afg </td> <td>1800</td> <td>28.21                </td>\n",
       "        </tr>\n",
       "        <tr>\n",
       "            <td>afg </td> <td>1801</td> <td>28.2                 </td>\n",
       "        </tr>\n",
       "        <tr>\n",
       "            <td>afg </td> <td>1802</td> <td>28.19                </td>\n",
       "        </tr>\n",
       "    </tbody>\n",
       "</table>\n",
       "<p>... (41247 rows omitted)</p>"
      ],
      "text/plain": [
       "<IPython.core.display.HTML object>"
      ]
     },
     "metadata": {},
     "output_type": "display_data"
    }
   ],
   "source": [
    "life_expectancy.show(3)"
   ]
  },
  {
   "cell_type": "code",
   "execution_count": 101,
   "metadata": {},
   "outputs": [
    {
     "data": {
      "text/html": [
       "<table border=\"1\" class=\"dataframe\">\n",
       "    <thead>\n",
       "        <tr>\n",
       "            <th>geo</th> <th>time</th> <th>child_mortality_under_5_per_1000_born</th>\n",
       "        </tr>\n",
       "    </thead>\n",
       "    <tbody>\n",
       "        <tr>\n",
       "            <td>afg </td> <td>1800</td> <td>468.58                               </td>\n",
       "        </tr>\n",
       "        <tr>\n",
       "            <td>afg </td> <td>1801</td> <td>468.58                               </td>\n",
       "        </tr>\n",
       "        <tr>\n",
       "            <td>afg </td> <td>1802</td> <td>468.58                               </td>\n",
       "        </tr>\n",
       "    </tbody>\n",
       "</table>\n",
       "<p>... (41734 rows omitted)</p>"
      ],
      "text/plain": [
       "<IPython.core.display.HTML object>"
      ]
     },
     "metadata": {},
     "output_type": "display_data"
    }
   ],
   "source": [
    "child_mortality.show(3)"
   ]
  },
  {
   "cell_type": "code",
   "execution_count": 102,
   "metadata": {},
   "outputs": [
    {
     "data": {
      "text/html": [
       "<table border=\"1\" class=\"dataframe\">\n",
       "    <thead>\n",
       "        <tr>\n",
       "            <th>geo</th> <th>time</th> <th>children_per_woman_total_fertility</th>\n",
       "        </tr>\n",
       "    </thead>\n",
       "    <tbody>\n",
       "        <tr>\n",
       "            <td>abw </td> <td>1800</td> <td>5.64                              </td>\n",
       "        </tr>\n",
       "        <tr>\n",
       "            <td>abw </td> <td>1801</td> <td>5.64                              </td>\n",
       "        </tr>\n",
       "        <tr>\n",
       "            <td>abw </td> <td>1802</td> <td>5.64                              </td>\n",
       "        </tr>\n",
       "    </tbody>\n",
       "</table>\n",
       "<p>... (44632 rows omitted)</p>"
      ],
      "text/plain": [
       "<IPython.core.display.HTML object>"
      ]
     },
     "metadata": {},
     "output_type": "display_data"
    }
   ],
   "source": [
    "fertility.show(3)"
   ]
  },
  {
   "cell_type": "markdown",
   "metadata": {},
   "source": [
    "<!-- BEGIN QUESTION -->\n",
    "\n",
    "**Question 3.** Is population growing more slowly perhaps because people aren’t living as long? Use the `life_expectancy` table to draw a line graph with the years 1950 and later on the horizontal axis that shows how the _life expectancy at birth_ has changed in Poland.\n",
    "\n",
    "_Hint_: Make sure you filter the table properly; otherwise, the graph may look funky!\n"
   ]
  },
  {
   "cell_type": "code",
   "execution_count": 103,
   "metadata": {
    "deletable": false,
    "manual_grade": true,
    "manual_problem_id": "global_pop_3",
    "tags": []
   },
   "outputs": [
    {
     "data": {
      "image/png": "[encoded data removed]",
      "text/plain": [
       "<Figure size 600x600 with 1 Axes>"
      ]
     },
     "metadata": {},
     "output_type": "display_data"
    }
   ],
   "source": [
    "# Fill in code here\n",
    "life_expectancy_at_birth_pol = life_expectancy.select(\"time\", \"life_expectancy_years\").where(life_expectancy.column(\"geo\"), are.containing(\"pol\")).where(\"time\", are.above_or_equal_to(1950))\n",
    "life_expectancy_at_birth_pol.plot(\"time\", \"life_expectancy_years\")"
   ]
  },
  {
   "cell_type": "markdown",
   "metadata": {},
   "source": [
    "<!-- END QUESTION -->\n",
    "\n",
    "<!-- BEGIN QUESTION -->\n",
    "\n",
    "**Question 4.** Assuming everything else stays the same, do the trends in life expectancy in the graph above directly explain why the population growth rate decreased since 1950 in Poland? Why or why not?\n"
   ]
  },
  {
   "cell_type": "markdown",
   "metadata": {},
   "source": [
    "_No I do not think the trends in life expectancy directly explain why the population growth rate decreased. Normally when you see an upward trend in life expectency, an increase in population growth rate is seen as well._"
   ]
  },
  {
   "cell_type": "markdown",
   "metadata": {
    "deletable": false,
    "editable": false
   },
   "source": [
    "<!-- END QUESTION -->\n",
    "\n",
    "The `fertility` table contains a statistic that is often used to measure how many babies are being born, the _total fertility rate_. This number describes the [number of children a woman would have in her lifetime](https://www.measureevaluation.org/prh/rh_indicators/specific/fertility/total-fertility-rate), on average, if the current rates of birth by age of the mother persisted throughout her child bearing years, assuming she survived through age 49.\n"
   ]
  },
  {
   "cell_type": "markdown",
   "metadata": {},
   "source": [
    "**Question 5.** Complete the function `fertility_over_time`. It takes two input arguments, the Alpha-3 code of a country (denoted as `country_code`) and a year to `start` from (denoted as start). It returns a two-column table with the column labels `Year` and `Children per woman`. These columns can be used to generate a line chart of the country’s fertility rate each year, starting from the year given by `start`. The plot should include the start year and all later years that appear in the fertility table.\n",
    "\n",
    "Then, determine the Alpha-3 code for **Poland**. The code at the very bottom for `poland_code` and the year `1950` are inputted to your `fertility_over_time` function. The function returns a table which we use in order to plot how Poland's fertility rate has changed since `1950`. Note that the function `fertility_over_time` should not return the plot itself – it returns a two column table. The expression that draws the line plot is provided for you; please don’t change it.\n",
    "\n",
    "_Hint_: Read about `tbl.relabeled` in the [Python Reference](https://www.data8.org/su24/reference/) to rename columns.\n"
   ]
  },
  {
   "cell_type": "code",
   "execution_count": 104,
   "metadata": {
    "deletable": false,
    "tags": []
   },
   "outputs": [
    {
     "data": {
      "text/html": [
       "<table border=\"1\" class=\"dataframe\">\n",
       "    <thead>\n",
       "        <tr>\n",
       "            <th>Year</th> <th>Children per woman</th>\n",
       "        </tr>\n",
       "    </thead>\n",
       "    <tbody>\n",
       "        <tr>\n",
       "            <td>1950</td> <td>3.6               </td>\n",
       "        </tr>\n",
       "        <tr>\n",
       "            <td>1951</td> <td>3.62              </td>\n",
       "        </tr>\n",
       "        <tr>\n",
       "            <td>1952</td> <td>3.64              </td>\n",
       "        </tr>\n",
       "        <tr>\n",
       "            <td>1953</td> <td>3.65              </td>\n",
       "        </tr>\n",
       "        <tr>\n",
       "            <td>1954</td> <td>3.64              </td>\n",
       "        </tr>\n",
       "        <tr>\n",
       "            <td>1955</td> <td>3.6               </td>\n",
       "        </tr>\n",
       "        <tr>\n",
       "            <td>1956</td> <td>3.55              </td>\n",
       "        </tr>\n",
       "        <tr>\n",
       "            <td>1957</td> <td>3.47              </td>\n",
       "        </tr>\n",
       "        <tr>\n",
       "            <td>1958</td> <td>3.37              </td>\n",
       "        </tr>\n",
       "        <tr>\n",
       "            <td>1959</td> <td>3.25              </td>\n",
       "        </tr>\n",
       "    </tbody>\n",
       "</table>\n",
       "<p>... (61 rows omitted)</p>"
      ],
      "text/plain": [
       "Year | Children per woman\n",
       "1950 | 3.6\n",
       "1951 | 3.62\n",
       "1952 | 3.64\n",
       "1953 | 3.65\n",
       "1954 | 3.64\n",
       "1955 | 3.6\n",
       "1956 | 3.55\n",
       "1957 | 3.47\n",
       "1958 | 3.37\n",
       "1959 | 3.25\n",
       "... (61 rows omitted)"
      ]
     },
     "execution_count": 104,
     "metadata": {},
     "output_type": "execute_result"
    }
   ],
   "source": [
    "def fertility_over_time(country_code, start):\n",
    "    \"\"\"Create a two-column table that describes a country's total fertility rate each year.\"\"\"\n",
    "    # It's a good idea (but not required) to use multiple lines in your solution.\n",
    "    fertility_rate = fertility\n",
    "    fertility_rate = fertility_rate.where(\"geo\", are.containing(country_code)).where(\"time\", are.above_or_equal_to(start)).drop(\"geo\").relabeled(\"time\", \"Year\").relabeled(\"children_per_woman_total_fertility\", \"Children per woman\")\n",
    "    return fertility_rate\n",
    "\n",
    "poland_code = \"pol\"\n",
    "fertility_over_time(poland_code, 1950)"
   ]
  },
  {
   "cell_type": "code",
   "execution_count": 105,
   "metadata": {
    "deletable": false,
    "editable": false
   },
   "outputs": [
    {
     "data": {
      "text/html": [
       "<p><strong><pre style='display: inline;'>q1_5</pre></strong> passed! 🌈</p>"
      ],
      "text/plain": [
       "q1_5 results: All test cases passed!"
      ]
     },
     "execution_count": 105,
     "metadata": {},
     "output_type": "execute_result"
    }
   ],
   "source": [
    "grader.check(\"q1_5\")"
   ]
  },
  {
   "cell_type": "markdown",
   "metadata": {},
   "source": [
    "Plotting the fertility rate in Poland since 1950, we see a downward trend.\n"
   ]
  },
  {
   "cell_type": "code",
   "execution_count": 106,
   "metadata": {},
   "outputs": [
    {
     "data": {
      "image/png": "[encoded data removed]",
      "text/plain": [
       "<Figure size 600x600 with 1 Axes>"
      ]
     },
     "metadata": {},
     "output_type": "display_data"
    }
   ],
   "source": [
    "fertility_over_time(poland_code, 1950).plot(0, 1)"
   ]
  },
  {
   "cell_type": "markdown",
   "metadata": {},
   "source": [
    "<!-- BEGIN QUESTION -->\n",
    "\n",
    "**Question 6.** Assuming everything else is constant, do the trends in fertility in the graph above help directly explain why the population growth rate decreased from 1950 to 2020 in Poland? Why or why not?\n"
   ]
  },
  {
   "cell_type": "markdown",
   "metadata": {},
   "source": [
    "_Yes, I think the trends in fertility do help directly explain why the population growth rate decreased. As the years past, women were not having as many children which would result in lower population numbers than years prior._"
   ]
  },
  {
   "cell_type": "markdown",
   "metadata": {
    "deletable": false
   },
   "source": [
    "<!-- END QUESTION -->\n",
    "\n",
    "It has been [observed](https://www.ageing.ox.ac.uk/download/143) that lower fertility rates are often associated with lower child mortality rates. We can see if this association is evident in Poland by plotting the relationship between total fertility rate and [child mortality rate per 1000 children](https://en.wikipedia.org/wiki/Child_mortality).\n"
   ]
  },
  {
   "cell_type": "markdown",
   "metadata": {},
   "source": [
    "**Question 7.** Create a table `poland_since_1950` that contains one row per year starting with 1950 and:\n",
    "\n",
    "- A column `Year` containing the year\n",
    "- A column `Children per woman` describing total fertility in Poland that year\n",
    "- A column `Child deaths per 1000 born` describing child mortality in Poland that year\n"
   ]
  },
  {
   "cell_type": "code",
   "execution_count": 107,
   "metadata": {
    "deletable": false,
    "scrolled": false,
    "tags": []
   },
   "outputs": [
    {
     "data": {
      "text/html": [
       "<table border=\"1\" class=\"dataframe\">\n",
       "    <thead>\n",
       "        <tr>\n",
       "            <th>Year</th> <th>Children per woman</th> <th>Child deaths per 1000 born</th>\n",
       "        </tr>\n",
       "    </thead>\n",
       "    <tbody>\n",
       "        <tr>\n",
       "            <td>1950</td> <td>3.6               </td> <td>164.08                    </td>\n",
       "        </tr>\n",
       "        <tr>\n",
       "            <td>1951</td> <td>3.62              </td> <td>177.18                    </td>\n",
       "        </tr>\n",
       "        <tr>\n",
       "            <td>1952</td> <td>3.64              </td> <td>140.16                    </td>\n",
       "        </tr>\n",
       "        <tr>\n",
       "            <td>1953</td> <td>3.65              </td> <td>127.65                    </td>\n",
       "        </tr>\n",
       "        <tr>\n",
       "            <td>1954</td> <td>3.64              </td> <td>118.9                     </td>\n",
       "        </tr>\n",
       "        <tr>\n",
       "            <td>1955</td> <td>3.6               </td> <td>110.38                    </td>\n",
       "        </tr>\n",
       "        <tr>\n",
       "            <td>1956</td> <td>3.55              </td> <td>94.19                     </td>\n",
       "        </tr>\n",
       "        <tr>\n",
       "            <td>1957</td> <td>3.47              </td> <td>86.72                     </td>\n",
       "        </tr>\n",
       "        <tr>\n",
       "            <td>1958</td> <td>3.37              </td> <td>81.28                     </td>\n",
       "        </tr>\n",
       "        <tr>\n",
       "            <td>1959</td> <td>3.25              </td> <td>72.1                      </td>\n",
       "        </tr>\n",
       "    </tbody>\n",
       "</table>\n",
       "<p>... (61 rows omitted)</p>"
      ],
      "text/plain": [
       "Year | Children per woman | Child deaths per 1000 born\n",
       "1950 | 3.6                | 164.08\n",
       "1951 | 3.62               | 177.18\n",
       "1952 | 3.64               | 140.16\n",
       "1953 | 3.65               | 127.65\n",
       "1954 | 3.64               | 118.9\n",
       "1955 | 3.6                | 110.38\n",
       "1956 | 3.55               | 94.19\n",
       "1957 | 3.47               | 86.72\n",
       "1958 | 3.37               | 81.28\n",
       "1959 | 3.25               | 72.1\n",
       "... (61 rows omitted)"
      ]
     },
     "execution_count": 107,
     "metadata": {},
     "output_type": "execute_result"
    }
   ],
   "source": [
    "pol_fertility = fertility_over_time(poland_code, 1950)  # Try starting with the table you built already!\n",
    "# It's a good idea (but not required) to use multiple lines in your solution.\n",
    "pol_child_mortality = child_mortality.select(\"time\", \"child_mortality_under_5_per_1000_born\").where(child_mortality.column(\"geo\"), are.containing(\"pol\")).where(\"time\", are.above_or_equal_to(1950)).column(\"child_mortality_under_5_per_1000_born\")\n",
    "pol_fertility_and_child_mortality = pol_fertility.with_column(\"child_mortality_under_5_per_1000_born\", pol_child_mortality)\n",
    "poland_since_1950 = pol_fertility_and_child_mortality.relabeled(\"child_mortality_under_5_per_1000_born\", \"Child deaths per 1000 born\")\n",
    "poland_since_1950"
   ]
  },
  {
   "cell_type": "code",
   "execution_count": 108,
   "metadata": {
    "deletable": false,
    "editable": false
   },
   "outputs": [
    {
     "data": {
      "text/html": [
       "<p><strong><pre style='display: inline;'>q1_7</pre></strong> passed! 🚀</p>"
      ],
      "text/plain": [
       "q1_7 results: All test cases passed!"
      ]
     },
     "execution_count": 108,
     "metadata": {},
     "output_type": "execute_result"
    }
   ],
   "source": [
    "grader.check(\"q1_7\")"
   ]
  },
  {
   "cell_type": "markdown",
   "metadata": {},
   "source": [
    "Run the following cell to generate a scatter plot from the `poland_since_1950` table you created.\n",
    "\n",
    "The plot uses **color** to encode data about the `Year` column. The colors, ranging from dark blue to white, represent the passing of time between 1950 and 2020. For example, a point on the scatter plot representing data from the 1950s would appear as **dark blue** and a point from the 2010s would appear as **light blue**.\n"
   ]
  },
  {
   "cell_type": "code",
   "execution_count": 109,
   "metadata": {},
   "outputs": [
    {
     "data": {
      "image/png": "[encoded data removed]",
      "text/plain": [
       "<Figure size 600x600 with 2 Axes>"
      ]
     },
     "metadata": {},
     "output_type": "display_data"
    }
   ],
   "source": [
    "x_births = poland_since_1950.column(\"Children per woman\")\n",
    "y_deaths = poland_since_1950.column(\"Child deaths per 1000 born\")\n",
    "time_colors = poland_since_1950.column(\"Year\")\n",
    "\n",
    "plots.figure(figsize=(6,6))\n",
    "plots.scatter(x_births, y_deaths, c=time_colors, cmap=\"Blues_r\")\n",
    "plots.colorbar()                  \n",
    "plots.xlabel(\"Children per woman\")\n",
    "plots.ylabel(\"Child deaths per 1000 born\");"
   ]
  },
  {
   "cell_type": "markdown",
   "metadata": {},
   "source": [
    "<!-- BEGIN QUESTION -->\n",
    "\n",
    "**Question 8.** In one or two sentences, describe the association (if any) that is illustrated by this scatter plot. Does the diagram show any causal relation between between fertility and child mortality?\n"
   ]
  },
  {
   "cell_type": "markdown",
   "metadata": {},
   "source": [
    "_I think the diagram does show a little bit of a casual relation between fertility and child mortality because if there are more children being born, then there are more chances of child death, which would increase the child mortality rate._"
   ]
  },
  {
   "cell_type": "markdown",
   "metadata": {},
   "source": [
    "<!-- END QUESTION -->\n",
    "\n",
    "_Optional food for thought_: What other context or information you would need in order to better understand the factors affecting life expectancy, child mortality, and fertility?\n"
   ]
  },
  {
   "cell_type": "markdown",
   "metadata": {},
   "source": [
    "--- \n",
    "\n",
    "To double check your work, the cell below will rerun all of the autograder tests for Section 1. "
   ]
  },
  {
   "cell_type": "code",
   "execution_count": 110,
   "metadata": {},
   "outputs": [
    {
     "data": {
      "text/html": [
       "<p><strong><pre style='display: inline;'>q1_1</pre></strong> passed! 🎉</p>"
      ],
      "text/plain": [
       "q1_1 results: All test cases passed!"
      ]
     },
     "metadata": {},
     "output_type": "display_data"
    },
    {
     "data": {
      "text/html": [
       "<p><strong><pre style='display: inline;'>q1_2</pre></strong> passed! 🌟</p>"
      ],
      "text/plain": [
       "q1_2 results: All test cases passed!"
      ]
     },
     "metadata": {},
     "output_type": "display_data"
    },
    {
     "data": {
      "text/html": [
       "<p><strong><pre style='display: inline;'>q1_5</pre></strong> passed! 🍀</p>"
      ],
      "text/plain": [
       "q1_5 results: All test cases passed!"
      ]
     },
     "metadata": {},
     "output_type": "display_data"
    },
    {
     "data": {
      "text/html": [
       "<p><strong><pre style='display: inline;'>q1_7</pre></strong> passed! 🚀</p>"
      ],
      "text/plain": [
       "q1_7 results: All test cases passed!"
      ]
     },
     "metadata": {},
     "output_type": "display_data"
    }
   ],
   "source": [
    "checkpoint_tests = [\"q1_1\", \"q1_2\", \"q1_5\", \"q1_7\"]\n",
    "for test in checkpoint_tests:\n",
    "    display(grader.check(test))"
   ]
  },
  {
   "cell_type": "markdown",
   "metadata": {
    "deletable": false
   },
   "source": [
    "### The World\n",
    "\n",
    "The changes observed in Poland can also be observed in many other countries: except during periods of extended war, famine, and social chaos, health services generally improve, life expectancy increases, and child mortality decreases. At the same time, the fertility rate often plummets, and where it does, the population growth rate decreases despite increasing longevity."
   ]
  },
  {
   "cell_type": "markdown",
   "metadata": {
    "deletable": false
   },
   "source": [
    "Run the cell below to generate two overlaid histograms, one for 1962 and one for 2010, that show the distributions of total fertility rates for these two years among all 201 countries in the `fertility` table."
   ]
  },
  {
   "cell_type": "code",
   "execution_count": 111,
   "metadata": {
    "deletable": false
   },
   "outputs": [
    {
     "data": {
      "image/png": "[encoded data removed]",
      "text/plain": [
       "<Figure size 600x400 with 1 Axes>"
      ]
     },
     "metadata": {},
     "output_type": "display_data"
    }
   ],
   "source": [
    "Table().with_columns( \n",
    "    '1962', fertility.where('time', 1962).column(2),\n",
    "    '2010', fertility.where('time', 2010).column(2)\n",
    ").hist(bins=np.arange(0, 10, 0.5), unit='child per woman')\n",
    "_ = plots.xlabel('Children per woman')\n",
    "_ = plots.ylabel('Percent per children per woman')\n",
    "_ = plots.xticks(np.arange(10))"
   ]
  },
  {
   "cell_type": "markdown",
   "metadata": {},
   "source": [
    "**Question 9.** Assign `fertility_statements` to an **array** of the numbers of each statement below that can be correctly inferred from these histograms.\n",
    "\n",
    "1. About the same number of countries had a fertility rate between 3.5 and 4.5 in both 1962 and 2010.\n",
    "1. In 1962, less than 20% of countries had a fertility rate below 3.\n",
    "1. At least half of countries had a fertility rate between 5 and 8 in 1962.\n",
    "1. In 2010, about 40% of countries had a fertility rate between 1.5 and 2.\n",
    "1. At least half of countries had a fertility rate below 3 in 2010.\n",
    "1. More countries had a fertility rate above 3 in 1962 than in 2010.\n"
   ]
  },
  {
   "cell_type": "code",
   "execution_count": 112,
   "metadata": {
    "deletable": false,
    "tags": []
   },
   "outputs": [],
   "source": [
    "fertility_statements = make_array(1, 3, 4, 5, 6)"
   ]
  },
  {
   "cell_type": "code",
   "execution_count": 113,
   "metadata": {
    "deletable": false,
    "editable": false
   },
   "outputs": [
    {
     "data": {
      "text/html": [
       "<p><strong><pre style='display: inline;'>q1_9</pre></strong> passed! 🍀</p>"
      ],
      "text/plain": [
       "q1_9 results: All test cases passed!"
      ]
     },
     "execution_count": 113,
     "metadata": {},
     "output_type": "execute_result"
    }
   ],
   "source": [
    "grader.check(\"q1_9\")"
   ]
  },
  {
   "cell_type": "markdown",
   "metadata": {},
   "source": [
    "<!-- BEGIN QUESTION -->\n",
    "\n",
    "**Question 10.** Draw a line plot of the **world population** from 1800 through 2020 (inclusive of both endpoints). The world population is the sum of all of the countries' populations. You should use the `population` table defined earlier in the project. \n"
   ]
  },
  {
   "cell_type": "code",
   "execution_count": 114,
   "metadata": {
    "deletable": false,
    "manual_grade": true,
    "manual_problem_id": "global_pop_10",
    "tags": []
   },
   "outputs": [
    {
     "data": {
      "text/html": [
       "<table border=\"1\" class=\"dataframe\">\n",
       "    <thead>\n",
       "        <tr>\n",
       "            <th>time</th> <th>population_total sum</th>\n",
       "        </tr>\n",
       "    </thead>\n",
       "    <tbody>\n",
       "        <tr>\n",
       "            <td>1800</td> <td>984198691           </td>\n",
       "        </tr>\n",
       "        <tr>\n",
       "            <td>1801</td> <td>987628322           </td>\n",
       "        </tr>\n",
       "        <tr>\n",
       "            <td>1802</td> <td>991098738           </td>\n",
       "        </tr>\n",
       "        <tr>\n",
       "            <td>1803</td> <td>994610260           </td>\n",
       "        </tr>\n",
       "        <tr>\n",
       "            <td>1804</td> <td>998163240           </td>\n",
       "        </tr>\n",
       "        <tr>\n",
       "            <td>1805</td> <td>1001758044          </td>\n",
       "        </tr>\n",
       "        <tr>\n",
       "            <td>1806</td> <td>1005395067          </td>\n",
       "        </tr>\n",
       "        <tr>\n",
       "            <td>1807</td> <td>1009074742          </td>\n",
       "        </tr>\n",
       "        <tr>\n",
       "            <td>1808</td> <td>1012797513          </td>\n",
       "        </tr>\n",
       "        <tr>\n",
       "            <td>1809</td> <td>1016563866          </td>\n",
       "        </tr>\n",
       "    </tbody>\n",
       "</table>\n",
       "<p>... (211 rows omitted)</p>"
      ],
      "text/plain": [
       "time | population_total sum\n",
       "1800 | 984198691\n",
       "1801 | 987628322\n",
       "1802 | 991098738\n",
       "1803 | 994610260\n",
       "1804 | 998163240\n",
       "1805 | 1001758044\n",
       "1806 | 1005395067\n",
       "1807 | 1009074742\n",
       "1808 | 1012797513\n",
       "1809 | 1016563866\n",
       "... (211 rows omitted)"
      ]
     },
     "execution_count": 114,
     "metadata": {},
     "output_type": "execute_result"
    }
   ],
   "source": [
    "#Fill in code here\n",
    "def full_array(array):\n",
    "    '''Returns the sum of the array that is passed through'''\n",
    "    return array\n",
    "\n",
    "world_pop_1800_thru_2020 = population.select(\"time\", \"population_total\").sort(\"time\")\n",
    "world_pop_1800_thru_2020 = world_pop_1800_thru_2020.group(\"time\", full_array).relabeled(\"population_total full_array\", \"population_total\").group(\"time\", np.sum)\n",
    "world_pop_1800_thru_2020"
   ]
  },
  {
   "attachments": {},
   "cell_type": "markdown",
   "metadata": {},
   "source": [
    "<!-- END QUESTION -->\n",
    "\n",
    "**Question 11.** Create a function `stats_for_year` that takes a `year` and returns a table of statistics. The table it returns should have four columns: `geo`, `population_total`, `children_per_woman_total_fertility`, and `child_mortality_under_5_per_1000_born`. Each row should contain one unique Alpha-3 country code and three statistics: population, fertility rate, and child mortality for that `year` from the `population`, `fertility` and `child_mortality` tables. Only include rows for which all three statistics are available for the country and year.\n",
    "\n",
    "In addition, restrict the result to country codes that appears in `big_50`, an array of the 50 most populous countries in 2020. This restriction will speed up computations later in the project.\n",
    "\n",
    "After you write `stats_for_year`, try calling `stats_for_year` on any year between 1960 and 2020. Try to understand the output of stats_for_year.\n",
    "\n",
    "*Hint*: The tests for this question are quite comprehensive, so if you pass the tests, your function is probably correct. However, without calling your function yourself and looking at the output, it will be very difficult to understand any problems you have, so try your best to write the function correctly and check that it works before you rely on the `grader` tests to confirm your work.\n",
    "\n",
    "*Hint*: What do all three tables have in common (pay attention to column names)?\n",
    "\n",
    "*Hint*: Create additional cells before directly writing the function.\n"
   ]
  },
  {
   "cell_type": "code",
   "execution_count": 115,
   "metadata": {
    "deletable": false,
    "tags": []
   },
   "outputs": [
    {
     "data": {
      "text/html": [
       "<table border=\"1\" class=\"dataframe\">\n",
       "    <thead>\n",
       "        <tr>\n",
       "            <th>geo</th> <th>population_total</th> <th>children_per_woman_total_fertility</th> <th>child_mortality_under_5_per_1000_born</th>\n",
       "        </tr>\n",
       "    </thead>\n",
       "    <tbody>\n",
       "        <tr>\n",
       "            <td>afg </td> <td>8996967         </td> <td>7.45                              </td> <td>356.9                                </td>\n",
       "        </tr>\n",
       "        <tr>\n",
       "            <td>ago </td> <td>5454938         </td> <td>7.48                              </td> <td>308.45                               </td>\n",
       "        </tr>\n",
       "        <tr>\n",
       "            <td>arg </td> <td>20481781        </td> <td>3.11                              </td> <td>73.28                                </td>\n",
       "        </tr>\n",
       "        <tr>\n",
       "            <td>bgd </td> <td>48013505        </td> <td>6.73                              </td> <td>260.24                               </td>\n",
       "        </tr>\n",
       "        <tr>\n",
       "            <td>bra </td> <td>72179235        </td> <td>6.21                              </td> <td>169.18                               </td>\n",
       "        </tr>\n",
       "        <tr>\n",
       "            <td>can </td> <td>17847404        </td> <td>3.88                              </td> <td>32.6                                 </td>\n",
       "        </tr>\n",
       "        <tr>\n",
       "            <td>chn </td> <td>660408054       </td> <td>3.99                              </td> <td>308.99                               </td>\n",
       "        </tr>\n",
       "        <tr>\n",
       "            <td>cod </td> <td>15248256        </td> <td>6                                 </td> <td>273.92                               </td>\n",
       "        </tr>\n",
       "        <tr>\n",
       "            <td>col </td> <td>16057714        </td> <td>6.81                              </td> <td>135.64                               </td>\n",
       "        </tr>\n",
       "        <tr>\n",
       "            <td>deu </td> <td>73414229        </td> <td>2.4                               </td> <td>40.47                                </td>\n",
       "        </tr>\n",
       "    </tbody>\n",
       "</table>\n",
       "<p>... (40 rows omitted)</p>"
      ],
      "text/plain": [
       "geo  | population_total | children_per_woman_total_fertility | child_mortality_under_5_per_1000_born\n",
       "afg  | 8996967          | 7.45                               | 356.9\n",
       "ago  | 5454938          | 7.48                               | 308.45\n",
       "arg  | 20481781         | 3.11                               | 73.28\n",
       "bgd  | 48013505         | 6.73                               | 260.24\n",
       "bra  | 72179235         | 6.21                               | 169.18\n",
       "can  | 17847404         | 3.88                               | 32.6\n",
       "chn  | 660408054        | 3.99                               | 308.99\n",
       "cod  | 15248256         | 6                                  | 273.92\n",
       "col  | 16057714         | 6.81                               | 135.64\n",
       "deu  | 73414229         | 2.4                                | 40.47\n",
       "... (40 rows omitted)"
      ]
     },
     "execution_count": 115,
     "metadata": {},
     "output_type": "execute_result"
    }
   ],
   "source": [
    "# We first create a population table that only includes the \n",
    "# 50 countries with the largest 2020 populations. We focus on \n",
    "# these 50 countries only so that plotting later will run faster.\n",
    "big_50 = population.where('time', are.equal_to(2020)).sort(\"population_total\", descending=True).take(np.arange(50)).column('geo')\n",
    "population_of_big_50 = population.where('time', are.above(1959)).where('geo', are.contained_in(big_50))\n",
    "\n",
    "def stats_for_year(year):\n",
    "    \"\"\"Return a table of the stats for each country that year.\"\"\"\n",
    "    p = population_of_big_50.where('time', are.equal_to(year)).drop('time')\n",
    "    f = fertility.where('time', are.equal_to(year)).drop('time')\n",
    "    c = child_mortality.where('time', are.equal_to(year)).drop('time')\n",
    "    return Table().with_columns(\"geo\", np.sort(big_50), \"population_total\", p.column(\"population_total\"),\n",
    "                                \"children_per_woman_total_fertility\", f.where(\"geo\", are.contained_in(big_50)).column(\"children_per_woman_total_fertility\"),\n",
    "                                \"child_mortality_under_5_per_1000_born\", c.where(\"geo\", are.contained_in(big_50)).column(\"child_mortality_under_5_per_1000_born\"))\n",
    "    \n",
    "stats_for_year(1960)"
   ]
  },
  {
   "cell_type": "code",
   "execution_count": 116,
   "metadata": {
    "deletable": false,
    "editable": false
   },
   "outputs": [
    {
     "data": {
      "text/html": [
       "<p><strong><pre style='display: inline;'>q1_11</pre></strong> passed! 🌟</p>"
      ],
      "text/plain": [
       "q1_11 results: All test cases passed!"
      ]
     },
     "execution_count": 116,
     "metadata": {},
     "output_type": "execute_result"
    }
   ],
   "source": [
    "grader.check(\"q1_11\")"
   ]
  },
  {
   "cell_type": "markdown",
   "metadata": {},
   "source": [
    "**Question 12.** Create a table called `pop_by_decade` with two columns called `decade` and `population`, in this order. It has a row for each year that starts a decade, in increasing order starting with 1960 and ending with 2020. For example, 1960 is the start of the 1960's decade. The `population` column contains the total population of all countries included in the result of `stats_for_year(year)` for the first `year` of the decade. You should see that these countries contain most of the world's population.\n",
    "\n",
    "*Hint:* One approach is to define a function `pop_for_year` that computes this total population, then `apply` it to the `decade` column.  **Think about how you can use the `stats_for_year` function** from the previous question if you want to implement `pop_for_year`.\n",
    "\n",
    "This first test is just a sanity check for your helper function if you choose to use it. **You will not lose points for not implementing the function `pop_for_year`**.\n",
    "\n",
    "**Note:** The cell where you will generate the `pop_by_decade` table is below the cell where you can choose to define the helper function `pop_for_year`. You should define your `pop_by_decade` table in the cell that starts with the table `decades` being defined. \n"
   ]
  },
  {
   "cell_type": "code",
   "execution_count": 117,
   "metadata": {
    "tags": []
   },
   "outputs": [
    {
     "data": {
      "text/plain": [
       "2635123897"
      ]
     },
     "execution_count": 117,
     "metadata": {},
     "output_type": "execute_result"
    }
   ],
   "source": [
    "def pop_for_year(year):\n",
    "    \"\"\"Return the total population for the specified year.\"\"\"\n",
    "    return np.sum(stats_for_year(year).column(\"population_total\"))\n",
    "\n",
    "pop_for_year(1960)"
   ]
  },
  {
   "cell_type": "code",
   "execution_count": 118,
   "metadata": {
    "deletable": false,
    "editable": false
   },
   "outputs": [
    {
     "data": {
      "text/html": [
       "<p><strong><pre style='display: inline;'>q1_12_0</pre></strong> passed! ✨</p>"
      ],
      "text/plain": [
       "q1_12_0 results: All test cases passed!"
      ]
     },
     "execution_count": 118,
     "metadata": {},
     "output_type": "execute_result"
    }
   ],
   "source": [
    "grader.check(\"q1_12_0\")"
   ]
  },
  {
   "cell_type": "markdown",
   "metadata": {},
   "source": [
    "Now that you've defined your helper function (if you've chosen to do so), define the `pop_by_decade` table.\n"
   ]
  },
  {
   "cell_type": "code",
   "execution_count": 119,
   "metadata": {
    "deletable": false,
    "tags": []
   },
   "outputs": [
    {
     "data": {
      "text/html": [
       "<table border=\"1\" class=\"dataframe\">\n",
       "    <thead>\n",
       "        <tr>\n",
       "            <th>decade</th> <th>population</th>\n",
       "        </tr>\n",
       "    </thead>\n",
       "    <tbody>\n",
       "        <tr>\n",
       "            <td>1960  </td> <td>2,635,123,897</td>\n",
       "        </tr>\n",
       "        <tr>\n",
       "            <td>1970  </td> <td>3,221,457,416</td>\n",
       "        </tr>\n",
       "        <tr>\n",
       "            <td>1980  </td> <td>3,890,044,418</td>\n",
       "        </tr>\n",
       "        <tr>\n",
       "            <td>1990  </td> <td>4,656,339,803</td>\n",
       "        </tr>\n",
       "        <tr>\n",
       "            <td>2000  </td> <td>5,377,062,169</td>\n",
       "        </tr>\n",
       "        <tr>\n",
       "            <td>2010  </td> <td>6,064,674,132</td>\n",
       "        </tr>\n",
       "        <tr>\n",
       "            <td>2020  </td> <td>6,765,161,289</td>\n",
       "        </tr>\n",
       "    </tbody>\n",
       "</table>"
      ],
      "text/plain": [
       "decade | population\n",
       "1960   | 2,635,123,897\n",
       "1970   | 3,221,457,416\n",
       "1980   | 3,890,044,418\n",
       "1990   | 4,656,339,803\n",
       "2000   | 5,377,062,169\n",
       "2010   | 6,064,674,132\n",
       "2020   | 6,765,161,289"
      ]
     },
     "execution_count": 119,
     "metadata": {},
     "output_type": "execute_result"
    }
   ],
   "source": [
    "decades = Table().with_column('decade', np.arange(1960, 2021, 10))\n",
    "decade_total_pop = decades.apply(pop_for_year, \"decade\")\n",
    "\n",
    "pop_by_decade = decades.with_column(\"population\", decade_total_pop)\n",
    "pop_by_decade.set_format(1, NumberFormatter)"
   ]
  },
  {
   "cell_type": "code",
   "execution_count": 120,
   "metadata": {
    "deletable": false,
    "editable": false
   },
   "outputs": [
    {
     "data": {
      "text/html": [
       "<p><strong><pre style='display: inline;'>q1_12</pre></strong> passed! 💯</p>"
      ],
      "text/plain": [
       "q1_12 results: All test cases passed!"
      ]
     },
     "execution_count": 120,
     "metadata": {},
     "output_type": "execute_result"
    }
   ],
   "source": [
    "grader.check(\"q1_12\")"
   ]
  },
  {
   "cell_type": "markdown",
   "metadata": {
    "deletable": false,
    "editable": false
   },
   "source": [
    "The `countries` table describes various characteristics of countries. The `country` column contains the same codes as the `geo` column in each of the other data tables (`population`, `fertility`, and `child_mortality`). The `world_6region` column classifies each country into a region of the world. Run the cell below to inspect the data."
   ]
  },
  {
   "cell_type": "code",
   "execution_count": 121,
   "metadata": {},
   "outputs": [
    {
     "data": {
      "text/html": [
       "<table border=\"1\" class=\"dataframe\">\n",
       "    <thead>\n",
       "        <tr>\n",
       "            <th>country</th> <th>name</th> <th>world_6region</th>\n",
       "        </tr>\n",
       "    </thead>\n",
       "    <tbody>\n",
       "        <tr>\n",
       "            <td>afg    </td> <td>Afghanistan         </td> <td>south_asia              </td>\n",
       "        </tr>\n",
       "        <tr>\n",
       "            <td>ago    </td> <td>Angola              </td> <td>sub_saharan_africa      </td>\n",
       "        </tr>\n",
       "        <tr>\n",
       "            <td>alb    </td> <td>Albania             </td> <td>europe_central_asia     </td>\n",
       "        </tr>\n",
       "        <tr>\n",
       "            <td>and    </td> <td>Andorra             </td> <td>europe_central_asia     </td>\n",
       "        </tr>\n",
       "        <tr>\n",
       "            <td>are    </td> <td>United Arab Emirates</td> <td>middle_east_north_africa</td>\n",
       "        </tr>\n",
       "        <tr>\n",
       "            <td>arg    </td> <td>Argentina           </td> <td>america                 </td>\n",
       "        </tr>\n",
       "        <tr>\n",
       "            <td>arm    </td> <td>Armenia             </td> <td>europe_central_asia     </td>\n",
       "        </tr>\n",
       "        <tr>\n",
       "            <td>atg    </td> <td>Antigua and Barbuda </td> <td>america                 </td>\n",
       "        </tr>\n",
       "        <tr>\n",
       "            <td>aus    </td> <td>Australia           </td> <td>east_asia_pacific       </td>\n",
       "        </tr>\n",
       "        <tr>\n",
       "            <td>aut    </td> <td>Austria             </td> <td>europe_central_asia     </td>\n",
       "        </tr>\n",
       "    </tbody>\n",
       "</table>\n",
       "<p>... (187 rows omitted)</p>"
      ],
      "text/plain": [
       "country | name                 | world_6region\n",
       "afg     | Afghanistan          | south_asia\n",
       "ago     | Angola               | sub_saharan_africa\n",
       "alb     | Albania              | europe_central_asia\n",
       "and     | Andorra              | europe_central_asia\n",
       "are     | United Arab Emirates | middle_east_north_africa\n",
       "arg     | Argentina            | america\n",
       "arm     | Armenia              | europe_central_asia\n",
       "atg     | Antigua and Barbuda  | america\n",
       "aus     | Australia            | east_asia_pacific\n",
       "aut     | Austria              | europe_central_asia\n",
       "... (187 rows omitted)"
      ]
     },
     "execution_count": 121,
     "metadata": {},
     "output_type": "execute_result"
    }
   ],
   "source": [
    "countries = Table.read_table('countries.csv').where('country', are.contained_in(population.group('geo').column('geo')))\n",
    "countries.select('country', 'name', 'world_6region')"
   ]
  },
  {
   "cell_type": "markdown",
   "metadata": {},
   "source": [
    "**Question 13.** Create a table called `region_counts`. It should contain two columns called `region` and `count`. The `region` column should contain regions of the world, and the `count` column should contain the number of countries in each region that appears in the result of `stats_for_year(2020)`. \n",
    "\n",
    "For example, one row would have `south_asia` as its `region` value and an integer as its `count` value: the number of large South Asian countries for which we have population, fertility, and child mortality numbers from 2020.\n",
    "\n",
    "*Hint*: You may have to relabel a column to name it `region`. \n"
   ]
  },
  {
   "cell_type": "code",
   "execution_count": 122,
   "metadata": {
    "deletable": false,
    "tags": []
   },
   "outputs": [
    {
     "data": {
      "text/html": [
       "<table border=\"1\" class=\"dataframe\">\n",
       "    <thead>\n",
       "        <tr>\n",
       "            <th>region</th> <th>count</th>\n",
       "        </tr>\n",
       "    </thead>\n",
       "    <tbody>\n",
       "        <tr>\n",
       "            <td>america                 </td> <td>8    </td>\n",
       "        </tr>\n",
       "        <tr>\n",
       "            <td>east_asia_pacific       </td> <td>9    </td>\n",
       "        </tr>\n",
       "        <tr>\n",
       "            <td>europe_central_asia     </td> <td>10   </td>\n",
       "        </tr>\n",
       "        <tr>\n",
       "            <td>middle_east_north_africa</td> <td>7    </td>\n",
       "        </tr>\n",
       "        <tr>\n",
       "            <td>south_asia              </td> <td>5    </td>\n",
       "        </tr>\n",
       "        <tr>\n",
       "            <td>sub_saharan_africa      </td> <td>11   </td>\n",
       "        </tr>\n",
       "    </tbody>\n",
       "</table>"
      ],
      "text/plain": [
       "region                   | count\n",
       "america                  | 8\n",
       "east_asia_pacific        | 9\n",
       "europe_central_asia      | 10\n",
       "middle_east_north_africa | 7\n",
       "south_asia               | 5\n",
       "sub_saharan_africa       | 11"
      ]
     },
     "execution_count": 122,
     "metadata": {},
     "output_type": "execute_result"
    }
   ],
   "source": [
    "stats_for_2020 = stats_for_year(2020).column(\"geo\")\n",
    "region_counts = countries.select('country', 'name', 'world_6region').where(\"country\", are.contained_in(stats_for_2020)).group(\"world_6region\").relabeled(\"world_6region\", \"region\")\n",
    "region_counts"
   ]
  },
  {
   "cell_type": "code",
   "execution_count": 123,
   "metadata": {
    "deletable": false,
    "editable": false
   },
   "outputs": [
    {
     "data": {
      "text/html": [
       "<p><strong><pre style='display: inline;'>q1_13</pre></strong> passed! 💯</p>"
      ],
      "text/plain": [
       "q1_13 results: All test cases passed!"
      ]
     },
     "execution_count": 123,
     "metadata": {},
     "output_type": "execute_result"
    }
   ],
   "source": [
    "grader.check(\"q1_13\")"
   ]
  },
  {
   "cell_type": "markdown",
   "metadata": {
    "deletable": false
   },
   "source": [
    "The following scatter diagram compares total fertility rate and child mortality rate for each country in 1960. The area of each dot represents the population of the country, and the color represents its region of the world. Run the cell. Do you think you can identify any of the dots?"
   ]
  },
  {
   "cell_type": "code",
   "execution_count": 124,
   "metadata": {
    "deletable": false
   },
   "outputs": [
    {
     "data": {
      "image/png": "[encoded data removed]",
      "text/plain": [
       "<Figure size 500x500 with 1 Axes>"
      ]
     },
     "metadata": {},
     "output_type": "display_data"
    }
   ],
   "source": [
    "from functools import lru_cache as cache\n",
    "\n",
    "# This cache annotation makes sure that if the same year\n",
    "# is passed as an argument twice, the work of computing\n",
    "# the result is only carried out once.\n",
    "@cache(None)\n",
    "def stats_relabeled(year):\n",
    "    \"\"\"Relabeled and cached version of stats_for_year.\"\"\"\n",
    "    return stats_for_year(year).relabel(2, 'Children per woman').relabel(3, 'Child deaths per 1000 born')\n",
    "\n",
    "def fertility_vs_child_mortality(year):\n",
    "    \"\"\"Draw a color scatter diagram comparing child mortality and fertility.\"\"\"\n",
    "    with_region = stats_relabeled(year).join('geo', countries.select('country', 'world_6region'), 'country')\n",
    "    with_region.scatter(2, 3, sizes=1, group=4, s=500)\n",
    "    plots.xlim(0,10)\n",
    "    plots.ylim(-50, 500)\n",
    "    plots.title(year)\n",
    "    plots.show()\n",
    "\n",
    "fertility_vs_child_mortality(1960)"
   ]
  },
  {
   "cell_type": "markdown",
   "metadata": {},
   "source": [
    "**Question 14.** Assign `scatter_statements` to an array of the numbers of each statement below that can be inferred from this scatter diagram for 1960. \n",
    "1. All countries in `europe_central_asia` had uniformly low fertility rates.\n",
    "1. The lowest child mortality rate of any country was from an `east_asia_pacific` country.\n",
    "1. Most countries had a fertility rate above 5.\n",
    "1. There was an association between child mortality and fertility.\n",
    "1. The two largest countries by population also had the two highest child mortality rates.\n"
   ]
  },
  {
   "cell_type": "code",
   "execution_count": 125,
   "metadata": {
    "deletable": false,
    "tags": []
   },
   "outputs": [],
   "source": [
    "scatter_statements = make_array(3)"
   ]
  },
  {
   "cell_type": "code",
   "execution_count": 126,
   "metadata": {
    "deletable": false,
    "editable": false
   },
   "outputs": [
    {
     "data": {
      "text/html": [
       "<p><strong><pre style='display: inline;'>q1_14</pre></strong> passed! 🌈</p>"
      ],
      "text/plain": [
       "q1_14 results: All test cases passed!"
      ]
     },
     "execution_count": 126,
     "metadata": {},
     "output_type": "execute_result"
    }
   ],
   "source": [
    "grader.check(\"q1_14\")"
   ]
  },
  {
   "cell_type": "markdown",
   "metadata": {
    "deletable": false
   },
   "source": [
    "The result of the cell below is interactive. Drag the slider to the right to see how countries have changed over time. You’ll find that in terms of population growth, the divide between the countries of the global North and global South that existed in the 1960s has shrunk significantly. \n",
    "\n",
    "This shift in fertility rates is the reason that the global population is expected to grow more slowly in the 21st century than it did in the 19th and 20th centuries. Fertility rates change for reasons that include cultural patterns, better prospects for children surviving to adulthood, and family planning (such as contraception and women’s greater control over their reproduction).\n",
    "\n",
    "**Note:** Don't worry if a red warning pops up when running the cell below. You'll still be able to run the cell!"
   ]
  },
  {
   "cell_type": "code",
   "execution_count": 127,
   "metadata": {
    "deletable": false,
    "scrolled": true
   },
   "outputs": [
    {
     "data": {
      "application/vnd.jupyter.widget-view+json": {
       "model_id": "fbe638e3f8894618a50c6ecf39d8a889",
       "version_major": 2,
       "version_minor": 0
      },
      "text/plain": [
       "interactive(children=(IntSlider(value=1960, description='year', max=2020, min=1960), Output()), _dom_classes=(…"
      ]
     },
     "metadata": {},
     "output_type": "display_data"
    }
   ],
   "source": [
    "_ = widgets.interact(fertility_vs_child_mortality, \n",
    "                     year=widgets.IntSlider(min=1960, max=2020, value=1960))"
   ]
  },
  {
   "cell_type": "markdown",
   "metadata": {
    "deletable": false,
    "editable": false
   },
   "source": [
    "Now is a great time to take a break and watch the same data presented by [Hans Rosling in a 2010 TEDx talk](https://www.gapminder.org/videos/reducing-child-mortality-a-moral-and-environmental-imperative) with smoother animation and witty commentary."
   ]
  },
  {
   "cell_type": "markdown",
   "metadata": {},
   "source": [
    "When we look at population and fertility as data scientists, we need to learn about the experiences of people in real life, not just abstractly as data. We should also recognize that population studies have sometimes had political undercurrents. Those undercurrents have included population control, control of women’s reproduction, or fears of shifts between racial groups. To do better as data scientists, we should check our assumptions to avoid unthinkingly reproducing past patterns."
   ]
  },
  {
   "cell_type": "markdown",
   "metadata": {
    "deletable": false
   },
   "source": [
    "## 2. Global Poverty"
   ]
  },
  {
   "cell_type": "markdown",
   "metadata": {
    "deletable": false
   },
   "source": [
    "In 1800, 85% of the world's 1 billion people lived in [extreme poverty](https://en.wikipedia.org/wiki/Extreme_poverty), defined by the United Nations as \"a condition characterized by severe deprivation of basic human needs, including food, safe drinking water, sanitation facilities, health, shelter, education and information.\" At the time when the data in this project were gathered, a common definition of extreme poverty was a person living on less than \\$1.25 a day.\n",
    "\n",
    "In 2018, the proportion of people living in extreme poverty was estimated to be [about 9\\%](https://unstats.un.org/sdgs/report/2019/goal-01/). Although the world rate of extreme poverty has declined consistently for hundreds of years, the number of people living in extreme poverty is still over 600 million. The United Nations adopted an [ambitious goal](http://www.un.org/sustainabledevelopment/poverty/): \"By 2030, eradicate extreme poverty for all people everywhere.\"\n",
    "\n",
    "In this part of the project, we will examine some aspects of global poverty that might affect whether the goal is achievable. The causes of poverty are complex. They include global histories, such as colonialism, as well as factors such as health care, economics, and social inequality in each country."
   ]
  },
  {
   "cell_type": "markdown",
   "metadata": {
    "deletable": false,
    "editable": false
   },
   "source": [
    "First, load the population and poverty rate by country and year and the country descriptions. While the `population` table has values for every recent year for many countries, the `poverty` table only includes certain years for each country in which a measurement of the rate of extreme poverty was available."
   ]
  },
  {
   "cell_type": "code",
   "execution_count": 128,
   "metadata": {},
   "outputs": [
    {
     "data": {
      "text/html": [
       "<table border=\"1\" class=\"dataframe\">\n",
       "    <thead>\n",
       "        <tr>\n",
       "            <th>geo</th> <th>time</th> <th>extreme_poverty_percent_people_below_125_a_day</th>\n",
       "        </tr>\n",
       "    </thead>\n",
       "    <tbody>\n",
       "        <tr>\n",
       "            <td>alb </td> <td>1996</td> <td>0.2                                           </td>\n",
       "        </tr>\n",
       "        <tr>\n",
       "            <td>alb </td> <td>2002</td> <td>0.73                                          </td>\n",
       "        </tr>\n",
       "        <tr>\n",
       "            <td>alb </td> <td>2004</td> <td>0.53                                          </td>\n",
       "        </tr>\n",
       "    </tbody>\n",
       "</table>\n",
       "<p>... (1096 rows omitted)</p>"
      ],
      "text/plain": [
       "<IPython.core.display.HTML object>"
      ]
     },
     "metadata": {},
     "output_type": "display_data"
    }
   ],
   "source": [
    "population = Table.read_table('population.csv') \n",
    "countries = Table.read_table('countries.csv').where('country', are.contained_in(population.group('geo').column('geo')))\n",
    "poverty = Table.read_table('poverty.csv')\n",
    "poverty.show(3)"
   ]
  },
  {
   "cell_type": "markdown",
   "metadata": {},
   "source": [
    "**Question 1.** Assign `latest_poverty` to a three-column table with one row for each country that appears in the `poverty` table. The first column should contain the 3-letter code for the country. The second column should contain the most recent year for which an extreme poverty rate is available for the country. The third column should contain the poverty rate in that year. **Do not change the last line, so that the labels of your table are set correctly.**\n",
    "\n",
    "*Hint*: think about how ```group``` works: it does a sequential search of the table (from top to bottom) and collects values in the array in the order in which they appear, and then applies a function to that array. The `first` function may be helpful, but you are not required to use it.\n"
   ]
  },
  {
   "cell_type": "code",
   "execution_count": 129,
   "metadata": {
    "deletable": false,
    "tags": []
   },
   "outputs": [
    {
     "data": {
      "text/html": [
       "<table border=\"1\" class=\"dataframe\">\n",
       "    <thead>\n",
       "        <tr>\n",
       "            <th>geo</th> <th>time</th> <th>poverty_percent</th>\n",
       "        </tr>\n",
       "    </thead>\n",
       "    <tbody>\n",
       "        <tr>\n",
       "            <td>ago </td> <td>2009</td> <td>43.37          </td>\n",
       "        </tr>\n",
       "        <tr>\n",
       "            <td>alb </td> <td>2012</td> <td>0.46           </td>\n",
       "        </tr>\n",
       "        <tr>\n",
       "            <td>arg </td> <td>2011</td> <td>1.41           </td>\n",
       "        </tr>\n",
       "        <tr>\n",
       "            <td>arm </td> <td>2012</td> <td>1.75           </td>\n",
       "        </tr>\n",
       "        <tr>\n",
       "            <td>aus </td> <td>2003</td> <td>1.36           </td>\n",
       "        </tr>\n",
       "        <tr>\n",
       "            <td>aut </td> <td>2004</td> <td>0.34           </td>\n",
       "        </tr>\n",
       "        <tr>\n",
       "            <td>aze </td> <td>2008</td> <td>0.31           </td>\n",
       "        </tr>\n",
       "        <tr>\n",
       "            <td>bdi </td> <td>2006</td> <td>81.32          </td>\n",
       "        </tr>\n",
       "        <tr>\n",
       "            <td>bel </td> <td>2000</td> <td>0.5            </td>\n",
       "        </tr>\n",
       "        <tr>\n",
       "            <td>ben </td> <td>2012</td> <td>51.61          </td>\n",
       "        </tr>\n",
       "    </tbody>\n",
       "</table>\n",
       "<p>... (134 rows omitted)</p>"
      ],
      "text/plain": [
       "geo  | time | poverty_percent\n",
       "ago  | 2009 | 43.37\n",
       "alb  | 2012 | 0.46\n",
       "arg  | 2011 | 1.41\n",
       "arm  | 2012 | 1.75\n",
       "aus  | 2003 | 1.36\n",
       "aut  | 2004 | 0.34\n",
       "aze  | 2008 | 0.31\n",
       "bdi  | 2006 | 81.32\n",
       "bel  | 2000 | 0.5\n",
       "ben  | 2012 | 51.61\n",
       "... (134 rows omitted)"
      ]
     },
     "execution_count": 129,
     "metadata": {},
     "output_type": "execute_result"
    }
   ],
   "source": [
    "def first(values):\n",
    "    return values.item(0)\n",
    "\n",
    "latest_poverty = poverty.select(\"geo\", \"time\", \"extreme_poverty_percent_people_below_125_a_day\").where(\"extreme_poverty_percent_people_below_125_a_day\", are.above(0)).sort(\"time\", descending=True).sort(\"geo\", distinct=True)\n",
    "latest_poverty = latest_poverty.relabeled(0, 'geo').relabeled(1, 'time').relabeled(2, 'poverty_percent') # You should *not* change this line.\n",
    "latest_poverty"
   ]
  },
  {
   "cell_type": "code",
   "execution_count": 130,
   "metadata": {
    "deletable": false,
    "editable": false
   },
   "outputs": [
    {
     "data": {
      "text/html": [
       "<p><strong style='color: red;'><pre style='display: inline;'>q2_1</pre> results:</strong></p><p><strong><pre style='display: inline;'>q2_1 - 1</pre> result:</strong></p><pre>    ✅ Test case passed</pre><p><strong><pre style='display: inline;'>q2_1 - 2</pre> result:</strong></p><pre>    ❌ Test case failed\n",
       "    Trying:\n",
       "        latest_poverty.num_rows\n",
       "    Expecting:\n",
       "        145\n",
       "    **********************************************************************\n",
       "    Line 2, in q2_1 1\n",
       "    Failed example:\n",
       "        latest_poverty.num_rows\n",
       "    Expected:\n",
       "        145\n",
       "    Got:\n",
       "        144\n",
       "</pre>"
      ],
      "text/plain": [
       "q2_1 results:\n",
       "    q2_1 - 1 result:\n",
       "        ✅ Test case passed\n",
       "\n",
       "    q2_1 - 2 result:\n",
       "        ❌ Test case failed\n",
       "        Trying:\n",
       "            latest_poverty.num_rows\n",
       "        Expecting:\n",
       "            145\n",
       "        **********************************************************************\n",
       "        Line 2, in q2_1 1\n",
       "        Failed example:\n",
       "            latest_poverty.num_rows\n",
       "        Expected:\n",
       "            145\n",
       "        Got:\n",
       "            144"
      ]
     },
     "execution_count": 130,
     "metadata": {},
     "output_type": "execute_result"
    }
   ],
   "source": [
    "grader.check(\"q2_1\")"
   ]
  },
  {
   "cell_type": "markdown",
   "metadata": {},
   "source": [
    "**Question 2.** Using both `latest_poverty` and `population`, create a four-column table called `recent_poverty_total` with one row for each country in `latest_poverty`. The four columns should have the following labels and contents:\n",
    "1. `geo` contains the 3-letter country code,\n",
    "1. `poverty_percent` contains the most recent poverty percent,\n",
    "1. `population_total` contains the population of the country in 2010,\n",
    "1. `poverty_total` contains the number of people in poverty **rounded to the nearest integer**, based on the 2010 population and most recent poverty rate.\n",
    "\n",
    "*Hint*: You are not required to use `poverty_and_pop`, and you are always welcome to add any additional names. "
   ]
  },
  {
   "cell_type": "code",
   "execution_count": 131,
   "metadata": {
    "deletable": false,
    "tags": []
   },
   "outputs": [
    {
     "data": {
      "text/html": [
       "<table border=\"1\" class=\"dataframe\">\n",
       "    <thead>\n",
       "        <tr>\n",
       "            <th>geo</th> <th>poverty_percent</th> <th>population_total</th> <th>poverty_total</th>\n",
       "        </tr>\n",
       "    </thead>\n",
       "    <tbody>\n",
       "        <tr>\n",
       "            <td>ago </td> <td>43.37          </td> <td>23356247        </td> <td>1.01296e+07  </td>\n",
       "        </tr>\n",
       "        <tr>\n",
       "            <td>alb </td> <td>0.46           </td> <td>2948029         </td> <td>13560.9      </td>\n",
       "        </tr>\n",
       "        <tr>\n",
       "            <td>arg </td> <td>1.41           </td> <td>40895751        </td> <td>576630       </td>\n",
       "        </tr>\n",
       "        <tr>\n",
       "            <td>arm </td> <td>1.75           </td> <td>2877314         </td> <td>50353        </td>\n",
       "        </tr>\n",
       "        <tr>\n",
       "            <td>aus </td> <td>1.36           </td> <td>22154687        </td> <td>301304       </td>\n",
       "        </tr>\n",
       "        <tr>\n",
       "            <td>aut </td> <td>0.34           </td> <td>8409945         </td> <td>28593.8      </td>\n",
       "        </tr>\n",
       "        <tr>\n",
       "            <td>aze </td> <td>0.31           </td> <td>9032465         </td> <td>28000.6      </td>\n",
       "        </tr>\n",
       "        <tr>\n",
       "            <td>bdi </td> <td>81.32          </td> <td>8675606         </td> <td>7.055e+06    </td>\n",
       "        </tr>\n",
       "        <tr>\n",
       "            <td>bel </td> <td>0.5            </td> <td>10938735        </td> <td>54693.7      </td>\n",
       "        </tr>\n",
       "        <tr>\n",
       "            <td>ben </td> <td>51.61          </td> <td>9199254         </td> <td>4.74773e+06  </td>\n",
       "        </tr>\n",
       "    </tbody>\n",
       "</table>\n",
       "<p>... (134 rows omitted)</p>"
      ],
      "text/plain": [
       "geo  | poverty_percent | population_total | poverty_total\n",
       "ago  | 43.37           | 23356247         | 1.01296e+07\n",
       "alb  | 0.46            | 2948029          | 13560.9\n",
       "arg  | 1.41            | 40895751         | 576630\n",
       "arm  | 1.75            | 2877314          | 50353\n",
       "aus  | 1.36            | 22154687         | 301304\n",
       "aut  | 0.34            | 8409945          | 28593.8\n",
       "aze  | 0.31            | 9032465          | 28000.6\n",
       "bdi  | 81.32           | 8675606          | 7.055e+06\n",
       "bel  | 0.5             | 10938735         | 54693.7\n",
       "ben  | 51.61           | 9199254          | 4.74773e+06\n",
       "... (134 rows omitted)"
      ]
     },
     "execution_count": 131,
     "metadata": {},
     "output_type": "execute_result"
    }
   ],
   "source": [
    "latest_poverty_array = latest_poverty.column(\"geo\")\n",
    "recent_poverty_total = latest_poverty.select(\"geo\", \"poverty_percent\")\n",
    "recent_poverty_total = recent_poverty_total.with_columns(population.select(\"geo\", \"time\", \"population_total\").where(\"geo\", are.contained_in(latest_poverty_array)).where(\"time\", are.equal_to(2010))).drop(\"time\")\n",
    "poverty_population = (recent_poverty_total.column(\"poverty_percent\") / 100) * recent_poverty_total.column(\"population_total\")\n",
    "recent_poverty_total = recent_poverty_total.with_column(\"poverty_total\", poverty_population)\n",
    "recent_poverty_total"
   ]
  },
  {
   "cell_type": "code",
   "execution_count": 132,
   "metadata": {
    "deletable": false,
    "editable": false
   },
   "outputs": [
    {
     "data": {
      "text/html": [
       "<p><strong style='color: red;'><pre style='display: inline;'>q2_2</pre> results:</strong></p><p><strong><pre style='display: inline;'>q2_2 - 1</pre> result:</strong></p><pre>    ✅ Test case passed</pre><p><strong><pre style='display: inline;'>q2_2 - 2</pre> result:</strong></p><pre>    ✅ Test case passed</pre><p><strong><pre style='display: inline;'>q2_2 - 3</pre> result:</strong></p><pre>    ❌ Test case failed\n",
       "    Trying:\n",
       "        float(recent_poverty_total.where('geo', 'aus').column(3).item(0)) == 301304\n",
       "    Expecting:\n",
       "        True\n",
       "    **********************************************************************\n",
       "    Line 4, in q2_2 2\n",
       "    Failed example:\n",
       "        float(recent_poverty_total.where('geo', 'aus').column(3).item(0)) == 301304\n",
       "    Expected:\n",
       "        True\n",
       "    Got:\n",
       "        False\n",
       "</pre>"
      ],
      "text/plain": [
       "q2_2 results:\n",
       "    q2_2 - 1 result:\n",
       "        ✅ Test case passed\n",
       "\n",
       "    q2_2 - 2 result:\n",
       "        ✅ Test case passed\n",
       "\n",
       "    q2_2 - 3 result:\n",
       "        ❌ Test case failed\n",
       "        Trying:\n",
       "            float(recent_poverty_total.where('geo', 'aus').column(3).item(0)) == 301304\n",
       "        Expecting:\n",
       "            True\n",
       "        **********************************************************************\n",
       "        Line 4, in q2_2 2\n",
       "        Failed example:\n",
       "            float(recent_poverty_total.where('geo', 'aus').column(3).item(0)) == 301304\n",
       "        Expected:\n",
       "            True\n",
       "        Got:\n",
       "            False"
      ]
     },
     "execution_count": 132,
     "metadata": {},
     "output_type": "execute_result"
    }
   ],
   "source": [
    "grader.check(\"q2_2\")"
   ]
  },
  {
   "cell_type": "markdown",
   "metadata": {},
   "source": [
    "**Question 3.** Assign the name `poverty_percent` to the known percentage of the world’s 2010 population that were living in extreme poverty. Assume that the `poverty_total` numbers in the `recent_poverty_total` table describe **all** people in 2010 living in extreme poverty. You should get a number that is above the 2018 global estimate of 9%, since many country-specific poverty rates are older than 2018.\n",
    "\n",
    "*Hint*: The sum of the `population_total` column in the `recent_poverty_total` table is not the world population, because only a subset of the world's countries are included in the `recent_poverty_total` table (only some countries have known poverty rates). Use the `population` table to compute the world's 2010 total population.\n",
    "\n",
    "*Hint*: We are computing a percentage (value between 0 and 100), not a proportion (value between 0 and 1).\n"
   ]
  },
  {
   "cell_type": "code",
   "execution_count": 133,
   "metadata": {
    "deletable": false,
    "tags": []
   },
   "outputs": [
    {
     "data": {
      "text/plain": [
       "15.019377256147626"
      ]
     },
     "execution_count": 133,
     "metadata": {},
     "output_type": "execute_result"
    }
   ],
   "source": [
    "poverty_percent = np.sum(poverty_population) / np.sum(recent_poverty_total.column(\"population_total\")) * 100\n",
    "poverty_percent\n"
   ]
  },
  {
   "cell_type": "code",
   "execution_count": 134,
   "metadata": {
    "deletable": false,
    "editable": false
   },
   "outputs": [
    {
     "data": {
      "text/html": [
       "<p><strong><pre style='display: inline;'>q2_3</pre></strong> passed! 🚀</p>"
      ],
      "text/plain": [
       "q2_3 results: All test cases passed!"
      ]
     },
     "execution_count": 134,
     "metadata": {},
     "output_type": "execute_result"
    }
   ],
   "source": [
    "grader.check(\"q2_3\")"
   ]
  },
  {
   "cell_type": "markdown",
   "metadata": {
    "deletable": false,
    "editable": false
   },
   "source": [
    "The `countries` table includes not only the name and region of countries, but also their positions on the globe."
   ]
  },
  {
   "cell_type": "code",
   "execution_count": 135,
   "metadata": {
    "deletable": false,
    "editable": false
   },
   "outputs": [
    {
     "data": {
      "text/html": [
       "<table border=\"1\" class=\"dataframe\">\n",
       "    <thead>\n",
       "        <tr>\n",
       "            <th>country</th> <th>name</th> <th>world_4region</th> <th>latitude</th> <th>longitude</th>\n",
       "        </tr>\n",
       "    </thead>\n",
       "    <tbody>\n",
       "        <tr>\n",
       "            <td>afg    </td> <td>Afghanistan         </td> <td>asia         </td> <td>33      </td> <td>66       </td>\n",
       "        </tr>\n",
       "        <tr>\n",
       "            <td>ago    </td> <td>Angola              </td> <td>africa       </td> <td>-12.5   </td> <td>18.5     </td>\n",
       "        </tr>\n",
       "        <tr>\n",
       "            <td>alb    </td> <td>Albania             </td> <td>europe       </td> <td>41      </td> <td>20       </td>\n",
       "        </tr>\n",
       "        <tr>\n",
       "            <td>and    </td> <td>Andorra             </td> <td>europe       </td> <td>42.5078 </td> <td>1.52109  </td>\n",
       "        </tr>\n",
       "        <tr>\n",
       "            <td>are    </td> <td>United Arab Emirates</td> <td>asia         </td> <td>23.75   </td> <td>54.5     </td>\n",
       "        </tr>\n",
       "        <tr>\n",
       "            <td>arg    </td> <td>Argentina           </td> <td>americas     </td> <td>-34     </td> <td>-64      </td>\n",
       "        </tr>\n",
       "        <tr>\n",
       "            <td>arm    </td> <td>Armenia             </td> <td>europe       </td> <td>40.25   </td> <td>45       </td>\n",
       "        </tr>\n",
       "        <tr>\n",
       "            <td>atg    </td> <td>Antigua and Barbuda </td> <td>americas     </td> <td>17.05   </td> <td>-61.8    </td>\n",
       "        </tr>\n",
       "        <tr>\n",
       "            <td>aus    </td> <td>Australia           </td> <td>asia         </td> <td>-25     </td> <td>135      </td>\n",
       "        </tr>\n",
       "        <tr>\n",
       "            <td>aut    </td> <td>Austria             </td> <td>europe       </td> <td>47.3333 </td> <td>13.3333  </td>\n",
       "        </tr>\n",
       "    </tbody>\n",
       "</table>\n",
       "<p>... (187 rows omitted)</p>"
      ],
      "text/plain": [
       "country | name                 | world_4region | latitude | longitude\n",
       "afg     | Afghanistan          | asia          | 33       | 66\n",
       "ago     | Angola               | africa        | -12.5    | 18.5\n",
       "alb     | Albania              | europe        | 41       | 20\n",
       "and     | Andorra              | europe        | 42.5078  | 1.52109\n",
       "are     | United Arab Emirates | asia          | 23.75    | 54.5\n",
       "arg     | Argentina            | americas      | -34      | -64\n",
       "arm     | Armenia              | europe        | 40.25    | 45\n",
       "atg     | Antigua and Barbuda  | americas      | 17.05    | -61.8\n",
       "aus     | Australia            | asia          | -25      | 135\n",
       "aut     | Austria              | europe        | 47.3333  | 13.3333\n",
       "... (187 rows omitted)"
      ]
     },
     "execution_count": 135,
     "metadata": {},
     "output_type": "execute_result"
    }
   ],
   "source": [
    "countries.select('country', 'name', 'world_4region', 'latitude', 'longitude')"
   ]
  },
  {
   "cell_type": "markdown",
   "metadata": {},
   "source": [
    "**Question 4.** Using both `countries` and `recent_poverty_total`, create a five-column table called `poverty_map` with one row for every country in `recent_poverty_total`.  The five columns should have the following labels and contents, in this order:\n",
    "1. `latitude` contains the country's latitude,\n",
    "1. `longitude` contains the country's longitude,\n",
    "1. `name` contains the country's name,\n",
    "1. `region` contains the country's region from the `world_4region` column of `countries`,\n",
    "1. `poverty_total` contains the country's poverty total.\n"
   ]
  },
  {
   "cell_type": "code",
   "execution_count": 136,
   "metadata": {
    "deletable": false,
    "tags": []
   },
   "outputs": [
    {
     "data": {
      "text/html": [
       "<table border=\"1\" class=\"dataframe\">\n",
       "    <thead>\n",
       "        <tr>\n",
       "            <th>latitude</th> <th>longitude</th> <th>name</th> <th>region</th> <th>poverty_total</th>\n",
       "        </tr>\n",
       "    </thead>\n",
       "    <tbody>\n",
       "        <tr>\n",
       "            <td>-12.5   </td> <td>18.5     </td> <td>Angola    </td> <td>africa  </td> <td>1.01296e+07  </td>\n",
       "        </tr>\n",
       "        <tr>\n",
       "            <td>41      </td> <td>20       </td> <td>Albania   </td> <td>europe  </td> <td>13560.9      </td>\n",
       "        </tr>\n",
       "        <tr>\n",
       "            <td>-34     </td> <td>-64      </td> <td>Argentina </td> <td>americas</td> <td>576630       </td>\n",
       "        </tr>\n",
       "        <tr>\n",
       "            <td>40.25   </td> <td>45       </td> <td>Armenia   </td> <td>europe  </td> <td>50353        </td>\n",
       "        </tr>\n",
       "        <tr>\n",
       "            <td>-25     </td> <td>135      </td> <td>Australia </td> <td>asia    </td> <td>301304       </td>\n",
       "        </tr>\n",
       "        <tr>\n",
       "            <td>47.3333 </td> <td>13.3333  </td> <td>Austria   </td> <td>europe  </td> <td>28593.8      </td>\n",
       "        </tr>\n",
       "        <tr>\n",
       "            <td>40.5    </td> <td>47.5     </td> <td>Azerbaijan</td> <td>europe  </td> <td>28000.6      </td>\n",
       "        </tr>\n",
       "        <tr>\n",
       "            <td>-3.5    </td> <td>30       </td> <td>Burundi   </td> <td>africa  </td> <td>7.055e+06    </td>\n",
       "        </tr>\n",
       "        <tr>\n",
       "            <td>50.75   </td> <td>4.5      </td> <td>Belgium   </td> <td>europe  </td> <td>54693.7      </td>\n",
       "        </tr>\n",
       "        <tr>\n",
       "            <td>9.5     </td> <td>2.25     </td> <td>Benin     </td> <td>africa  </td> <td>4.74773e+06  </td>\n",
       "        </tr>\n",
       "    </tbody>\n",
       "</table>\n",
       "<p>... (134 rows omitted)</p>"
      ],
      "text/plain": [
       "latitude | longitude | name       | region   | poverty_total\n",
       "-12.5    | 18.5      | Angola     | africa   | 1.01296e+07\n",
       "41       | 20        | Albania    | europe   | 13560.9\n",
       "-34      | -64       | Argentina  | americas | 576630\n",
       "40.25    | 45        | Armenia    | europe   | 50353\n",
       "-25      | 135       | Australia  | asia     | 301304\n",
       "47.3333  | 13.3333   | Austria    | europe   | 28593.8\n",
       "40.5     | 47.5      | Azerbaijan | europe   | 28000.6\n",
       "-3.5     | 30        | Burundi    | africa   | 7.055e+06\n",
       "50.75    | 4.5       | Belgium    | europe   | 54693.7\n",
       "9.5      | 2.25      | Benin      | africa   | 4.74773e+06\n",
       "... (134 rows omitted)"
      ]
     },
     "execution_count": 136,
     "metadata": {},
     "output_type": "execute_result"
    }
   ],
   "source": [
    "poverty_map = countries.select(\"country\", \"latitude\", \"longitude\", \"name\", \"world_4region\").where(\"country\", are.contained_in(recent_poverty_total.column(\"geo\"))).drop(\"country\").relabeled(\"world_4region\", \"region\")\n",
    "poverty_total_array = recent_poverty_total.column(\"poverty_total\")\n",
    "poverty_map = poverty_map.with_column(\"poverty_total\", poverty_total_array)\n",
    "poverty_map"
   ]
  },
  {
   "cell_type": "code",
   "execution_count": 137,
   "metadata": {
    "deletable": false,
    "editable": false
   },
   "outputs": [
    {
     "data": {
      "text/html": [
       "<p><strong><pre style='display: inline;'>q2_4</pre></strong> passed! 🍀</p>"
      ],
      "text/plain": [
       "q2_4 results: All test cases passed!"
      ]
     },
     "execution_count": 137,
     "metadata": {},
     "output_type": "execute_result"
    }
   ],
   "source": [
    "grader.check(\"q2_4\")"
   ]
  },
  {
   "cell_type": "markdown",
   "metadata": {
    "deletable": false,
    "editable": false
   },
   "source": [
    "Run the cell below to draw a map of the world in which the areas of circles represent the number of people living in extreme poverty. Double-click on the map to zoom in.\n",
    "\n",
    "> ***Note:*** If the cell below isn't loading, you can view the output [here](https://github.jonathanferrari.com/static/poverty_map.html)"
   ]
  },
  {
   "cell_type": "code",
   "execution_count": 138,
   "metadata": {
    "deletable": false,
    "editable": false,
    "scrolled": true
   },
   "outputs": [
    {
     "data": {
      "text/html": [
       "<div style=\"width:100%;\"><div style=\"position:relative;width:100%;height:0;padding-bottom:60%;\"><span style=\"color:#565656\">Make this Notebook Trusted to load map: File -> Trust Notebook</span><iframe srcdoc=\"&lt;!DOCTYPE html&gt;\n",
       "&lt;html&gt;\n",
       "&lt;head&gt;\n",
       "    \n",
       "    &lt;meta http-equiv=&quot;content-type&quot; content=&quot;text/html; charset=UTF-8&quot; /&gt;\n",
       "    \n",
       "        &lt;script&gt;\n",
       "            L_NO_TOUCH = false;\n",
       "            L_DISABLE_3D = false;\n",
       "        &lt;/script&gt;\n",
       "    \n",
       "    &lt;style&gt;html, body {width: 100%;height: 100%;margin: 0;padding: 0;}&lt;/style&gt;\n",
       "    &lt;style&gt;#map {position:absolute;top:0;bottom:0;right:0;left:0;}&lt;/style&gt;\n",
       "    &lt;script src=&quot;https://cdn.jsdelivr.net/npm/leaflet@1.9.3/dist/leaflet.js&quot;&gt;&lt;/script&gt;\n",
       "    &lt;script src=&quot;https://code.jquery.com/jquery-3.7.1.min.js&quot;&gt;&lt;/script&gt;\n",
       "    &lt;script src=&quot;https://cdn.jsdelivr.net/npm/bootstrap@5.2.2/dist/js/bootstrap.bundle.min.js&quot;&gt;&lt;/script&gt;\n",
       "    &lt;script src=&quot;https://cdnjs.cloudflare.com/ajax/libs/Leaflet.awesome-markers/2.0.2/leaflet.awesome-markers.js&quot;&gt;&lt;/script&gt;\n",
       "    &lt;link rel=&quot;stylesheet&quot; href=&quot;https://cdn.jsdelivr.net/npm/leaflet@1.9.3/dist/leaflet.css&quot;/&gt;\n",
       "    &lt;link rel=&quot;stylesheet&quot; href=&quot;https://cdn.jsdelivr.net/npm/bootstrap@5.2.2/dist/css/bootstrap.min.css&quot;/&gt;\n",
       "    &lt;link rel=&quot;stylesheet&quot; href=&quot;https://netdna.bootstrapcdn.com/bootstrap/3.0.0/css/bootstrap-glyphicons.css&quot;/&gt;\n",
       "    &lt;link rel=&quot;stylesheet&quot; href=&quot;https://cdn.jsdelivr.net/npm/@fortawesome/fontawesome-free@6.2.0/css/all.min.css&quot;/&gt;\n",
       "    &lt;link rel=&quot;stylesheet&quot; href=&quot;https://cdnjs.cloudflare.com/ajax/libs/Leaflet.awesome-markers/2.0.2/leaflet.awesome-markers.css&quot;/&gt;\n",
       "    &lt;link rel=&quot;stylesheet&quot; href=&quot;https://cdn.jsdelivr.net/gh/python-visualization/folium/folium/templates/leaflet.awesome.rotate.min.css&quot;/&gt;\n",
       "    \n",
       "            &lt;meta name=&quot;viewport&quot; content=&quot;width=device-width,\n",
       "                initial-scale=1.0, maximum-scale=1.0, user-scalable=no&quot; /&gt;\n",
       "            &lt;style&gt;\n",
       "                #map_ea1c77cce835ee54a2729a77063d298c {\n",
       "                    position: relative;\n",
       "                    width: 960.0px;\n",
       "                    height: 500.0px;\n",
       "                    left: 0.0%;\n",
       "                    top: 0.0%;\n",
       "                }\n",
       "                .leaflet-container { font-size: 1rem; }\n",
       "            &lt;/style&gt;\n",
       "        \n",
       "&lt;/head&gt;\n",
       "&lt;body&gt;\n",
       "    \n",
       "    \n",
       "            &lt;div class=&quot;folium-map&quot; id=&quot;map_ea1c77cce835ee54a2729a77063d298c&quot; &gt;&lt;/div&gt;\n",
       "        \n",
       "&lt;/body&gt;\n",
       "&lt;script&gt;\n",
       "    \n",
       "    \n",
       "            var map_ea1c77cce835ee54a2729a77063d298c = L.map(\n",
       "                &quot;map_ea1c77cce835ee54a2729a77063d298c&quot;,\n",
       "                {\n",
       "                    center: [14.0, 32.17871],\n",
       "                    crs: L.CRS.EPSG3857,\n",
       "                    zoom: 1,\n",
       "                    zoomControl: true,\n",
       "                    preferCanvas: false,\n",
       "                    clusteredMarker: false,\n",
       "                    includeColorScaleOutliers: true,\n",
       "                    radiusInMeters: false,\n",
       "                }\n",
       "            );\n",
       "\n",
       "            \n",
       "\n",
       "        \n",
       "    \n",
       "            var tile_layer_3c84656714f376df283a7702063aa2cd = L.tileLayer(\n",
       "                &quot;https://tile.openstreetmap.org/{z}/{x}/{y}.png&quot;,\n",
       "                {&quot;attribution&quot;: &quot;\\u0026copy; \\u003ca href=\\&quot;https://www.openstreetmap.org/copyright\\&quot;\\u003eOpenStreetMap\\u003c/a\\u003e contributors&quot;, &quot;detectRetina&quot;: false, &quot;maxNativeZoom&quot;: 19, &quot;maxZoom&quot;: 17, &quot;minZoom&quot;: -1, &quot;noWrap&quot;: false, &quot;opacity&quot;: 1, &quot;subdomains&quot;: &quot;abc&quot;, &quot;tms&quot;: false}\n",
       "            );\n",
       "        \n",
       "    \n",
       "            tile_layer_3c84656714f376df283a7702063aa2cd.addTo(map_ea1c77cce835ee54a2729a77063d298c);\n",
       "        \n",
       "    \n",
       "            var circle_marker_8a24c37dee978352f8d78f151662b559 = L.circleMarker(\n",
       "                [-12.5, 18.5],\n",
       "                {&quot;bubblingMouseEvents&quot;: true, &quot;color&quot;: &quot;blue&quot;, &quot;dashArray&quot;: null, &quot;dashOffset&quot;: null, &quot;fill&quot;: true, &quot;fillColor&quot;: &quot;blue&quot;, &quot;fillOpacity&quot;: 0.2, &quot;fillRule&quot;: &quot;evenodd&quot;, &quot;lineCap&quot;: &quot;round&quot;, &quot;lineJoin&quot;: &quot;round&quot;, &quot;opacity&quot;: 1.0, &quot;radius&quot;: 17.956484064057314, &quot;stroke&quot;: true, &quot;weight&quot;: 3}\n",
       "            ).addTo(map_ea1c77cce835ee54a2729a77063d298c);\n",
       "        \n",
       "    \n",
       "        var popup_a3fc399aa823e3f095cbf0ac4d5def68 = L.popup({&quot;maxWidth&quot;: &quot;100%&quot;});\n",
       "\n",
       "        \n",
       "            \n",
       "                var html_6beb85d9718d548ed9b6b54e2d429341 = $(`&lt;div id=&quot;html_6beb85d9718d548ed9b6b54e2d429341&quot; style=&quot;width: 100.0%; height: 100.0%;&quot;&gt;Angola&lt;/div&gt;`)[0];\n",
       "                popup_a3fc399aa823e3f095cbf0ac4d5def68.setContent(html_6beb85d9718d548ed9b6b54e2d429341);\n",
       "            \n",
       "        \n",
       "\n",
       "        circle_marker_8a24c37dee978352f8d78f151662b559.bindPopup(popup_a3fc399aa823e3f095cbf0ac4d5def68)\n",
       "        ;\n",
       "\n",
       "        \n",
       "    \n",
       "    \n",
       "            var circle_marker_f5a527e45ef574cd64139fd706a1fe53 = L.circleMarker(\n",
       "                [41.0, 20.0],\n",
       "                {&quot;bubblingMouseEvents&quot;: true, &quot;color&quot;: &quot;black&quot;, &quot;dashArray&quot;: null, &quot;dashOffset&quot;: null, &quot;fill&quot;: true, &quot;fillColor&quot;: &quot;black&quot;, &quot;fillOpacity&quot;: 0.2, &quot;fillRule&quot;: &quot;evenodd&quot;, &quot;lineCap&quot;: &quot;round&quot;, &quot;lineJoin&quot;: &quot;round&quot;, &quot;opacity&quot;: 1.0, &quot;radius&quot;: 0.6570067858934157, &quot;stroke&quot;: true, &quot;weight&quot;: 3}\n",
       "            ).addTo(map_ea1c77cce835ee54a2729a77063d298c);\n",
       "        \n",
       "    \n",
       "        var popup_29b1489c607114fe0c64c5c991dd7d16 = L.popup({&quot;maxWidth&quot;: &quot;100%&quot;});\n",
       "\n",
       "        \n",
       "            \n",
       "                var html_f2c105c689023bb9f476b806164477a6 = $(`&lt;div id=&quot;html_f2c105c689023bb9f476b806164477a6&quot; style=&quot;width: 100.0%; height: 100.0%;&quot;&gt;Albania&lt;/div&gt;`)[0];\n",
       "                popup_29b1489c607114fe0c64c5c991dd7d16.setContent(html_f2c105c689023bb9f476b806164477a6);\n",
       "            \n",
       "        \n",
       "\n",
       "        circle_marker_f5a527e45ef574cd64139fd706a1fe53.bindPopup(popup_29b1489c607114fe0c64c5c991dd7d16)\n",
       "        ;\n",
       "\n",
       "        \n",
       "    \n",
       "    \n",
       "            var circle_marker_7f00ce735445d7847f4ace74fbffa458 = L.circleMarker(\n",
       "                [-34.0, -64.0],\n",
       "                {&quot;bubblingMouseEvents&quot;: true, &quot;color&quot;: &quot;green&quot;, &quot;dashArray&quot;: null, &quot;dashOffset&quot;: null, &quot;fill&quot;: true, &quot;fillColor&quot;: &quot;green&quot;, &quot;fillOpacity&quot;: 0.2, &quot;fillRule&quot;: &quot;evenodd&quot;, &quot;lineCap&quot;: &quot;round&quot;, &quot;lineJoin&quot;: &quot;round&quot;, &quot;opacity&quot;: 1.0, &quot;radius&quot;: 4.2842392327176375, &quot;stroke&quot;: true, &quot;weight&quot;: 3}\n",
       "            ).addTo(map_ea1c77cce835ee54a2729a77063d298c);\n",
       "        \n",
       "    \n",
       "        var popup_22d1c449b37708a7b4dc463ae071d0c9 = L.popup({&quot;maxWidth&quot;: &quot;100%&quot;});\n",
       "\n",
       "        \n",
       "            \n",
       "                var html_5ac3a7629b10ee033901418f856b503c = $(`&lt;div id=&quot;html_5ac3a7629b10ee033901418f856b503c&quot; style=&quot;width: 100.0%; height: 100.0%;&quot;&gt;Argentina&lt;/div&gt;`)[0];\n",
       "                popup_22d1c449b37708a7b4dc463ae071d0c9.setContent(html_5ac3a7629b10ee033901418f856b503c);\n",
       "            \n",
       "        \n",
       "\n",
       "        circle_marker_7f00ce735445d7847f4ace74fbffa458.bindPopup(popup_22d1c449b37708a7b4dc463ae071d0c9)\n",
       "        ;\n",
       "\n",
       "        \n",
       "    \n",
       "    \n",
       "            var circle_marker_1f3fdb32a412e2971619ce404be53efc = L.circleMarker(\n",
       "                [40.25, 45.0],\n",
       "                {&quot;bubblingMouseEvents&quot;: true, &quot;color&quot;: &quot;black&quot;, &quot;dashArray&quot;: null, &quot;dashOffset&quot;: null, &quot;fill&quot;: true, &quot;fillColor&quot;: &quot;black&quot;, &quot;fillOpacity&quot;: 0.2, &quot;fillRule&quot;: &quot;evenodd&quot;, &quot;lineCap&quot;: &quot;round&quot;, &quot;lineJoin&quot;: &quot;round&quot;, &quot;opacity&quot;: 1.0, &quot;radius&quot;: 1.2660116945535291, &quot;stroke&quot;: true, &quot;weight&quot;: 3}\n",
       "            ).addTo(map_ea1c77cce835ee54a2729a77063d298c);\n",
       "        \n",
       "    \n",
       "        var popup_b4bc112d7132213341a2f7d55e2ad7a2 = L.popup({&quot;maxWidth&quot;: &quot;100%&quot;});\n",
       "\n",
       "        \n",
       "            \n",
       "                var html_5bc09ff79e65276aebc507ddb70b68c5 = $(`&lt;div id=&quot;html_5bc09ff79e65276aebc507ddb70b68c5&quot; style=&quot;width: 100.0%; height: 100.0%;&quot;&gt;Armenia&lt;/div&gt;`)[0];\n",
       "                popup_b4bc112d7132213341a2f7d55e2ad7a2.setContent(html_5bc09ff79e65276aebc507ddb70b68c5);\n",
       "            \n",
       "        \n",
       "\n",
       "        circle_marker_1f3fdb32a412e2971619ce404be53efc.bindPopup(popup_b4bc112d7132213341a2f7d55e2ad7a2)\n",
       "        ;\n",
       "\n",
       "        \n",
       "    \n",
       "    \n",
       "            var circle_marker_ee0c58fbcb2a1c0d62dcaba6362c0089 = L.circleMarker(\n",
       "                [-25.0, 135.0],\n",
       "                {&quot;bubblingMouseEvents&quot;: true, &quot;color&quot;: &quot;red&quot;, &quot;dashArray&quot;: null, &quot;dashOffset&quot;: null, &quot;fill&quot;: true, &quot;fillColor&quot;: &quot;red&quot;, &quot;fillOpacity&quot;: 0.2, &quot;fillRule&quot;: &quot;evenodd&quot;, &quot;lineCap&quot;: &quot;round&quot;, &quot;lineJoin&quot;: &quot;round&quot;, &quot;opacity&quot;: 1.0, &quot;radius&quot;: 3.096901034982263, &quot;stroke&quot;: true, &quot;weight&quot;: 3}\n",
       "            ).addTo(map_ea1c77cce835ee54a2729a77063d298c);\n",
       "        \n",
       "    \n",
       "        var popup_da859f77b5aa88c372a2e5a7923da1d9 = L.popup({&quot;maxWidth&quot;: &quot;100%&quot;});\n",
       "\n",
       "        \n",
       "            \n",
       "                var html_7dfef08e503c00f2c0461131f0dfd8c3 = $(`&lt;div id=&quot;html_7dfef08e503c00f2c0461131f0dfd8c3&quot; style=&quot;width: 100.0%; height: 100.0%;&quot;&gt;Australia&lt;/div&gt;`)[0];\n",
       "                popup_da859f77b5aa88c372a2e5a7923da1d9.setContent(html_7dfef08e503c00f2c0461131f0dfd8c3);\n",
       "            \n",
       "        \n",
       "\n",
       "        circle_marker_ee0c58fbcb2a1c0d62dcaba6362c0089.bindPopup(popup_da859f77b5aa88c372a2e5a7923da1d9)\n",
       "        ;\n",
       "\n",
       "        \n",
       "    \n",
       "    \n",
       "            var circle_marker_3508cc791d63d1a0ed2204e4a8fcbd77 = L.circleMarker(\n",
       "                [47.33333, 13.33333],\n",
       "                {&quot;bubblingMouseEvents&quot;: true, &quot;color&quot;: &quot;black&quot;, &quot;dashArray&quot;: null, &quot;dashOffset&quot;: null, &quot;fill&quot;: true, &quot;fillColor&quot;: &quot;black&quot;, &quot;fillOpacity&quot;: 0.2, &quot;fillRule&quot;: &quot;evenodd&quot;, &quot;lineCap&quot;: &quot;round&quot;, &quot;lineJoin&quot;: &quot;round&quot;, &quot;opacity&quot;: 1.0, &quot;radius&quot;: 0.9540279535522319, &quot;stroke&quot;: true, &quot;weight&quot;: 3}\n",
       "            ).addTo(map_ea1c77cce835ee54a2729a77063d298c);\n",
       "        \n",
       "    \n",
       "        var popup_7aca3b080ba041e3d2d6508dc4b6247d = L.popup({&quot;maxWidth&quot;: &quot;100%&quot;});\n",
       "\n",
       "        \n",
       "            \n",
       "                var html_83c2da6597e5e5845105bcba54cdc52f = $(`&lt;div id=&quot;html_83c2da6597e5e5845105bcba54cdc52f&quot; style=&quot;width: 100.0%; height: 100.0%;&quot;&gt;Austria&lt;/div&gt;`)[0];\n",
       "                popup_7aca3b080ba041e3d2d6508dc4b6247d.setContent(html_83c2da6597e5e5845105bcba54cdc52f);\n",
       "            \n",
       "        \n",
       "\n",
       "        circle_marker_3508cc791d63d1a0ed2204e4a8fcbd77.bindPopup(popup_7aca3b080ba041e3d2d6508dc4b6247d)\n",
       "        ;\n",
       "\n",
       "        \n",
       "    \n",
       "    \n",
       "            var circle_marker_b393405c8a192401b4a365b047cbcac7 = L.circleMarker(\n",
       "                [40.5, 47.5],\n",
       "                {&quot;bubblingMouseEvents&quot;: true, &quot;color&quot;: &quot;black&quot;, &quot;dashArray&quot;: null, &quot;dashOffset&quot;: null, &quot;fill&quot;: true, &quot;fillColor&quot;: &quot;black&quot;, &quot;fillOpacity&quot;: 0.2, &quot;fillRule&quot;: &quot;evenodd&quot;, &quot;lineCap&quot;: &quot;round&quot;, &quot;lineJoin&quot;: &quot;round&quot;, &quot;opacity&quot;: 1.0, &quot;radius&quot;: 0.9440805584767714, &quot;stroke&quot;: true, &quot;weight&quot;: 3}\n",
       "            ).addTo(map_ea1c77cce835ee54a2729a77063d298c);\n",
       "        \n",
       "    \n",
       "        var popup_7bc3fe89c7d47804b8c457d4a8941d09 = L.popup({&quot;maxWidth&quot;: &quot;100%&quot;});\n",
       "\n",
       "        \n",
       "            \n",
       "                var html_8ed1ad4542999d1f0d881fbfbd35f54f = $(`&lt;div id=&quot;html_8ed1ad4542999d1f0d881fbfbd35f54f&quot; style=&quot;width: 100.0%; height: 100.0%;&quot;&gt;Azerbaijan&lt;/div&gt;`)[0];\n",
       "                popup_7bc3fe89c7d47804b8c457d4a8941d09.setContent(html_8ed1ad4542999d1f0d881fbfbd35f54f);\n",
       "            \n",
       "        \n",
       "\n",
       "        circle_marker_b393405c8a192401b4a365b047cbcac7.bindPopup(popup_7bc3fe89c7d47804b8c457d4a8941d09)\n",
       "        ;\n",
       "\n",
       "        \n",
       "    \n",
       "    \n",
       "            var circle_marker_d4c2286587b9c5ed69e3f1bf857b74a7 = L.circleMarker(\n",
       "                [-3.5, 30.0],\n",
       "                {&quot;bubblingMouseEvents&quot;: true, &quot;color&quot;: &quot;blue&quot;, &quot;dashArray&quot;: null, &quot;dashOffset&quot;: null, &quot;fill&quot;: true, &quot;fillColor&quot;: &quot;blue&quot;, &quot;fillOpacity&quot;: 0.2, &quot;fillRule&quot;: &quot;evenodd&quot;, &quot;lineCap&quot;: &quot;round&quot;, &quot;lineJoin&quot;: &quot;round&quot;, &quot;opacity&quot;: 1.0, &quot;radius&quot;: 14.985583532314237, &quot;stroke&quot;: true, &quot;weight&quot;: 3}\n",
       "            ).addTo(map_ea1c77cce835ee54a2729a77063d298c);\n",
       "        \n",
       "    \n",
       "        var popup_3cdb7d6b3932dae72eb5822e89c07fa8 = L.popup({&quot;maxWidth&quot;: &quot;100%&quot;});\n",
       "\n",
       "        \n",
       "            \n",
       "                var html_69aab8eb19d8907e72b9798cac356008 = $(`&lt;div id=&quot;html_69aab8eb19d8907e72b9798cac356008&quot; style=&quot;width: 100.0%; height: 100.0%;&quot;&gt;Burundi&lt;/div&gt;`)[0];\n",
       "                popup_3cdb7d6b3932dae72eb5822e89c07fa8.setContent(html_69aab8eb19d8907e72b9798cac356008);\n",
       "            \n",
       "        \n",
       "\n",
       "        circle_marker_d4c2286587b9c5ed69e3f1bf857b74a7.bindPopup(popup_3cdb7d6b3932dae72eb5822e89c07fa8)\n",
       "        ;\n",
       "\n",
       "        \n",
       "    \n",
       "    \n",
       "            var circle_marker_53609014bb81068145b704a00844c418 = L.circleMarker(\n",
       "                [50.75, 4.5],\n",
       "                {&quot;bubblingMouseEvents&quot;: true, &quot;color&quot;: &quot;black&quot;, &quot;dashArray&quot;: null, &quot;dashOffset&quot;: null, &quot;fill&quot;: true, &quot;fillColor&quot;: &quot;black&quot;, &quot;fillOpacity&quot;: 0.2, &quot;fillRule&quot;: &quot;evenodd&quot;, &quot;lineCap&quot;: &quot;round&quot;, &quot;lineJoin&quot;: &quot;round&quot;, &quot;opacity&quot;: 1.0, &quot;radius&quot;: 1.3194520629497397, &quot;stroke&quot;: true, &quot;weight&quot;: 3}\n",
       "            ).addTo(map_ea1c77cce835ee54a2729a77063d298c);\n",
       "        \n",
       "    \n",
       "        var popup_9fdce5ec6e46d3722db3e8882a47b06b = L.popup({&quot;maxWidth&quot;: &quot;100%&quot;});\n",
       "\n",
       "        \n",
       "            \n",
       "                var html_18c87b138f3c3396d6a48b7984e3455d = $(`&lt;div id=&quot;html_18c87b138f3c3396d6a48b7984e3455d&quot; style=&quot;width: 100.0%; height: 100.0%;&quot;&gt;Belgium&lt;/div&gt;`)[0];\n",
       "                popup_9fdce5ec6e46d3722db3e8882a47b06b.setContent(html_18c87b138f3c3396d6a48b7984e3455d);\n",
       "            \n",
       "        \n",
       "\n",
       "        circle_marker_53609014bb81068145b704a00844c418.bindPopup(popup_9fdce5ec6e46d3722db3e8882a47b06b)\n",
       "        ;\n",
       "\n",
       "        \n",
       "    \n",
       "    \n",
       "            var circle_marker_65e0656a5a0a278dad6184919e56568f = L.circleMarker(\n",
       "                [9.5, 2.25],\n",
       "                {&quot;bubblingMouseEvents&quot;: true, &quot;color&quot;: &quot;blue&quot;, &quot;dashArray&quot;: null, &quot;dashOffset&quot;: null, &quot;fill&quot;: true, &quot;fillColor&quot;: &quot;blue&quot;, &quot;fillOpacity&quot;: 0.2, &quot;fillRule&quot;: &quot;evenodd&quot;, &quot;lineCap&quot;: &quot;round&quot;, &quot;lineJoin&quot;: &quot;round&quot;, &quot;opacity&quot;: 1.0, &quot;radius&quot;: 12.293294855760658, &quot;stroke&quot;: true, &quot;weight&quot;: 3}\n",
       "            ).addTo(map_ea1c77cce835ee54a2729a77063d298c);\n",
       "        \n",
       "    \n",
       "        var popup_2edbc2740a468e507c45e4984bda7c60 = L.popup({&quot;maxWidth&quot;: &quot;100%&quot;});\n",
       "\n",
       "        \n",
       "            \n",
       "                var html_5d3fb043309dbaa70f499536c47f87ae = $(`&lt;div id=&quot;html_5d3fb043309dbaa70f499536c47f87ae&quot; style=&quot;width: 100.0%; height: 100.0%;&quot;&gt;Benin&lt;/div&gt;`)[0];\n",
       "                popup_2edbc2740a468e507c45e4984bda7c60.setContent(html_5d3fb043309dbaa70f499536c47f87ae);\n",
       "            \n",
       "        \n",
       "\n",
       "        circle_marker_65e0656a5a0a278dad6184919e56568f.bindPopup(popup_2edbc2740a468e507c45e4984bda7c60)\n",
       "        ;\n",
       "\n",
       "        \n",
       "    \n",
       "    \n",
       "            var circle_marker_9b5906da1193b565caf7379cdb3bb4e0 = L.circleMarker(\n",
       "                [12.5, -1.66667],\n",
       "                {&quot;bubblingMouseEvents&quot;: true, &quot;color&quot;: &quot;blue&quot;, &quot;dashArray&quot;: null, &quot;dashOffset&quot;: null, &quot;fill&quot;: true, &quot;fillColor&quot;: &quot;blue&quot;, &quot;fillOpacity&quot;: 0.2, &quot;fillRule&quot;: &quot;evenodd&quot;, &quot;lineCap&quot;: &quot;round&quot;, &quot;lineJoin&quot;: &quot;round&quot;, &quot;opacity&quot;: 1.0, &quot;radius&quot;: 14.860883015206342, &quot;stroke&quot;: true, &quot;weight&quot;: 3}\n",
       "            ).addTo(map_ea1c77cce835ee54a2729a77063d298c);\n",
       "        \n",
       "    \n",
       "        var popup_2725aaa3dca140d887920faa2fe8ec69 = L.popup({&quot;maxWidth&quot;: &quot;100%&quot;});\n",
       "\n",
       "        \n",
       "            \n",
       "                var html_f96f72e069749dd65c77265a6a6164ae = $(`&lt;div id=&quot;html_f96f72e069749dd65c77265a6a6164ae&quot; style=&quot;width: 100.0%; height: 100.0%;&quot;&gt;Burkina Faso&lt;/div&gt;`)[0];\n",
       "                popup_2725aaa3dca140d887920faa2fe8ec69.setContent(html_f96f72e069749dd65c77265a6a6164ae);\n",
       "            \n",
       "        \n",
       "\n",
       "        circle_marker_9b5906da1193b565caf7379cdb3bb4e0.bindPopup(popup_2725aaa3dca140d887920faa2fe8ec69)\n",
       "        ;\n",
       "\n",
       "        \n",
       "    \n",
       "    \n",
       "            var circle_marker_f878a95a04d703e1237d6626283e742c = L.circleMarker(\n",
       "                [24.0, 90.0],\n",
       "                {&quot;bubblingMouseEvents&quot;: true, &quot;color&quot;: &quot;red&quot;, &quot;dashArray&quot;: null, &quot;dashOffset&quot;: null, &quot;fill&quot;: true, &quot;fillColor&quot;: &quot;red&quot;, &quot;fillOpacity&quot;: 0.2, &quot;fillRule&quot;: &quot;evenodd&quot;, &quot;lineCap&quot;: &quot;round&quot;, &quot;lineJoin&quot;: &quot;round&quot;, &quot;opacity&quot;: 1.0, &quot;radius&quot;: 45.07390163870712, &quot;stroke&quot;: true, &quot;weight&quot;: 3}\n",
       "            ).addTo(map_ea1c77cce835ee54a2729a77063d298c);\n",
       "        \n",
       "    \n",
       "        var popup_ec1dd2cc585be8c306cc73677ff9b700 = L.popup({&quot;maxWidth&quot;: &quot;100%&quot;});\n",
       "\n",
       "        \n",
       "            \n",
       "                var html_bf8d8f7e7566edab76d3c9aa4f342625 = $(`&lt;div id=&quot;html_bf8d8f7e7566edab76d3c9aa4f342625&quot; style=&quot;width: 100.0%; height: 100.0%;&quot;&gt;Bangladesh&lt;/div&gt;`)[0];\n",
       "                popup_ec1dd2cc585be8c306cc73677ff9b700.setContent(html_bf8d8f7e7566edab76d3c9aa4f342625);\n",
       "            \n",
       "        \n",
       "\n",
       "        circle_marker_f878a95a04d703e1237d6626283e742c.bindPopup(popup_ec1dd2cc585be8c306cc73677ff9b700)\n",
       "        ;\n",
       "\n",
       "        \n",
       "    \n",
       "    \n",
       "            var circle_marker_2fe011267c950263bfc94216517b0449 = L.circleMarker(\n",
       "                [42.66667, 25.25],\n",
       "                {&quot;bubblingMouseEvents&quot;: true, &quot;color&quot;: &quot;black&quot;, &quot;dashArray&quot;: null, &quot;dashOffset&quot;: null, &quot;fill&quot;: true, &quot;fillColor&quot;: &quot;black&quot;, &quot;fillOpacity&quot;: 0.2, &quot;fillRule&quot;: &quot;evenodd&quot;, &quot;lineCap&quot;: &quot;round&quot;, &quot;lineJoin&quot;: &quot;round&quot;, &quot;opacity&quot;: 1.0, &quot;radius&quot;: 2.119094941717914, &quot;stroke&quot;: true, &quot;weight&quot;: 3}\n",
       "            ).addTo(map_ea1c77cce835ee54a2729a77063d298c);\n",
       "        \n",
       "    \n",
       "        var popup_49766edef2427a7144851a222e282d9d = L.popup({&quot;maxWidth&quot;: &quot;100%&quot;});\n",
       "\n",
       "        \n",
       "            \n",
       "                var html_f89fb69f86f55d852a5226a37adabac9 = $(`&lt;div id=&quot;html_f89fb69f86f55d852a5226a37adabac9&quot; style=&quot;width: 100.0%; height: 100.0%;&quot;&gt;Bulgaria&lt;/div&gt;`)[0];\n",
       "                popup_49766edef2427a7144851a222e282d9d.setContent(html_f89fb69f86f55d852a5226a37adabac9);\n",
       "            \n",
       "        \n",
       "\n",
       "        circle_marker_2fe011267c950263bfc94216517b0449.bindPopup(popup_49766edef2427a7144851a222e282d9d)\n",
       "        ;\n",
       "\n",
       "        \n",
       "    \n",
       "    \n",
       "            var circle_marker_e995396e03fdabff88fd402289cd8074 = L.circleMarker(\n",
       "                [44.25, 17.83333],\n",
       "                {&quot;bubblingMouseEvents&quot;: true, &quot;color&quot;: &quot;black&quot;, &quot;dashArray&quot;: null, &quot;dashOffset&quot;: null, &quot;fill&quot;: true, &quot;fillColor&quot;: &quot;black&quot;, &quot;fillOpacity&quot;: 0.2, &quot;fillRule&quot;: &quot;evenodd&quot;, &quot;lineCap&quot;: &quot;round&quot;, &quot;lineJoin&quot;: &quot;round&quot;, &quot;opacity&quot;: 1.0, &quot;radius&quot;: 0.217208681266338, &quot;stroke&quot;: true, &quot;weight&quot;: 3}\n",
       "            ).addTo(map_ea1c77cce835ee54a2729a77063d298c);\n",
       "        \n",
       "    \n",
       "        var popup_9cc11b7e7990f97a50d3c7ceed145c69 = L.popup({&quot;maxWidth&quot;: &quot;100%&quot;});\n",
       "\n",
       "        \n",
       "            \n",
       "                var html_54d920f34a92f9fbca751fd975705109 = $(`&lt;div id=&quot;html_54d920f34a92f9fbca751fd975705109&quot; style=&quot;width: 100.0%; height: 100.0%;&quot;&gt;Bosnia and Herzegovina&lt;/div&gt;`)[0];\n",
       "                popup_9cc11b7e7990f97a50d3c7ceed145c69.setContent(html_54d920f34a92f9fbca751fd975705109);\n",
       "            \n",
       "        \n",
       "\n",
       "        circle_marker_e995396e03fdabff88fd402289cd8074.bindPopup(popup_9cc11b7e7990f97a50d3c7ceed145c69)\n",
       "        ;\n",
       "\n",
       "        \n",
       "    \n",
       "    \n",
       "            var circle_marker_33d25c4628797a00e633994d44e4d995 = L.circleMarker(\n",
       "                [53.0, 28.0],\n",
       "                {&quot;bubblingMouseEvents&quot;: true, &quot;color&quot;: &quot;black&quot;, &quot;dashArray&quot;: null, &quot;dashOffset&quot;: null, &quot;fill&quot;: true, &quot;fillColor&quot;: &quot;black&quot;, &quot;fillOpacity&quot;: 0.2, &quot;fillRule&quot;: &quot;evenodd&quot;, &quot;lineCap&quot;: &quot;round&quot;, &quot;lineJoin&quot;: &quot;round&quot;, &quot;opacity&quot;: 1.0, &quot;radius&quot;: 0.17316646541249694, &quot;stroke&quot;: true, &quot;weight&quot;: 3}\n",
       "            ).addTo(map_ea1c77cce835ee54a2729a77063d298c);\n",
       "        \n",
       "    \n",
       "        var popup_46d667cbd7cb5eaf4e23730e785db9fe = L.popup({&quot;maxWidth&quot;: &quot;100%&quot;});\n",
       "\n",
       "        \n",
       "            \n",
       "                var html_585c353933d37b745de954da5a56c796 = $(`&lt;div id=&quot;html_585c353933d37b745de954da5a56c796&quot; style=&quot;width: 100.0%; height: 100.0%;&quot;&gt;Belarus&lt;/div&gt;`)[0];\n",
       "                popup_46d667cbd7cb5eaf4e23730e785db9fe.setContent(html_585c353933d37b745de954da5a56c796);\n",
       "            \n",
       "        \n",
       "\n",
       "        circle_marker_33d25c4628797a00e633994d44e4d995.bindPopup(popup_46d667cbd7cb5eaf4e23730e785db9fe)\n",
       "        ;\n",
       "\n",
       "        \n",
       "    \n",
       "    \n",
       "            var circle_marker_1a32cd25434b40fcd788cd55892dd8a4 = L.circleMarker(\n",
       "                [17.49952, -88.19756],\n",
       "                {&quot;bubblingMouseEvents&quot;: true, &quot;color&quot;: &quot;green&quot;, &quot;dashArray&quot;: null, &quot;dashOffset&quot;: null, &quot;fill&quot;: true, &quot;fillColor&quot;: &quot;green&quot;, &quot;fillOpacity&quot;: 0.2, &quot;fillRule&quot;: &quot;evenodd&quot;, &quot;lineCap&quot;: &quot;round&quot;, &quot;lineJoin&quot;: &quot;round&quot;, &quot;opacity&quot;: 1.0, &quot;radius&quot;: 1.1195002308366027, &quot;stroke&quot;: true, &quot;weight&quot;: 3}\n",
       "            ).addTo(map_ea1c77cce835ee54a2729a77063d298c);\n",
       "        \n",
       "    \n",
       "        var popup_c7df2a2f8eeba5670b6e01ff2ab15a6a = L.popup({&quot;maxWidth&quot;: &quot;100%&quot;});\n",
       "\n",
       "        \n",
       "            \n",
       "                var html_d5a168fef0770ad444e312bc06d54cd8 = $(`&lt;div id=&quot;html_d5a168fef0770ad444e312bc06d54cd8&quot; style=&quot;width: 100.0%; height: 100.0%;&quot;&gt;Belize&lt;/div&gt;`)[0];\n",
       "                popup_c7df2a2f8eeba5670b6e01ff2ab15a6a.setContent(html_d5a168fef0770ad444e312bc06d54cd8);\n",
       "            \n",
       "        \n",
       "\n",
       "        circle_marker_1a32cd25434b40fcd788cd55892dd8a4.bindPopup(popup_c7df2a2f8eeba5670b6e01ff2ab15a6a)\n",
       "        ;\n",
       "\n",
       "        \n",
       "    \n",
       "    \n",
       "            var circle_marker_e663b3dc85403c7d99e7e2774b7848aa = L.circleMarker(\n",
       "                [-17.0, -65.0],\n",
       "                {&quot;bubblingMouseEvents&quot;: true, &quot;color&quot;: &quot;green&quot;, &quot;dashArray&quot;: null, &quot;dashOffset&quot;: null, &quot;fill&quot;: true, &quot;fillColor&quot;: &quot;green&quot;, &quot;fillOpacity&quot;: 0.2, &quot;fillRule&quot;: &quot;evenodd&quot;, &quot;lineCap&quot;: &quot;round&quot;, &quot;lineJoin&quot;: &quot;round&quot;, &quot;opacity&quot;: 1.0, &quot;radius&quot;: 5.052184753516711, &quot;stroke&quot;: true, &quot;weight&quot;: 3}\n",
       "            ).addTo(map_ea1c77cce835ee54a2729a77063d298c);\n",
       "        \n",
       "    \n",
       "        var popup_39dff85067387043496b623574fdc577 = L.popup({&quot;maxWidth&quot;: &quot;100%&quot;});\n",
       "\n",
       "        \n",
       "            \n",
       "                var html_3a2348222494f232d2798577d2199698 = $(`&lt;div id=&quot;html_3a2348222494f232d2798577d2199698&quot; style=&quot;width: 100.0%; height: 100.0%;&quot;&gt;Bolivia&lt;/div&gt;`)[0];\n",
       "                popup_39dff85067387043496b623574fdc577.setContent(html_3a2348222494f232d2798577d2199698);\n",
       "            \n",
       "        \n",
       "\n",
       "        circle_marker_e663b3dc85403c7d99e7e2774b7848aa.bindPopup(popup_39dff85067387043496b623574fdc577)\n",
       "        ;\n",
       "\n",
       "        \n",
       "    \n",
       "    \n",
       "            var circle_marker_ddb1fcb6b0bc1e7398f8ab945968eb1a = L.circleMarker(\n",
       "                [-10.0, -55.0],\n",
       "                {&quot;bubblingMouseEvents&quot;: true, &quot;color&quot;: &quot;green&quot;, &quot;dashArray&quot;: null, &quot;dashOffset&quot;: null, &quot;fill&quot;: true, &quot;fillColor&quot;: &quot;green&quot;, &quot;fillOpacity&quot;: 0.2, &quot;fillRule&quot;: &quot;evenodd&quot;, &quot;lineCap&quot;: &quot;round&quot;, &quot;lineJoin&quot;: &quot;round&quot;, &quot;opacity&quot;: 1.0, &quot;radius&quot;: 15.28450017805036, &quot;stroke&quot;: true, &quot;weight&quot;: 3}\n",
       "            ).addTo(map_ea1c77cce835ee54a2729a77063d298c);\n",
       "        \n",
       "    \n",
       "        var popup_427cf4403f5c5da889362825d428395f = L.popup({&quot;maxWidth&quot;: &quot;100%&quot;});\n",
       "\n",
       "        \n",
       "            \n",
       "                var html_efe7c84d79bd40e15987ce0ce2974761 = $(`&lt;div id=&quot;html_efe7c84d79bd40e15987ce0ce2974761&quot; style=&quot;width: 100.0%; height: 100.0%;&quot;&gt;Brazil&lt;/div&gt;`)[0];\n",
       "                popup_427cf4403f5c5da889362825d428395f.setContent(html_efe7c84d79bd40e15987ce0ce2974761);\n",
       "            \n",
       "        \n",
       "\n",
       "        circle_marker_ddb1fcb6b0bc1e7398f8ab945968eb1a.bindPopup(popup_427cf4403f5c5da889362825d428395f)\n",
       "        ;\n",
       "\n",
       "        \n",
       "    \n",
       "    \n",
       "            var circle_marker_3115a36cc23f64b0b4bc080929f792cc = L.circleMarker(\n",
       "                [27.5, 90.5],\n",
       "                {&quot;bubblingMouseEvents&quot;: true, &quot;color&quot;: &quot;red&quot;, &quot;dashArray&quot;: null, &quot;dashOffset&quot;: null, &quot;fill&quot;: true, &quot;fillColor&quot;: &quot;red&quot;, &quot;fillOpacity&quot;: 0.2, &quot;fillRule&quot;: &quot;evenodd&quot;, &quot;lineCap&quot;: &quot;round&quot;, &quot;lineJoin&quot;: &quot;round&quot;, &quot;opacity&quot;: 1.0, &quot;radius&quot;: 0.7206392380137587, &quot;stroke&quot;: true, &quot;weight&quot;: 3}\n",
       "            ).addTo(map_ea1c77cce835ee54a2729a77063d298c);\n",
       "        \n",
       "    \n",
       "        var popup_986093a48eec531bc8557653809a2dbd = L.popup({&quot;maxWidth&quot;: &quot;100%&quot;});\n",
       "\n",
       "        \n",
       "            \n",
       "                var html_34ab23658492bc7bdb408103f41ebb30 = $(`&lt;div id=&quot;html_34ab23658492bc7bdb408103f41ebb30&quot; style=&quot;width: 100.0%; height: 100.0%;&quot;&gt;Bhutan&lt;/div&gt;`)[0];\n",
       "                popup_986093a48eec531bc8557653809a2dbd.setContent(html_34ab23658492bc7bdb408103f41ebb30);\n",
       "            \n",
       "        \n",
       "\n",
       "        circle_marker_3115a36cc23f64b0b4bc080929f792cc.bindPopup(popup_986093a48eec531bc8557653809a2dbd)\n",
       "        ;\n",
       "\n",
       "        \n",
       "    \n",
       "    \n",
       "            var circle_marker_e48abc3eaf6c464a69acadcb012e7451 = L.circleMarker(\n",
       "                [-22.0, 24.0],\n",
       "                {&quot;bubblingMouseEvents&quot;: true, &quot;color&quot;: &quot;blue&quot;, &quot;dashArray&quot;: null, &quot;dashOffset&quot;: null, &quot;fill&quot;: true, &quot;fillColor&quot;: &quot;blue&quot;, &quot;fillOpacity&quot;: 0.2, &quot;fillRule&quot;: &quot;evenodd&quot;, &quot;lineCap&quot;: &quot;round&quot;, &quot;lineJoin&quot;: &quot;round&quot;, &quot;opacity&quot;: 1.0, &quot;radius&quot;: 2.9123929421974744, &quot;stroke&quot;: true, &quot;weight&quot;: 3}\n",
       "            ).addTo(map_ea1c77cce835ee54a2729a77063d298c);\n",
       "        \n",
       "    \n",
       "        var popup_c39ebf241d5f666b7777270466917d4a = L.popup({&quot;maxWidth&quot;: &quot;100%&quot;});\n",
       "\n",
       "        \n",
       "            \n",
       "                var html_9e033a12cff3d8d87d3d2b4870833160 = $(`&lt;div id=&quot;html_9e033a12cff3d8d87d3d2b4870833160&quot; style=&quot;width: 100.0%; height: 100.0%;&quot;&gt;Botswana&lt;/div&gt;`)[0];\n",
       "                popup_c39ebf241d5f666b7777270466917d4a.setContent(html_9e033a12cff3d8d87d3d2b4870833160);\n",
       "            \n",
       "        \n",
       "\n",
       "        circle_marker_e48abc3eaf6c464a69acadcb012e7451.bindPopup(popup_c39ebf241d5f666b7777270466917d4a)\n",
       "        ;\n",
       "\n",
       "        \n",
       "    \n",
       "    \n",
       "            var circle_marker_100a9aa24a3003f25888abde7cf9c257 = L.circleMarker(\n",
       "                [7.0, 21.0],\n",
       "                {&quot;bubblingMouseEvents&quot;: true, &quot;color&quot;: &quot;blue&quot;, &quot;dashArray&quot;: null, &quot;dashOffset&quot;: null, &quot;fill&quot;: true, &quot;fillColor&quot;: &quot;blue&quot;, &quot;fillOpacity&quot;: 0.2, &quot;fillRule&quot;: &quot;evenodd&quot;, &quot;lineCap&quot;: &quot;round&quot;, &quot;lineJoin&quot;: &quot;round&quot;, &quot;opacity&quot;: 1.0, &quot;radius&quot;: 9.366574211629363, &quot;stroke&quot;: true, &quot;weight&quot;: 3}\n",
       "            ).addTo(map_ea1c77cce835ee54a2729a77063d298c);\n",
       "        \n",
       "    \n",
       "        var popup_4f08db6033d817531d13d95e64e6eacf = L.popup({&quot;maxWidth&quot;: &quot;100%&quot;});\n",
       "\n",
       "        \n",
       "            \n",
       "                var html_5233c8b1976355294ce5bdfcb5b67be2 = $(`&lt;div id=&quot;html_5233c8b1976355294ce5bdfcb5b67be2&quot; style=&quot;width: 100.0%; height: 100.0%;&quot;&gt;Central African Republic&lt;/div&gt;`)[0];\n",
       "                popup_4f08db6033d817531d13d95e64e6eacf.setContent(html_5233c8b1976355294ce5bdfcb5b67be2);\n",
       "            \n",
       "        \n",
       "\n",
       "        circle_marker_100a9aa24a3003f25888abde7cf9c257.bindPopup(popup_4f08db6033d817531d13d95e64e6eacf)\n",
       "        ;\n",
       "\n",
       "        \n",
       "    \n",
       "    \n",
       "            var circle_marker_0744129f8d3831092373e7b6002adc14 = L.circleMarker(\n",
       "                [60.10867, -113.64258],\n",
       "                {&quot;bubblingMouseEvents&quot;: true, &quot;color&quot;: &quot;green&quot;, &quot;dashArray&quot;: null, &quot;dashOffset&quot;: null, &quot;fill&quot;: true, &quot;fillColor&quot;: &quot;green&quot;, &quot;fillOpacity&quot;: 0.2, &quot;fillRule&quot;: &quot;evenodd&quot;, &quot;lineCap&quot;: &quot;round&quot;, &quot;lineJoin&quot;: &quot;round&quot;, &quot;opacity&quot;: 1.0, &quot;radius&quot;: 1.9224028370637056, &quot;stroke&quot;: true, &quot;weight&quot;: 3}\n",
       "            ).addTo(map_ea1c77cce835ee54a2729a77063d298c);\n",
       "        \n",
       "    \n",
       "        var popup_0d789d2d8374fe5778de2f92f4adbd43 = L.popup({&quot;maxWidth&quot;: &quot;100%&quot;});\n",
       "\n",
       "        \n",
       "            \n",
       "                var html_5891ca3652f98dd6ef0fd6faf6379efc = $(`&lt;div id=&quot;html_5891ca3652f98dd6ef0fd6faf6379efc&quot; style=&quot;width: 100.0%; height: 100.0%;&quot;&gt;Canada&lt;/div&gt;`)[0];\n",
       "                popup_0d789d2d8374fe5778de2f92f4adbd43.setContent(html_5891ca3652f98dd6ef0fd6faf6379efc);\n",
       "            \n",
       "        \n",
       "\n",
       "        circle_marker_0744129f8d3831092373e7b6002adc14.bindPopup(popup_0d789d2d8374fe5778de2f92f4adbd43)\n",
       "        ;\n",
       "\n",
       "        \n",
       "    \n",
       "    \n",
       "            var circle_marker_244bc730cd0bc29bb53c654e83506470 = L.circleMarker(\n",
       "                [47.00016, 8.01427],\n",
       "                {&quot;bubblingMouseEvents&quot;: true, &quot;color&quot;: &quot;black&quot;, &quot;dashArray&quot;: null, &quot;dashOffset&quot;: null, &quot;fill&quot;: true, &quot;fillColor&quot;: &quot;black&quot;, &quot;fillOpacity&quot;: 0.2, &quot;fillRule&quot;: &quot;evenodd&quot;, &quot;lineCap&quot;: &quot;round&quot;, &quot;lineJoin&quot;: &quot;round&quot;, &quot;opacity&quot;: 1.0, &quot;radius&quot;: 1.2904795033493706, &quot;stroke&quot;: true, &quot;weight&quot;: 3}\n",
       "            ).addTo(map_ea1c77cce835ee54a2729a77063d298c);\n",
       "        \n",
       "    \n",
       "        var popup_bbd666e72d151eae08ca09b3d04d2f32 = L.popup({&quot;maxWidth&quot;: &quot;100%&quot;});\n",
       "\n",
       "        \n",
       "            \n",
       "                var html_fc730f4f8cf2edadb551b3bf103d3347 = $(`&lt;div id=&quot;html_fc730f4f8cf2edadb551b3bf103d3347&quot; style=&quot;width: 100.0%; height: 100.0%;&quot;&gt;Switzerland&lt;/div&gt;`)[0];\n",
       "                popup_bbd666e72d151eae08ca09b3d04d2f32.setContent(html_fc730f4f8cf2edadb551b3bf103d3347);\n",
       "            \n",
       "        \n",
       "\n",
       "        circle_marker_244bc730cd0bc29bb53c654e83506470.bindPopup(popup_bbd666e72d151eae08ca09b3d04d2f32)\n",
       "        ;\n",
       "\n",
       "        \n",
       "    \n",
       "    \n",
       "            var circle_marker_0d666613aa5af1d7523e885ef0d7e715 = L.circleMarker(\n",
       "                [-33.45694, -70.64827],\n",
       "                {&quot;bubblingMouseEvents&quot;: true, &quot;color&quot;: &quot;green&quot;, &quot;dashArray&quot;: null, &quot;dashOffset&quot;: null, &quot;fill&quot;: true, &quot;fillColor&quot;: &quot;green&quot;, &quot;fillOpacity&quot;: 0.2, &quot;fillRule&quot;: &quot;evenodd&quot;, &quot;lineCap&quot;: &quot;round&quot;, &quot;lineJoin&quot;: &quot;round&quot;, &quot;opacity&quot;: 1.0, &quot;radius&quot;: 2.123175218749607, &quot;stroke&quot;: true, &quot;weight&quot;: 3}\n",
       "            ).addTo(map_ea1c77cce835ee54a2729a77063d298c);\n",
       "        \n",
       "    \n",
       "        var popup_8a00daddef411937ceefa6ae39fbee89 = L.popup({&quot;maxWidth&quot;: &quot;100%&quot;});\n",
       "\n",
       "        \n",
       "            \n",
       "                var html_ce3ab24a301c6fe74233f83e9d76d5cc = $(`&lt;div id=&quot;html_ce3ab24a301c6fe74233f83e9d76d5cc&quot; style=&quot;width: 100.0%; height: 100.0%;&quot;&gt;Chile&lt;/div&gt;`)[0];\n",
       "                popup_8a00daddef411937ceefa6ae39fbee89.setContent(html_ce3ab24a301c6fe74233f83e9d76d5cc);\n",
       "            \n",
       "        \n",
       "\n",
       "        circle_marker_0d666613aa5af1d7523e885ef0d7e715.bindPopup(popup_8a00daddef411937ceefa6ae39fbee89)\n",
       "        ;\n",
       "\n",
       "        \n",
       "    \n",
       "    \n",
       "            var circle_marker_1cf5f97ef305af9e5ebd89f4e4d20d52 = L.circleMarker(\n",
       "                [35.0, 105.0],\n",
       "                {&quot;bubblingMouseEvents&quot;: true, &quot;color&quot;: &quot;red&quot;, &quot;dashArray&quot;: null, &quot;dashOffset&quot;: null, &quot;fill&quot;: true, &quot;fillColor&quot;: &quot;red&quot;, &quot;fillOpacity&quot;: 0.2, &quot;fillRule&quot;: &quot;evenodd&quot;, &quot;lineCap&quot;: &quot;round&quot;, &quot;lineJoin&quot;: &quot;round&quot;, &quot;opacity&quot;: 1.0, &quot;radius&quot;: 52.22565683421991, &quot;stroke&quot;: true, &quot;weight&quot;: 3}\n",
       "            ).addTo(map_ea1c77cce835ee54a2729a77063d298c);\n",
       "        \n",
       "    \n",
       "        var popup_2e7345933d10a6a13bf4541bfc70fc73 = L.popup({&quot;maxWidth&quot;: &quot;100%&quot;});\n",
       "\n",
       "        \n",
       "            \n",
       "                var html_2faea9a9ca3c6a1dede2425ce1ca13a6 = $(`&lt;div id=&quot;html_2faea9a9ca3c6a1dede2425ce1ca13a6&quot; style=&quot;width: 100.0%; height: 100.0%;&quot;&gt;China&lt;/div&gt;`)[0];\n",
       "                popup_2e7345933d10a6a13bf4541bfc70fc73.setContent(html_2faea9a9ca3c6a1dede2425ce1ca13a6);\n",
       "            \n",
       "        \n",
       "\n",
       "        circle_marker_1cf5f97ef305af9e5ebd89f4e4d20d52.bindPopup(popup_2e7345933d10a6a13bf4541bfc70fc73)\n",
       "        ;\n",
       "\n",
       "        \n",
       "    \n",
       "    \n",
       "            var circle_marker_4794a9c0331b110d977d5534b920056a = L.circleMarker(\n",
       "                [8.0, -5.5],\n",
       "                {&quot;bubblingMouseEvents&quot;: true, &quot;color&quot;: &quot;blue&quot;, &quot;dashArray&quot;: null, &quot;dashOffset&quot;: null, &quot;fill&quot;: true, &quot;fillColor&quot;: &quot;blue&quot;, &quot;fillOpacity&quot;: 0.2, &quot;fillRule&quot;: &quot;evenodd&quot;, &quot;lineCap&quot;: &quot;round&quot;, &quot;lineJoin&quot;: &quot;round&quot;, &quot;opacity&quot;: 1.0, &quot;radius&quot;: 15.133268018862994, &quot;stroke&quot;: true, &quot;weight&quot;: 3}\n",
       "            ).addTo(map_ea1c77cce835ee54a2729a77063d298c);\n",
       "        \n",
       "    \n",
       "        var popup_c96de05d7311781e92aa1ba80ee9a2f5 = L.popup({&quot;maxWidth&quot;: &quot;100%&quot;});\n",
       "\n",
       "        \n",
       "            \n",
       "                var html_b1cc11081b99953fbe582a3e9875cba5 = $(`&lt;div id=&quot;html_b1cc11081b99953fbe582a3e9875cba5&quot; style=&quot;width: 100.0%; height: 100.0%;&quot;&gt;Cote d&#x27;Ivoire&lt;/div&gt;`)[0];\n",
       "                popup_c96de05d7311781e92aa1ba80ee9a2f5.setContent(html_b1cc11081b99953fbe582a3e9875cba5);\n",
       "            \n",
       "        \n",
       "\n",
       "        circle_marker_4794a9c0331b110d977d5534b920056a.bindPopup(popup_c96de05d7311781e92aa1ba80ee9a2f5)\n",
       "        ;\n",
       "\n",
       "        \n",
       "    \n",
       "    \n",
       "            var circle_marker_b8f2ef44e391bb9024894f70cf5337f9 = L.circleMarker(\n",
       "                [6.0, 12.5],\n",
       "                {&quot;bubblingMouseEvents&quot;: true, &quot;color&quot;: &quot;blue&quot;, &quot;dashArray&quot;: null, &quot;dashOffset&quot;: null, &quot;fill&quot;: true, &quot;fillColor&quot;: &quot;blue&quot;, &quot;fillOpacity&quot;: 0.2, &quot;fillRule&quot;: &quot;evenodd&quot;, &quot;lineCap&quot;: &quot;round&quot;, &quot;lineJoin&quot;: &quot;round&quot;, &quot;opacity&quot;: 1.0, &quot;radius&quot;: 13.370478076968471, &quot;stroke&quot;: true, &quot;weight&quot;: 3}\n",
       "            ).addTo(map_ea1c77cce835ee54a2729a77063d298c);\n",
       "        \n",
       "    \n",
       "        var popup_1bfd43b04a137fb79e13566bee1b436f = L.popup({&quot;maxWidth&quot;: &quot;100%&quot;});\n",
       "\n",
       "        \n",
       "            \n",
       "                var html_af9f04a6b6a592e8406f6ba62371b7ac = $(`&lt;div id=&quot;html_af9f04a6b6a592e8406f6ba62371b7ac&quot; style=&quot;width: 100.0%; height: 100.0%;&quot;&gt;Cameroon&lt;/div&gt;`)[0];\n",
       "                popup_1bfd43b04a137fb79e13566bee1b436f.setContent(html_af9f04a6b6a592e8406f6ba62371b7ac);\n",
       "            \n",
       "        \n",
       "\n",
       "        circle_marker_b8f2ef44e391bb9024894f70cf5337f9.bindPopup(popup_1bfd43b04a137fb79e13566bee1b436f)\n",
       "        ;\n",
       "\n",
       "        \n",
       "    \n",
       "    \n",
       "            var circle_marker_f77270dfe93b8134dd58256377bb45ed = L.circleMarker(\n",
       "                [-2.5, 23.5],\n",
       "                {&quot;bubblingMouseEvents&quot;: true, &quot;color&quot;: &quot;blue&quot;, &quot;dashArray&quot;: null, &quot;dashOffset&quot;: null, &quot;fill&quot;: true, &quot;fillColor&quot;: &quot;blue&quot;, &quot;fillOpacity&quot;: 0.2, &quot;fillRule&quot;: &quot;evenodd&quot;, &quot;lineCap&quot;: &quot;round&quot;, &quot;lineJoin&quot;: &quot;round&quot;, &quot;opacity&quot;: 1.0, &quot;radius&quot;: 42.458934867062915, &quot;stroke&quot;: true, &quot;weight&quot;: 3}\n",
       "            ).addTo(map_ea1c77cce835ee54a2729a77063d298c);\n",
       "        \n",
       "    \n",
       "        var popup_bbd3e72be7e99f24818c5759f026f9ee = L.popup({&quot;maxWidth&quot;: &quot;100%&quot;});\n",
       "\n",
       "        \n",
       "            \n",
       "                var html_c594b874499ffee4f3cb6017b3280988 = $(`&lt;div id=&quot;html_c594b874499ffee4f3cb6017b3280988&quot; style=&quot;width: 100.0%; height: 100.0%;&quot;&gt;Congo, Dem. Rep.&lt;/div&gt;`)[0];\n",
       "                popup_bbd3e72be7e99f24818c5759f026f9ee.setContent(html_c594b874499ffee4f3cb6017b3280988);\n",
       "            \n",
       "        \n",
       "\n",
       "        circle_marker_f77270dfe93b8134dd58256377bb45ed.bindPopup(popup_bbd3e72be7e99f24818c5759f026f9ee)\n",
       "        ;\n",
       "\n",
       "        \n",
       "    \n",
       "    \n",
       "            var circle_marker_f428eb0e170b51578acb20f6a304786e = L.circleMarker(\n",
       "                [-1.0, 15.5],\n",
       "                {&quot;bubblingMouseEvents&quot;: true, &quot;color&quot;: &quot;blue&quot;, &quot;dashArray&quot;: null, &quot;dashOffset&quot;: null, &quot;fill&quot;: true, &quot;fillColor&quot;: &quot;blue&quot;, &quot;fillOpacity&quot;: 0.2, &quot;fillRule&quot;: &quot;evenodd&quot;, &quot;lineCap&quot;: &quot;round&quot;, &quot;lineJoin&quot;: &quot;round&quot;, &quot;opacity&quot;: 1.0, &quot;radius&quot;: 6.681874266230515, &quot;stroke&quot;: true, &quot;weight&quot;: 3}\n",
       "            ).addTo(map_ea1c77cce835ee54a2729a77063d298c);\n",
       "        \n",
       "    \n",
       "        var popup_1f51101ffaab0e6c4ce4bc2302011561 = L.popup({&quot;maxWidth&quot;: &quot;100%&quot;});\n",
       "\n",
       "        \n",
       "            \n",
       "                var html_bc10ad5edc565caa522fa946dd529552 = $(`&lt;div id=&quot;html_bc10ad5edc565caa522fa946dd529552&quot; style=&quot;width: 100.0%; height: 100.0%;&quot;&gt;Congo, Rep.&lt;/div&gt;`)[0];\n",
       "                popup_1f51101ffaab0e6c4ce4bc2302011561.setContent(html_bc10ad5edc565caa522fa946dd529552);\n",
       "            \n",
       "        \n",
       "\n",
       "        circle_marker_f428eb0e170b51578acb20f6a304786e.bindPopup(popup_1f51101ffaab0e6c4ce4bc2302011561)\n",
       "        ;\n",
       "\n",
       "        \n",
       "    \n",
       "    \n",
       "            var circle_marker_8c7a271a01526b7d0193d98c3ab51ddb = L.circleMarker(\n",
       "                [4.0, -73.25],\n",
       "                {&quot;bubblingMouseEvents&quot;: true, &quot;color&quot;: &quot;green&quot;, &quot;dashArray&quot;: null, &quot;dashOffset&quot;: null, &quot;fill&quot;: true, &quot;fillColor&quot;: &quot;green&quot;, &quot;fillOpacity&quot;: 0.2, &quot;fillRule&quot;: &quot;evenodd&quot;, &quot;lineCap&quot;: &quot;round&quot;, &quot;lineJoin&quot;: &quot;round&quot;, &quot;opacity&quot;: 1.0, &quot;radius&quot;: 9.002383302558597, &quot;stroke&quot;: true, &quot;weight&quot;: 3}\n",
       "            ).addTo(map_ea1c77cce835ee54a2729a77063d298c);\n",
       "        \n",
       "    \n",
       "        var popup_0b4dc02f3979aa3ea914a344242546e2 = L.popup({&quot;maxWidth&quot;: &quot;100%&quot;});\n",
       "\n",
       "        \n",
       "            \n",
       "                var html_7580c6b2ec6b14cd6734630908b8f9e6 = $(`&lt;div id=&quot;html_7580c6b2ec6b14cd6734630908b8f9e6&quot; style=&quot;width: 100.0%; height: 100.0%;&quot;&gt;Colombia&lt;/div&gt;`)[0];\n",
       "                popup_0b4dc02f3979aa3ea914a344242546e2.setContent(html_7580c6b2ec6b14cd6734630908b8f9e6);\n",
       "            \n",
       "        \n",
       "\n",
       "        circle_marker_8c7a271a01526b7d0193d98c3ab51ddb.bindPopup(popup_0b4dc02f3979aa3ea914a344242546e2)\n",
       "        ;\n",
       "\n",
       "        \n",
       "    \n",
       "    \n",
       "            var circle_marker_2a6d52944f419a06af0188878298f0f1 = L.circleMarker(\n",
       "                [-12.23333, 44.44553],\n",
       "                {&quot;bubblingMouseEvents&quot;: true, &quot;color&quot;: &quot;blue&quot;, &quot;dashArray&quot;: null, &quot;dashOffset&quot;: null, &quot;fill&quot;: true, &quot;fillColor&quot;: &quot;blue&quot;, &quot;fillOpacity&quot;: 0.2, &quot;fillRule&quot;: &quot;evenodd&quot;, &quot;lineCap&quot;: &quot;round&quot;, &quot;lineJoin&quot;: &quot;round&quot;, &quot;opacity&quot;: 1.0, &quot;radius&quot;: 3.1816432260867775, &quot;stroke&quot;: true, &quot;weight&quot;: 3}\n",
       "            ).addTo(map_ea1c77cce835ee54a2729a77063d298c);\n",
       "        \n",
       "    \n",
       "        var popup_9aad98a5a8db431ff297061a76bcaea9 = L.popup({&quot;maxWidth&quot;: &quot;100%&quot;});\n",
       "\n",
       "        \n",
       "            \n",
       "                var html_0c53d7b148399e9300411e7f0ea06a03 = $(`&lt;div id=&quot;html_0c53d7b148399e9300411e7f0ea06a03&quot; style=&quot;width: 100.0%; height: 100.0%;&quot;&gt;Comoros&lt;/div&gt;`)[0];\n",
       "                popup_9aad98a5a8db431ff297061a76bcaea9.setContent(html_0c53d7b148399e9300411e7f0ea06a03);\n",
       "            \n",
       "        \n",
       "\n",
       "        circle_marker_2a6d52944f419a06af0188878298f0f1.bindPopup(popup_9aad98a5a8db431ff297061a76bcaea9)\n",
       "        ;\n",
       "\n",
       "        \n",
       "    \n",
       "    \n",
       "            var circle_marker_e27fdd27bbf7967a5ddd6dc61d550d32 = L.circleMarker(\n",
       "                [16.0, -24.0],\n",
       "                {&quot;bubblingMouseEvents&quot;: true, &quot;color&quot;: &quot;blue&quot;, &quot;dashArray&quot;: null, &quot;dashOffset&quot;: null, &quot;fill&quot;: true, &quot;fillColor&quot;: &quot;blue&quot;, &quot;fillOpacity&quot;: 0.2, &quot;fillRule&quot;: &quot;evenodd&quot;, &quot;lineCap&quot;: &quot;round&quot;, &quot;lineJoin&quot;: &quot;round&quot;, &quot;opacity&quot;: 1.0, &quot;radius&quot;: 1.466792626927347, &quot;stroke&quot;: true, &quot;weight&quot;: 3}\n",
       "            ).addTo(map_ea1c77cce835ee54a2729a77063d298c);\n",
       "        \n",
       "    \n",
       "        var popup_387d98664e6b08a63e871b97a07d8267 = L.popup({&quot;maxWidth&quot;: &quot;100%&quot;});\n",
       "\n",
       "        \n",
       "            \n",
       "                var html_68cb403b8fca74a9331f1a2e1ee154e8 = $(`&lt;div id=&quot;html_68cb403b8fca74a9331f1a2e1ee154e8&quot; style=&quot;width: 100.0%; height: 100.0%;&quot;&gt;Cape Verde&lt;/div&gt;`)[0];\n",
       "                popup_387d98664e6b08a63e871b97a07d8267.setContent(html_68cb403b8fca74a9331f1a2e1ee154e8);\n",
       "            \n",
       "        \n",
       "\n",
       "        circle_marker_e27fdd27bbf7967a5ddd6dc61d550d32.bindPopup(popup_387d98664e6b08a63e871b97a07d8267)\n",
       "        ;\n",
       "\n",
       "        \n",
       "    \n",
       "    \n",
       "            var circle_marker_ab92adb41b973ee735cb10d1c460c7e3 = L.circleMarker(\n",
       "                [10.0, -84.0],\n",
       "                {&quot;bubblingMouseEvents&quot;: true, &quot;color&quot;: &quot;green&quot;, &quot;dashArray&quot;: null, &quot;dashOffset&quot;: null, &quot;fill&quot;: true, &quot;fillColor&quot;: &quot;green&quot;, &quot;fillOpacity&quot;: 0.2, &quot;fillRule&quot;: &quot;evenodd&quot;, &quot;lineCap&quot;: &quot;round&quot;, &quot;lineJoin&quot;: &quot;round&quot;, &quot;opacity&quot;: 1.0, &quot;radius&quot;: 1.402490747471023, &quot;stroke&quot;: true, &quot;weight&quot;: 3}\n",
       "            ).addTo(map_ea1c77cce835ee54a2729a77063d298c);\n",
       "        \n",
       "    \n",
       "        var popup_d5be04b7df7a6fe941d6d9e40588f6ec = L.popup({&quot;maxWidth&quot;: &quot;100%&quot;});\n",
       "\n",
       "        \n",
       "            \n",
       "                var html_c823dedd728e35c059a0cd8dd6af9fff = $(`&lt;div id=&quot;html_c823dedd728e35c059a0cd8dd6af9fff&quot; style=&quot;width: 100.0%; height: 100.0%;&quot;&gt;Costa Rica&lt;/div&gt;`)[0];\n",
       "                popup_d5be04b7df7a6fe941d6d9e40588f6ec.setContent(html_c823dedd728e35c059a0cd8dd6af9fff);\n",
       "            \n",
       "        \n",
       "\n",
       "        circle_marker_ab92adb41b973ee735cb10d1c460c7e3.bindPopup(popup_d5be04b7df7a6fe941d6d9e40588f6ec)\n",
       "        ;\n",
       "\n",
       "        \n",
       "    \n",
       "    \n",
       "            var circle_marker_6db0d4823c94a33958f4259e03315d7a = L.circleMarker(\n",
       "                [49.75, 15.0],\n",
       "                {&quot;bubblingMouseEvents&quot;: true, &quot;color&quot;: &quot;black&quot;, &quot;dashArray&quot;: null, &quot;dashOffset&quot;: null, &quot;fill&quot;: true, &quot;fillColor&quot;: &quot;black&quot;, &quot;fillOpacity&quot;: 0.2, &quot;fillRule&quot;: &quot;evenodd&quot;, &quot;lineCap&quot;: &quot;round&quot;, &quot;lineJoin&quot;: &quot;round&quot;, &quot;opacity&quot;: 1.0, &quot;radius&quot;: 0.3172007206224751, &quot;stroke&quot;: true, &quot;weight&quot;: 3}\n",
       "            ).addTo(map_ea1c77cce835ee54a2729a77063d298c);\n",
       "        \n",
       "    \n",
       "        var popup_5bb40653790eca9784a163134769e282 = L.popup({&quot;maxWidth&quot;: &quot;100%&quot;});\n",
       "\n",
       "        \n",
       "            \n",
       "                var html_338fc2ee201ce41ba23cedb022b326d9 = $(`&lt;div id=&quot;html_338fc2ee201ce41ba23cedb022b326d9&quot; style=&quot;width: 100.0%; height: 100.0%;&quot;&gt;Czech Republic&lt;/div&gt;`)[0];\n",
       "                popup_5bb40653790eca9784a163134769e282.setContent(html_338fc2ee201ce41ba23cedb022b326d9);\n",
       "            \n",
       "        \n",
       "\n",
       "        circle_marker_6db0d4823c94a33958f4259e03315d7a.bindPopup(popup_5bb40653790eca9784a163134769e282)\n",
       "        ;\n",
       "\n",
       "        \n",
       "    \n",
       "    \n",
       "            var circle_marker_10515668b956337c687b8f2ab38c1ffe = L.circleMarker(\n",
       "                [51.5, 10.5],\n",
       "                {&quot;bubblingMouseEvents&quot;: true, &quot;color&quot;: &quot;black&quot;, &quot;dashArray&quot;: null, &quot;dashOffset&quot;: null, &quot;fill&quot;: true, &quot;fillColor&quot;: &quot;black&quot;, &quot;fillOpacity&quot;: 0.2, &quot;fillRule&quot;: &quot;evenodd&quot;, &quot;lineCap&quot;: &quot;round&quot;, &quot;lineJoin&quot;: &quot;round&quot;, &quot;opacity&quot;: 1.0, &quot;radius&quot;: 2.9576225902270945, &quot;stroke&quot;: true, &quot;weight&quot;: 3}\n",
       "            ).addTo(map_ea1c77cce835ee54a2729a77063d298c);\n",
       "        \n",
       "    \n",
       "        var popup_6ed0638fed4fdba9b3c42e8fa80d7fc2 = L.popup({&quot;maxWidth&quot;: &quot;100%&quot;});\n",
       "\n",
       "        \n",
       "            \n",
       "                var html_a14030ec1b5de3d19ea2849e8c5d97bb = $(`&lt;div id=&quot;html_a14030ec1b5de3d19ea2849e8c5d97bb&quot; style=&quot;width: 100.0%; height: 100.0%;&quot;&gt;Germany&lt;/div&gt;`)[0];\n",
       "                popup_6ed0638fed4fdba9b3c42e8fa80d7fc2.setContent(html_a14030ec1b5de3d19ea2849e8c5d97bb);\n",
       "            \n",
       "        \n",
       "\n",
       "        circle_marker_10515668b956337c687b8f2ab38c1ffe.bindPopup(popup_6ed0638fed4fdba9b3c42e8fa80d7fc2)\n",
       "        ;\n",
       "\n",
       "        \n",
       "    \n",
       "    \n",
       "            var circle_marker_6e0ce1d6d75336ae904a059194da96fb = L.circleMarker(\n",
       "                [11.58901, 43.14503],\n",
       "                {&quot;bubblingMouseEvents&quot;: true, &quot;color&quot;: &quot;blue&quot;, &quot;dashArray&quot;: null, &quot;dashOffset&quot;: null, &quot;fill&quot;: true, &quot;fillColor&quot;: &quot;blue&quot;, &quot;fillOpacity&quot;: 0.2, &quot;fillRule&quot;: &quot;evenodd&quot;, &quot;lineCap&quot;: &quot;round&quot;, &quot;lineJoin&quot;: &quot;round&quot;, &quot;opacity&quot;: 1.0, &quot;radius&quot;: 2.2440886622695375, &quot;stroke&quot;: true, &quot;weight&quot;: 3}\n",
       "            ).addTo(map_ea1c77cce835ee54a2729a77063d298c);\n",
       "        \n",
       "    \n",
       "        var popup_41864329f9d7b7dba0cd516e18ee9001 = L.popup({&quot;maxWidth&quot;: &quot;100%&quot;});\n",
       "\n",
       "        \n",
       "            \n",
       "                var html_845782120387716d88138d86f381bf84 = $(`&lt;div id=&quot;html_845782120387716d88138d86f381bf84&quot; style=&quot;width: 100.0%; height: 100.0%;&quot;&gt;Djibouti&lt;/div&gt;`)[0];\n",
       "                popup_41864329f9d7b7dba0cd516e18ee9001.setContent(html_845782120387716d88138d86f381bf84);\n",
       "            \n",
       "        \n",
       "\n",
       "        circle_marker_6e0ce1d6d75336ae904a059194da96fb.bindPopup(popup_41864329f9d7b7dba0cd516e18ee9001)\n",
       "        ;\n",
       "\n",
       "        \n",
       "    \n",
       "    \n",
       "            var circle_marker_e5081484fa472f44e084eaf8eabacf7b = L.circleMarker(\n",
       "                [56.0, 10.0],\n",
       "                {&quot;bubblingMouseEvents&quot;: true, &quot;color&quot;: &quot;black&quot;, &quot;dashArray&quot;: null, &quot;dashOffset&quot;: null, &quot;fill&quot;: true, &quot;fillColor&quot;: &quot;black&quot;, &quot;fillOpacity&quot;: 0.2, &quot;fillRule&quot;: &quot;evenodd&quot;, &quot;lineCap&quot;: &quot;round&quot;, &quot;lineJoin&quot;: &quot;round&quot;, &quot;opacity&quot;: 1.0, &quot;radius&quot;: 1.0884252140050579, &quot;stroke&quot;: true, &quot;weight&quot;: 3}\n",
       "            ).addTo(map_ea1c77cce835ee54a2729a77063d298c);\n",
       "        \n",
       "    \n",
       "        var popup_d67be66a2e0b33a509c6675d4657442a = L.popup({&quot;maxWidth&quot;: &quot;100%&quot;});\n",
       "\n",
       "        \n",
       "            \n",
       "                var html_3a186fbe52f99917766760819a171dca = $(`&lt;div id=&quot;html_3a186fbe52f99917766760819a171dca&quot; style=&quot;width: 100.0%; height: 100.0%;&quot;&gt;Denmark&lt;/div&gt;`)[0];\n",
       "                popup_d67be66a2e0b33a509c6675d4657442a.setContent(html_3a186fbe52f99917766760819a171dca);\n",
       "            \n",
       "        \n",
       "\n",
       "        circle_marker_e5081484fa472f44e084eaf8eabacf7b.bindPopup(popup_d67be66a2e0b33a509c6675d4657442a)\n",
       "        ;\n",
       "\n",
       "        \n",
       "    \n",
       "    \n",
       "            var circle_marker_0e06b7cfdc6f3d910b7f79738ab831ec = L.circleMarker(\n",
       "                [19.0, -70.66667],\n",
       "                {&quot;bubblingMouseEvents&quot;: true, &quot;color&quot;: &quot;green&quot;, &quot;dashArray&quot;: null, &quot;dashOffset&quot;: null, &quot;fill&quot;: true, &quot;fillColor&quot;: &quot;green&quot;, &quot;fillOpacity&quot;: 0.2, &quot;fillRule&quot;: &quot;evenodd&quot;, &quot;lineCap&quot;: &quot;round&quot;, &quot;lineJoin&quot;: &quot;round&quot;, &quot;opacity&quot;: 1.0, &quot;radius&quot;: 2.635074206700677, &quot;stroke&quot;: true, &quot;weight&quot;: 3}\n",
       "            ).addTo(map_ea1c77cce835ee54a2729a77063d298c);\n",
       "        \n",
       "    \n",
       "        var popup_0528a66731fe260700e9ae580add7f81 = L.popup({&quot;maxWidth&quot;: &quot;100%&quot;});\n",
       "\n",
       "        \n",
       "            \n",
       "                var html_4aee29f130a2da72afa07d8fe0902a9b = $(`&lt;div id=&quot;html_4aee29f130a2da72afa07d8fe0902a9b&quot; style=&quot;width: 100.0%; height: 100.0%;&quot;&gt;Dominican Republic&lt;/div&gt;`)[0];\n",
       "                popup_0528a66731fe260700e9ae580add7f81.setContent(html_4aee29f130a2da72afa07d8fe0902a9b);\n",
       "            \n",
       "        \n",
       "\n",
       "        circle_marker_0e06b7cfdc6f3d910b7f79738ab831ec.bindPopup(popup_0528a66731fe260700e9ae580add7f81)\n",
       "        ;\n",
       "\n",
       "        \n",
       "    \n",
       "    \n",
       "            var circle_marker_3a9585121af6c29b63068f52f5d01f45 = L.circleMarker(\n",
       "                [28.0, 3.0],\n",
       "                {&quot;bubblingMouseEvents&quot;: true, &quot;color&quot;: &quot;blue&quot;, &quot;dashArray&quot;: null, &quot;dashOffset&quot;: null, &quot;fill&quot;: true, &quot;fillColor&quot;: &quot;blue&quot;, &quot;fillOpacity&quot;: 0.2, &quot;fillRule&quot;: &quot;evenodd&quot;, &quot;lineCap&quot;: &quot;round&quot;, &quot;lineJoin&quot;: &quot;round&quot;, &quot;opacity&quot;: 1.0, &quot;radius&quot;: 8.547726116605208, &quot;stroke&quot;: true, &quot;weight&quot;: 3}\n",
       "            ).addTo(map_ea1c77cce835ee54a2729a77063d298c);\n",
       "        \n",
       "    \n",
       "        var popup_5624cb42f7e6a3c4d7ad97198daec9ca = L.popup({&quot;maxWidth&quot;: &quot;100%&quot;});\n",
       "\n",
       "        \n",
       "            \n",
       "                var html_14238573af7ec5d04df946fccbc92fe1 = $(`&lt;div id=&quot;html_14238573af7ec5d04df946fccbc92fe1&quot; style=&quot;width: 100.0%; height: 100.0%;&quot;&gt;Algeria&lt;/div&gt;`)[0];\n",
       "                popup_5624cb42f7e6a3c4d7ad97198daec9ca.setContent(html_14238573af7ec5d04df946fccbc92fe1);\n",
       "            \n",
       "        \n",
       "\n",
       "        circle_marker_3a9585121af6c29b63068f52f5d01f45.bindPopup(popup_5624cb42f7e6a3c4d7ad97198daec9ca)\n",
       "        ;\n",
       "\n",
       "        \n",
       "    \n",
       "    \n",
       "            var circle_marker_cd1c995873f842927ca9749b39f71a6a = L.circleMarker(\n",
       "                [-1.25, -78.25],\n",
       "                {&quot;bubblingMouseEvents&quot;: true, &quot;color&quot;: &quot;green&quot;, &quot;dashArray&quot;: null, &quot;dashOffset&quot;: null, &quot;fill&quot;: true, &quot;fillColor&quot;: &quot;green&quot;, &quot;fillOpacity&quot;: 0.2, &quot;fillRule&quot;: &quot;evenodd&quot;, &quot;lineCap&quot;: &quot;round&quot;, &quot;lineJoin&quot;: &quot;round&quot;, &quot;opacity&quot;: 1.0, &quot;radius&quot;: 4.344402681138805, &quot;stroke&quot;: true, &quot;weight&quot;: 3}\n",
       "            ).addTo(map_ea1c77cce835ee54a2729a77063d298c);\n",
       "        \n",
       "    \n",
       "        var popup_b60c408dcd855a22f80c1e9ecb31120a = L.popup({&quot;maxWidth&quot;: &quot;100%&quot;});\n",
       "\n",
       "        \n",
       "            \n",
       "                var html_6413134d0340165cba34080655aa595b = $(`&lt;div id=&quot;html_6413134d0340165cba34080655aa595b&quot; style=&quot;width: 100.0%; height: 100.0%;&quot;&gt;Ecuador&lt;/div&gt;`)[0];\n",
       "                popup_b60c408dcd855a22f80c1e9ecb31120a.setContent(html_6413134d0340165cba34080655aa595b);\n",
       "            \n",
       "        \n",
       "\n",
       "        circle_marker_cd1c995873f842927ca9749b39f71a6a.bindPopup(popup_b60c408dcd855a22f80c1e9ecb31120a)\n",
       "        ;\n",
       "\n",
       "        \n",
       "    \n",
       "    \n",
       "            var circle_marker_fda3d54dbde3e8dc59e1ec65e181737d = L.circleMarker(\n",
       "                [27.0, 30.0],\n",
       "                {&quot;bubblingMouseEvents&quot;: true, &quot;color&quot;: &quot;blue&quot;, &quot;dashArray&quot;: null, &quot;dashOffset&quot;: null, &quot;fill&quot;: true, &quot;fillColor&quot;: &quot;blue&quot;, &quot;fillOpacity&quot;: 0.2, &quot;fillRule&quot;: &quot;evenodd&quot;, &quot;lineCap&quot;: &quot;round&quot;, &quot;lineJoin&quot;: &quot;round&quot;, &quot;opacity&quot;: 1.0, &quot;radius&quot;: 6.652627542975467, &quot;stroke&quot;: true, &quot;weight&quot;: 3}\n",
       "            ).addTo(map_ea1c77cce835ee54a2729a77063d298c);\n",
       "        \n",
       "    \n",
       "        var popup_7340f50049138cdb694f7ab3f38a0f8c = L.popup({&quot;maxWidth&quot;: &quot;100%&quot;});\n",
       "\n",
       "        \n",
       "            \n",
       "                var html_f2a5149d383cbbb04dd96ba73cc91120 = $(`&lt;div id=&quot;html_f2a5149d383cbbb04dd96ba73cc91120&quot; style=&quot;width: 100.0%; height: 100.0%;&quot;&gt;Egypt&lt;/div&gt;`)[0];\n",
       "                popup_7340f50049138cdb694f7ab3f38a0f8c.setContent(html_f2a5149d383cbbb04dd96ba73cc91120);\n",
       "            \n",
       "        \n",
       "\n",
       "        circle_marker_fda3d54dbde3e8dc59e1ec65e181737d.bindPopup(popup_7340f50049138cdb694f7ab3f38a0f8c)\n",
       "        ;\n",
       "\n",
       "        \n",
       "    \n",
       "    \n",
       "            var circle_marker_bcbfe4b8d90ebdc39bb0b53c1a0d9cce = L.circleMarker(\n",
       "                [40.0, -4.0],\n",
       "                {&quot;bubblingMouseEvents&quot;: true, &quot;color&quot;: &quot;black&quot;, &quot;dashArray&quot;: null, &quot;dashOffset&quot;: null, &quot;fill&quot;: true, &quot;fillColor&quot;: &quot;black&quot;, &quot;fillOpacity&quot;: 0.2, &quot;fillRule&quot;: &quot;evenodd&quot;, &quot;lineCap&quot;: &quot;round&quot;, &quot;lineJoin&quot;: &quot;round&quot;, &quot;opacity&quot;: 1.0, &quot;radius&quot;: 5.912388278992385, &quot;stroke&quot;: true, &quot;weight&quot;: 3}\n",
       "            ).addTo(map_ea1c77cce835ee54a2729a77063d298c);\n",
       "        \n",
       "    \n",
       "        var popup_6af82a96843ec3657e94db36ca90bcb9 = L.popup({&quot;maxWidth&quot;: &quot;100%&quot;});\n",
       "\n",
       "        \n",
       "            \n",
       "                var html_bcdb5ccbcfc60441db737b122047bdc6 = $(`&lt;div id=&quot;html_bcdb5ccbcfc60441db737b122047bdc6&quot; style=&quot;width: 100.0%; height: 100.0%;&quot;&gt;Spain&lt;/div&gt;`)[0];\n",
       "                popup_6af82a96843ec3657e94db36ca90bcb9.setContent(html_bcdb5ccbcfc60441db737b122047bdc6);\n",
       "            \n",
       "        \n",
       "\n",
       "        circle_marker_bcbfe4b8d90ebdc39bb0b53c1a0d9cce.bindPopup(popup_6af82a96843ec3657e94db36ca90bcb9)\n",
       "        ;\n",
       "\n",
       "        \n",
       "    \n",
       "    \n",
       "            var circle_marker_bb2a4c4be53d072f08cd91357beb9a59 = L.circleMarker(\n",
       "                [59.0, 26.0],\n",
       "                {&quot;bubblingMouseEvents&quot;: true, &quot;color&quot;: &quot;black&quot;, &quot;dashArray&quot;: null, &quot;dashOffset&quot;: null, &quot;fill&quot;: true, &quot;fillColor&quot;: &quot;black&quot;, &quot;fillOpacity&quot;: 0.2, &quot;fillRule&quot;: &quot;evenodd&quot;, &quot;lineCap&quot;: &quot;round&quot;, &quot;lineJoin&quot;: &quot;round&quot;, &quot;opacity&quot;: 1.0, &quot;radius&quot;: 0.6446247925954945, &quot;stroke&quot;: true, &quot;weight&quot;: 3}\n",
       "            ).addTo(map_ea1c77cce835ee54a2729a77063d298c);\n",
       "        \n",
       "    \n",
       "        var popup_a307600b50459b9d9f9ef9ecda4441bb = L.popup({&quot;maxWidth&quot;: &quot;100%&quot;});\n",
       "\n",
       "        \n",
       "            \n",
       "                var html_9edbf99a4b905359259ba794d15234a6 = $(`&lt;div id=&quot;html_9edbf99a4b905359259ba794d15234a6&quot; style=&quot;width: 100.0%; height: 100.0%;&quot;&gt;Estonia&lt;/div&gt;`)[0];\n",
       "                popup_a307600b50459b9d9f9ef9ecda4441bb.setContent(html_9edbf99a4b905359259ba794d15234a6);\n",
       "            \n",
       "        \n",
       "\n",
       "        circle_marker_bb2a4c4be53d072f08cd91357beb9a59.bindPopup(popup_a307600b50459b9d9f9ef9ecda4441bb)\n",
       "        ;\n",
       "\n",
       "        \n",
       "    \n",
       "    \n",
       "            var circle_marker_a294923dfbe63f0190027f06df3d4379 = L.circleMarker(\n",
       "                [9.0, 39.5],\n",
       "                {&quot;bubblingMouseEvents&quot;: true, &quot;color&quot;: &quot;blue&quot;, &quot;dashArray&quot;: null, &quot;dashOffset&quot;: null, &quot;fill&quot;: true, &quot;fillColor&quot;: &quot;blue&quot;, &quot;fillOpacity&quot;: 0.2, &quot;fillRule&quot;: &quot;evenodd&quot;, &quot;lineCap&quot;: &quot;round&quot;, &quot;lineJoin&quot;: &quot;round&quot;, &quot;opacity&quot;: 1.0, &quot;radius&quot;: 32.03620380534476, &quot;stroke&quot;: true, &quot;weight&quot;: 3}\n",
       "            ).addTo(map_ea1c77cce835ee54a2729a77063d298c);\n",
       "        \n",
       "    \n",
       "        var popup_e3f6975cc5c920703de0301c8bc7671d = L.popup({&quot;maxWidth&quot;: &quot;100%&quot;});\n",
       "\n",
       "        \n",
       "            \n",
       "                var html_68646fac533cf61abe75f734fd6f865c = $(`&lt;div id=&quot;html_68646fac533cf61abe75f734fd6f865c&quot; style=&quot;width: 100.0%; height: 100.0%;&quot;&gt;Ethiopia&lt;/div&gt;`)[0];\n",
       "                popup_e3f6975cc5c920703de0301c8bc7671d.setContent(html_68646fac533cf61abe75f734fd6f865c);\n",
       "            \n",
       "        \n",
       "\n",
       "        circle_marker_a294923dfbe63f0190027f06df3d4379.bindPopup(popup_e3f6975cc5c920703de0301c8bc7671d)\n",
       "        ;\n",
       "\n",
       "        \n",
       "    \n",
       "    \n",
       "            var circle_marker_c97612cd56c1a2c071302d81cb44492d = L.circleMarker(\n",
       "                [-18.0, 178.0],\n",
       "                {&quot;bubblingMouseEvents&quot;: true, &quot;color&quot;: &quot;red&quot;, &quot;dashArray&quot;: null, &quot;dashOffset&quot;: null, &quot;fill&quot;: true, &quot;fillColor&quot;: &quot;red&quot;, &quot;fillOpacity&quot;: 0.2, &quot;fillRule&quot;: &quot;evenodd&quot;, &quot;lineCap&quot;: &quot;round&quot;, &quot;lineJoin&quot;: &quot;round&quot;, &quot;opacity&quot;: 1.0, &quot;radius&quot;: 1.2685759916623571, &quot;stroke&quot;: true, &quot;weight&quot;: 3}\n",
       "            ).addTo(map_ea1c77cce835ee54a2729a77063d298c);\n",
       "        \n",
       "    \n",
       "        var popup_f489b33d6eb81a73efb78a0cfd5957bb = L.popup({&quot;maxWidth&quot;: &quot;100%&quot;});\n",
       "\n",
       "        \n",
       "            \n",
       "                var html_f810ac0a05e3fd7b502687ed3a3bce33 = $(`&lt;div id=&quot;html_f810ac0a05e3fd7b502687ed3a3bce33&quot; style=&quot;width: 100.0%; height: 100.0%;&quot;&gt;Fiji&lt;/div&gt;`)[0];\n",
       "                popup_f489b33d6eb81a73efb78a0cfd5957bb.setContent(html_f810ac0a05e3fd7b502687ed3a3bce33);\n",
       "            \n",
       "        \n",
       "\n",
       "        circle_marker_c97612cd56c1a2c071302d81cb44492d.bindPopup(popup_f489b33d6eb81a73efb78a0cfd5957bb)\n",
       "        ;\n",
       "\n",
       "        \n",
       "    \n",
       "    \n",
       "            var circle_marker_43c53609c3aac99e45a9e9350939844a = L.circleMarker(\n",
       "                [46.0, 2.0],\n",
       "                {&quot;bubblingMouseEvents&quot;: true, &quot;color&quot;: &quot;black&quot;, &quot;dashArray&quot;: null, &quot;dashOffset&quot;: null, &quot;fill&quot;: true, &quot;fillColor&quot;: &quot;black&quot;, &quot;fillOpacity&quot;: 0.2, &quot;fillRule&quot;: &quot;evenodd&quot;, &quot;lineCap&quot;: &quot;round&quot;, &quot;lineJoin&quot;: &quot;round&quot;, &quot;opacity&quot;: 1.0, &quot;radius&quot;: 2.5700211317450474, &quot;stroke&quot;: true, &quot;weight&quot;: 3}\n",
       "            ).addTo(map_ea1c77cce835ee54a2729a77063d298c);\n",
       "        \n",
       "    \n",
       "        var popup_177b1ddbdd70e7eaa5698ece61b7a223 = L.popup({&quot;maxWidth&quot;: &quot;100%&quot;});\n",
       "\n",
       "        \n",
       "            \n",
       "                var html_2217946c61ffb3128a5fb06d0bd54ac1 = $(`&lt;div id=&quot;html_2217946c61ffb3128a5fb06d0bd54ac1&quot; style=&quot;width: 100.0%; height: 100.0%;&quot;&gt;France&lt;/div&gt;`)[0];\n",
       "                popup_177b1ddbdd70e7eaa5698ece61b7a223.setContent(html_2217946c61ffb3128a5fb06d0bd54ac1);\n",
       "            \n",
       "        \n",
       "\n",
       "        circle_marker_43c53609c3aac99e45a9e9350939844a.bindPopup(popup_177b1ddbdd70e7eaa5698ece61b7a223)\n",
       "        ;\n",
       "\n",
       "        \n",
       "    \n",
       "    \n",
       "            var circle_marker_5cca6c0252018c8cdc6ba19e25f4b0b5 = L.circleMarker(\n",
       "                [6.924, 158.162],\n",
       "                {&quot;bubblingMouseEvents&quot;: true, &quot;color&quot;: &quot;red&quot;, &quot;dashArray&quot;: null, &quot;dashOffset&quot;: null, &quot;fill&quot;: true, &quot;fillColor&quot;: &quot;red&quot;, &quot;fillOpacity&quot;: 0.2, &quot;fillRule&quot;: &quot;evenodd&quot;, &quot;lineCap&quot;: &quot;round&quot;, &quot;lineJoin&quot;: &quot;round&quot;, &quot;opacity&quot;: 1.0, &quot;radius&quot;: 1.0101724925368907, &quot;stroke&quot;: true, &quot;weight&quot;: 3}\n",
       "            ).addTo(map_ea1c77cce835ee54a2729a77063d298c);\n",
       "        \n",
       "    \n",
       "        var popup_4ad37452d3fcc8855144e1a47007dc5d = L.popup({&quot;maxWidth&quot;: &quot;100%&quot;});\n",
       "\n",
       "        \n",
       "            \n",
       "                var html_db5410f132f7cdcafd2d17807a738213 = $(`&lt;div id=&quot;html_db5410f132f7cdcafd2d17807a738213&quot; style=&quot;width: 100.0%; height: 100.0%;&quot;&gt;Micronesia, Fed. Sts.&lt;/div&gt;`)[0];\n",
       "                popup_4ad37452d3fcc8855144e1a47007dc5d.setContent(html_db5410f132f7cdcafd2d17807a738213);\n",
       "            \n",
       "        \n",
       "\n",
       "        circle_marker_5cca6c0252018c8cdc6ba19e25f4b0b5.bindPopup(popup_4ad37452d3fcc8855144e1a47007dc5d)\n",
       "        ;\n",
       "\n",
       "        \n",
       "    \n",
       "    \n",
       "            var circle_marker_da1e8927827136ad1e9484efd6d27c93 = L.circleMarker(\n",
       "                [-1.0, 11.75],\n",
       "                {&quot;bubblingMouseEvents&quot;: true, &quot;color&quot;: &quot;blue&quot;, &quot;dashArray&quot;: null, &quot;dashOffset&quot;: null, &quot;fill&quot;: true, &quot;fillColor&quot;: &quot;blue&quot;, &quot;fillOpacity&quot;: 0.2, &quot;fillRule&quot;: &quot;evenodd&quot;, &quot;lineCap&quot;: &quot;round&quot;, &quot;lineJoin&quot;: &quot;round&quot;, &quot;opacity&quot;: 1.0, &quot;radius&quot;: 1.7743784055245038, &quot;stroke&quot;: true, &quot;weight&quot;: 3}\n",
       "            ).addTo(map_ea1c77cce835ee54a2729a77063d298c);\n",
       "        \n",
       "    \n",
       "        var popup_4dd08ce49e39e5d4c56029ff16734c2f = L.popup({&quot;maxWidth&quot;: &quot;100%&quot;});\n",
       "\n",
       "        \n",
       "            \n",
       "                var html_71e0ec2d1d790a75621ce35a1c707b30 = $(`&lt;div id=&quot;html_71e0ec2d1d790a75621ce35a1c707b30&quot; style=&quot;width: 100.0%; height: 100.0%;&quot;&gt;Gabon&lt;/div&gt;`)[0];\n",
       "                popup_4dd08ce49e39e5d4c56029ff16734c2f.setContent(html_71e0ec2d1d790a75621ce35a1c707b30);\n",
       "            \n",
       "        \n",
       "\n",
       "        circle_marker_da1e8927827136ad1e9484efd6d27c93.bindPopup(popup_4dd08ce49e39e5d4c56029ff16734c2f)\n",
       "        ;\n",
       "\n",
       "        \n",
       "    \n",
       "    \n",
       "            var circle_marker_08129155cc23e47e73f71a2b509194b7 = L.circleMarker(\n",
       "                [54.75844, -2.69531],\n",
       "                {&quot;bubblingMouseEvents&quot;: true, &quot;color&quot;: &quot;black&quot;, &quot;dashArray&quot;: null, &quot;dashOffset&quot;: null, &quot;fill&quot;: true, &quot;fillColor&quot;: &quot;black&quot;, &quot;fillOpacity&quot;: 0.2, &quot;fillRule&quot;: &quot;evenodd&quot;, &quot;lineCap&quot;: &quot;round&quot;, &quot;lineJoin&quot;: &quot;round&quot;, &quot;opacity&quot;: 1.0, &quot;radius&quot;: 4.516844125480928, &quot;stroke&quot;: true, &quot;weight&quot;: 3}\n",
       "            ).addTo(map_ea1c77cce835ee54a2729a77063d298c);\n",
       "        \n",
       "    \n",
       "        var popup_1d9912b3cc239605ba446a27bbcd0ad7 = L.popup({&quot;maxWidth&quot;: &quot;100%&quot;});\n",
       "\n",
       "        \n",
       "            \n",
       "                var html_6ef312783136f0926180a0bdc9e361b5 = $(`&lt;div id=&quot;html_6ef312783136f0926180a0bdc9e361b5&quot; style=&quot;width: 100.0%; height: 100.0%;&quot;&gt;United Kingdom&lt;/div&gt;`)[0];\n",
       "                popup_1d9912b3cc239605ba446a27bbcd0ad7.setContent(html_6ef312783136f0926180a0bdc9e361b5);\n",
       "            \n",
       "        \n",
       "\n",
       "        circle_marker_08129155cc23e47e73f71a2b509194b7.bindPopup(popup_1d9912b3cc239605ba446a27bbcd0ad7)\n",
       "        ;\n",
       "\n",
       "        \n",
       "    \n",
       "    \n",
       "            var circle_marker_32bc5bdb3cdcc198796de32e89d3bd03 = L.circleMarker(\n",
       "                [41.99998, 43.4999],\n",
       "                {&quot;bubblingMouseEvents&quot;: true, &quot;color&quot;: &quot;black&quot;, &quot;dashArray&quot;: null, &quot;dashOffset&quot;: null, &quot;fill&quot;: true, &quot;fillColor&quot;: &quot;black&quot;, &quot;fillOpacity&quot;: 0.2, &quot;fillRule&quot;: &quot;evenodd&quot;, &quot;lineCap&quot;: &quot;round&quot;, &quot;lineJoin&quot;: &quot;round&quot;, &quot;opacity&quot;: 1.0, &quot;radius&quot;: 4.295303077362568, &quot;stroke&quot;: true, &quot;weight&quot;: 3}\n",
       "            ).addTo(map_ea1c77cce835ee54a2729a77063d298c);\n",
       "        \n",
       "    \n",
       "        var popup_6f4d0f0b19f8182f6375e0dcbfc5725c = L.popup({&quot;maxWidth&quot;: &quot;100%&quot;});\n",
       "\n",
       "        \n",
       "            \n",
       "                var html_1b3a74ac8183dd52275727281763db5b = $(`&lt;div id=&quot;html_1b3a74ac8183dd52275727281763db5b&quot; style=&quot;width: 100.0%; height: 100.0%;&quot;&gt;Georgia&lt;/div&gt;`)[0];\n",
       "                popup_6f4d0f0b19f8182f6375e0dcbfc5725c.setContent(html_1b3a74ac8183dd52275727281763db5b);\n",
       "            \n",
       "        \n",
       "\n",
       "        circle_marker_32bc5bdb3cdcc198796de32e89d3bd03.bindPopup(popup_6f4d0f0b19f8182f6375e0dcbfc5725c)\n",
       "        ;\n",
       "\n",
       "        \n",
       "    \n",
       "    \n",
       "            var circle_marker_3d80e65cffb4a1b33da9122ce1af201e = L.circleMarker(\n",
       "                [8.1, -1.2],\n",
       "                {&quot;bubblingMouseEvents&quot;: true, &quot;color&quot;: &quot;blue&quot;, &quot;dashArray&quot;: null, &quot;dashOffset&quot;: null, &quot;fill&quot;: true, &quot;fillColor&quot;: &quot;blue&quot;, &quot;fillOpacity&quot;: 0.2, &quot;fillRule&quot;: &quot;evenodd&quot;, &quot;lineCap&quot;: &quot;round&quot;, &quot;lineJoin&quot;: &quot;round&quot;, &quot;opacity&quot;: 1.0, &quot;radius&quot;: 15.016869608630229, &quot;stroke&quot;: true, &quot;weight&quot;: 3}\n",
       "            ).addTo(map_ea1c77cce835ee54a2729a77063d298c);\n",
       "        \n",
       "    \n",
       "        var popup_94e4dbfc7efad6186d8bfb9fae44d957 = L.popup({&quot;maxWidth&quot;: &quot;100%&quot;});\n",
       "\n",
       "        \n",
       "            \n",
       "                var html_0af6f02b4a737738721ae0ef7da229de = $(`&lt;div id=&quot;html_0af6f02b4a737738721ae0ef7da229de&quot; style=&quot;width: 100.0%; height: 100.0%;&quot;&gt;Ghana&lt;/div&gt;`)[0];\n",
       "                popup_94e4dbfc7efad6186d8bfb9fae44d957.setContent(html_0af6f02b4a737738721ae0ef7da229de);\n",
       "            \n",
       "        \n",
       "\n",
       "        circle_marker_3d80e65cffb4a1b33da9122ce1af201e.bindPopup(popup_94e4dbfc7efad6186d8bfb9fae44d957)\n",
       "        ;\n",
       "\n",
       "        \n",
       "    \n",
       "    \n",
       "            var circle_marker_70bb2eede265ac1528caffb51487f685 = L.circleMarker(\n",
       "                [10.83333, -10.66667],\n",
       "                {&quot;bubblingMouseEvents&quot;: true, &quot;color&quot;: &quot;blue&quot;, &quot;dashArray&quot;: null, &quot;dashOffset&quot;: null, &quot;fill&quot;: true, &quot;fillColor&quot;: &quot;blue&quot;, &quot;fillOpacity&quot;: 0.2, &quot;fillRule&quot;: &quot;evenodd&quot;, &quot;lineCap&quot;: &quot;round&quot;, &quot;lineJoin&quot;: &quot;round&quot;, &quot;opacity&quot;: 1.0, &quot;radius&quot;: 11.514913219786028, &quot;stroke&quot;: true, &quot;weight&quot;: 3}\n",
       "            ).addTo(map_ea1c77cce835ee54a2729a77063d298c);\n",
       "        \n",
       "    \n",
       "        var popup_66419e43f6a1505f6243bc7e125798dd = L.popup({&quot;maxWidth&quot;: &quot;100%&quot;});\n",
       "\n",
       "        \n",
       "            \n",
       "                var html_1196dfd9d4db76d5ceb28a2c2761d8c5 = $(`&lt;div id=&quot;html_1196dfd9d4db76d5ceb28a2c2761d8c5&quot; style=&quot;width: 100.0%; height: 100.0%;&quot;&gt;Guinea&lt;/div&gt;`)[0];\n",
       "                popup_66419e43f6a1505f6243bc7e125798dd.setContent(html_1196dfd9d4db76d5ceb28a2c2761d8c5);\n",
       "            \n",
       "        \n",
       "\n",
       "        circle_marker_70bb2eede265ac1528caffb51487f685.bindPopup(popup_66419e43f6a1505f6243bc7e125798dd)\n",
       "        ;\n",
       "\n",
       "        \n",
       "    \n",
       "    \n",
       "            var circle_marker_a177973e6da3b63e1576a26a1538974e = L.circleMarker(\n",
       "                [13.5, -15.5],\n",
       "                {&quot;bubblingMouseEvents&quot;: true, &quot;color&quot;: &quot;blue&quot;, &quot;dashArray&quot;: null, &quot;dashOffset&quot;: null, &quot;fill&quot;: true, &quot;fillColor&quot;: &quot;blue&quot;, &quot;fillOpacity&quot;: 0.2, &quot;fillRule&quot;: &quot;evenodd&quot;, &quot;lineCap&quot;: &quot;round&quot;, &quot;lineJoin&quot;: &quot;round&quot;, &quot;opacity&quot;: 1.0, &quot;radius&quot;: 4.381297475346322, &quot;stroke&quot;: true, &quot;weight&quot;: 3}\n",
       "            ).addTo(map_ea1c77cce835ee54a2729a77063d298c);\n",
       "        \n",
       "    \n",
       "        var popup_c5612b95b7145335c6ca04eda1945ae0 = L.popup({&quot;maxWidth&quot;: &quot;100%&quot;});\n",
       "\n",
       "        \n",
       "            \n",
       "                var html_d9dfe59accc816b021712dc6ad191211 = $(`&lt;div id=&quot;html_d9dfe59accc816b021712dc6ad191211&quot; style=&quot;width: 100.0%; height: 100.0%;&quot;&gt;Gambia&lt;/div&gt;`)[0];\n",
       "                popup_c5612b95b7145335c6ca04eda1945ae0.setContent(html_d9dfe59accc816b021712dc6ad191211);\n",
       "            \n",
       "        \n",
       "\n",
       "        circle_marker_a177973e6da3b63e1576a26a1538974e.bindPopup(popup_c5612b95b7145335c6ca04eda1945ae0)\n",
       "        ;\n",
       "\n",
       "        \n",
       "    \n",
       "    \n",
       "            var circle_marker_9c1dd42d4e32d785694ab7bf37652d02 = L.circleMarker(\n",
       "                [12.0, -15.0],\n",
       "                {&quot;bubblingMouseEvents&quot;: true, &quot;color&quot;: &quot;blue&quot;, &quot;dashArray&quot;: null, &quot;dashOffset&quot;: null, &quot;fill&quot;: true, &quot;fillColor&quot;: &quot;blue&quot;, &quot;fillOpacity&quot;: 0.2, &quot;fillRule&quot;: &quot;evenodd&quot;, &quot;lineCap&quot;: &quot;round&quot;, &quot;lineJoin&quot;: &quot;round&quot;, &quot;opacity&quot;: 1.0, &quot;radius&quot;: 4.868249565835599, &quot;stroke&quot;: true, &quot;weight&quot;: 3}\n",
       "            ).addTo(map_ea1c77cce835ee54a2729a77063d298c);\n",
       "        \n",
       "    \n",
       "        var popup_1596834be355e98649aac757e0fbc41a = L.popup({&quot;maxWidth&quot;: &quot;100%&quot;});\n",
       "\n",
       "        \n",
       "            \n",
       "                var html_810daa43fdbe600214a874391df9a8a5 = $(`&lt;div id=&quot;html_810daa43fdbe600214a874391df9a8a5&quot; style=&quot;width: 100.0%; height: 100.0%;&quot;&gt;Guinea-Bissau&lt;/div&gt;`)[0];\n",
       "                popup_1596834be355e98649aac757e0fbc41a.setContent(html_810daa43fdbe600214a874391df9a8a5);\n",
       "            \n",
       "        \n",
       "\n",
       "        circle_marker_9c1dd42d4e32d785694ab7bf37652d02.bindPopup(popup_1596834be355e98649aac757e0fbc41a)\n",
       "        ;\n",
       "\n",
       "        \n",
       "    \n",
       "    \n",
       "            var circle_marker_ba914a5b9ae9d19e8ce54d1e7abcfce2 = L.circleMarker(\n",
       "                [39.0, 22.0],\n",
       "                {&quot;bubblingMouseEvents&quot;: true, &quot;color&quot;: &quot;black&quot;, &quot;dashArray&quot;: null, &quot;dashOffset&quot;: null, &quot;fill&quot;: true, &quot;fillColor&quot;: &quot;black&quot;, &quot;fillOpacity&quot;: 0.2, &quot;fillRule&quot;: &quot;evenodd&quot;, &quot;lineCap&quot;: &quot;round&quot;, &quot;lineJoin&quot;: &quot;round&quot;, &quot;opacity&quot;: 1.0, &quot;radius&quot;: 2.178974879482969, &quot;stroke&quot;: true, &quot;weight&quot;: 3}\n",
       "            ).addTo(map_ea1c77cce835ee54a2729a77063d298c);\n",
       "        \n",
       "    \n",
       "        var popup_5a117ec46de1831f9f1b16e9c52b3eac = L.popup({&quot;maxWidth&quot;: &quot;100%&quot;});\n",
       "\n",
       "        \n",
       "            \n",
       "                var html_0ab8c96ddb9c9e75efb9f216dec32ebb = $(`&lt;div id=&quot;html_0ab8c96ddb9c9e75efb9f216dec32ebb&quot; style=&quot;width: 100.0%; height: 100.0%;&quot;&gt;Greece&lt;/div&gt;`)[0];\n",
       "                popup_5a117ec46de1831f9f1b16e9c52b3eac.setContent(html_0ab8c96ddb9c9e75efb9f216dec32ebb);\n",
       "            \n",
       "        \n",
       "\n",
       "        circle_marker_ba914a5b9ae9d19e8ce54d1e7abcfce2.bindPopup(popup_5a117ec46de1831f9f1b16e9c52b3eac)\n",
       "        ;\n",
       "\n",
       "        \n",
       "    \n",
       "    \n",
       "            var circle_marker_03915d64b96b412b04614ebf8bf13d3d = L.circleMarker(\n",
       "                [14.64072, -90.51327],\n",
       "                {&quot;bubblingMouseEvents&quot;: true, &quot;color&quot;: &quot;green&quot;, &quot;dashArray&quot;: null, &quot;dashOffset&quot;: null, &quot;fill&quot;: true, &quot;fillColor&quot;: &quot;green&quot;, &quot;fillOpacity&quot;: 0.2, &quot;fillRule&quot;: &quot;evenodd&quot;, &quot;lineCap&quot;: &quot;round&quot;, &quot;lineJoin&quot;: &quot;round&quot;, &quot;opacity&quot;: 1.0, &quot;radius&quot;: 7.987552838810423, &quot;stroke&quot;: true, &quot;weight&quot;: 3}\n",
       "            ).addTo(map_ea1c77cce835ee54a2729a77063d298c);\n",
       "        \n",
       "    \n",
       "        var popup_9ae85195422cc57d5cbf4ad5796bd006 = L.popup({&quot;maxWidth&quot;: &quot;100%&quot;});\n",
       "\n",
       "        \n",
       "            \n",
       "                var html_274cfd24117ac6903400c926f35c9f9c = $(`&lt;div id=&quot;html_274cfd24117ac6903400c926f35c9f9c&quot; style=&quot;width: 100.0%; height: 100.0%;&quot;&gt;Guatemala&lt;/div&gt;`)[0];\n",
       "                popup_9ae85195422cc57d5cbf4ad5796bd006.setContent(html_274cfd24117ac6903400c926f35c9f9c);\n",
       "            \n",
       "        \n",
       "\n",
       "        circle_marker_03915d64b96b412b04614ebf8bf13d3d.bindPopup(popup_9ae85195422cc57d5cbf4ad5796bd006)\n",
       "        ;\n",
       "\n",
       "        \n",
       "    \n",
       "    \n",
       "            var circle_marker_6d8015befaafeae53b53bb3aeb713265 = L.circleMarker(\n",
       "                [5.0, -59.0],\n",
       "                {&quot;bubblingMouseEvents&quot;: true, &quot;color&quot;: &quot;green&quot;, &quot;dashArray&quot;: null, &quot;dashOffset&quot;: null, &quot;fill&quot;: true, &quot;fillColor&quot;: &quot;green&quot;, &quot;fillOpacity&quot;: 0.2, &quot;fillRule&quot;: &quot;evenodd&quot;, &quot;lineCap&quot;: &quot;round&quot;, &quot;lineJoin&quot;: &quot;round&quot;, &quot;opacity&quot;: 1.0, &quot;radius&quot;: 1.440622611450913, &quot;stroke&quot;: true, &quot;weight&quot;: 3}\n",
       "            ).addTo(map_ea1c77cce835ee54a2729a77063d298c);\n",
       "        \n",
       "    \n",
       "        var popup_694510d553452667c90724e1fdc28237 = L.popup({&quot;maxWidth&quot;: &quot;100%&quot;});\n",
       "\n",
       "        \n",
       "            \n",
       "                var html_371e14660baff25879c0846326d5a7a8 = $(`&lt;div id=&quot;html_371e14660baff25879c0846326d5a7a8&quot; style=&quot;width: 100.0%; height: 100.0%;&quot;&gt;Guyana&lt;/div&gt;`)[0];\n",
       "                popup_694510d553452667c90724e1fdc28237.setContent(html_371e14660baff25879c0846326d5a7a8);\n",
       "            \n",
       "        \n",
       "\n",
       "        circle_marker_6d8015befaafeae53b53bb3aeb713265.bindPopup(popup_694510d553452667c90724e1fdc28237)\n",
       "        ;\n",
       "\n",
       "        \n",
       "    \n",
       "    \n",
       "            var circle_marker_0a0456f2deb8cd2fcb220c1bac8bf54c = L.circleMarker(\n",
       "                [15.0, -86.5],\n",
       "                {&quot;bubblingMouseEvents&quot;: true, &quot;color&quot;: &quot;green&quot;, &quot;dashArray&quot;: null, &quot;dashOffset&quot;: null, &quot;fill&quot;: true, &quot;fillColor&quot;: &quot;green&quot;, &quot;fillOpacity&quot;: 0.2, &quot;fillRule&quot;: &quot;evenodd&quot;, &quot;lineCap&quot;: &quot;round&quot;, &quot;lineJoin&quot;: &quot;round&quot;, &quot;opacity&quot;: 1.0, &quot;radius&quot;: 6.605401345360518, &quot;stroke&quot;: true, &quot;weight&quot;: 3}\n",
       "            ).addTo(map_ea1c77cce835ee54a2729a77063d298c);\n",
       "        \n",
       "    \n",
       "        var popup_6a8dd88759c31b03f471def30b0e0dec = L.popup({&quot;maxWidth&quot;: &quot;100%&quot;});\n",
       "\n",
       "        \n",
       "            \n",
       "                var html_28031003c6959fc03ced06e07e0fa935 = $(`&lt;div id=&quot;html_28031003c6959fc03ced06e07e0fa935&quot; style=&quot;width: 100.0%; height: 100.0%;&quot;&gt;Honduras&lt;/div&gt;`)[0];\n",
       "                popup_6a8dd88759c31b03f471def30b0e0dec.setContent(html_28031003c6959fc03ced06e07e0fa935);\n",
       "            \n",
       "        \n",
       "\n",
       "        circle_marker_0a0456f2deb8cd2fcb220c1bac8bf54c.bindPopup(popup_6a8dd88759c31b03f471def30b0e0dec)\n",
       "        ;\n",
       "\n",
       "        \n",
       "    \n",
       "    \n",
       "            var circle_marker_a64e6f522ceb4a79e838f99acd650a92 = L.circleMarker(\n",
       "                [45.16667, 15.5],\n",
       "                {&quot;bubblingMouseEvents&quot;: true, &quot;color&quot;: &quot;black&quot;, &quot;dashArray&quot;: null, &quot;dashOffset&quot;: null, &quot;fill&quot;: true, &quot;fillColor&quot;: &quot;black&quot;, &quot;fillOpacity&quot;: 0.2, &quot;fillRule&quot;: &quot;evenodd&quot;, &quot;lineCap&quot;: &quot;round&quot;, &quot;lineJoin&quot;: &quot;round&quot;, &quot;opacity&quot;: 1.0, &quot;radius&quot;: 0.28750969429724216, &quot;stroke&quot;: true, &quot;weight&quot;: 3}\n",
       "            ).addTo(map_ea1c77cce835ee54a2729a77063d298c);\n",
       "        \n",
       "    \n",
       "        var popup_00fceb842024a614ee976327ebde4f7e = L.popup({&quot;maxWidth&quot;: &quot;100%&quot;});\n",
       "\n",
       "        \n",
       "            \n",
       "                var html_2e6a783b54cb7fe6411b24e4fb9de168 = $(`&lt;div id=&quot;html_2e6a783b54cb7fe6411b24e4fb9de168&quot; style=&quot;width: 100.0%; height: 100.0%;&quot;&gt;Croatia&lt;/div&gt;`)[0];\n",
       "                popup_00fceb842024a614ee976327ebde4f7e.setContent(html_2e6a783b54cb7fe6411b24e4fb9de168);\n",
       "            \n",
       "        \n",
       "\n",
       "        circle_marker_a64e6f522ceb4a79e838f99acd650a92.bindPopup(popup_00fceb842024a614ee976327ebde4f7e)\n",
       "        ;\n",
       "\n",
       "        \n",
       "    \n",
       "    \n",
       "            var circle_marker_a0daf2282a46836ef24a4350c1195338 = L.circleMarker(\n",
       "                [19.0, -72.41667],\n",
       "                {&quot;bubblingMouseEvents&quot;: true, &quot;color&quot;: &quot;green&quot;, &quot;dashArray&quot;: null, &quot;dashOffset&quot;: null, &quot;fill&quot;: true, &quot;fillColor&quot;: &quot;green&quot;, &quot;fillOpacity&quot;: 0.2, &quot;fillRule&quot;: &quot;evenodd&quot;, &quot;lineCap&quot;: &quot;round&quot;, &quot;lineJoin&quot;: &quot;round&quot;, &quot;opacity&quot;: 1.0, &quot;radius&quot;: 13.979752828655414, &quot;stroke&quot;: true, &quot;weight&quot;: 3}\n",
       "            ).addTo(map_ea1c77cce835ee54a2729a77063d298c);\n",
       "        \n",
       "    \n",
       "        var popup_2e716595a6a66ed0bc03f98d92ca01fd = L.popup({&quot;maxWidth&quot;: &quot;100%&quot;});\n",
       "\n",
       "        \n",
       "            \n",
       "                var html_9c51466edcfc12673acea361f3cc57c4 = $(`&lt;div id=&quot;html_9c51466edcfc12673acea361f3cc57c4&quot; style=&quot;width: 100.0%; height: 100.0%;&quot;&gt;Haiti&lt;/div&gt;`)[0];\n",
       "                popup_2e716595a6a66ed0bc03f98d92ca01fd.setContent(html_9c51466edcfc12673acea361f3cc57c4);\n",
       "            \n",
       "        \n",
       "\n",
       "        circle_marker_a0daf2282a46836ef24a4350c1195338.bindPopup(popup_2e716595a6a66ed0bc03f98d92ca01fd)\n",
       "        ;\n",
       "\n",
       "        \n",
       "    \n",
       "    \n",
       "            var circle_marker_c4f7fbfc0b0be9184c1ae9f7367a5519 = L.circleMarker(\n",
       "                [47.0, 20.0],\n",
       "                {&quot;bubblingMouseEvents&quot;: true, &quot;color&quot;: &quot;black&quot;, &quot;dashArray&quot;: null, &quot;dashOffset&quot;: null, &quot;fill&quot;: true, &quot;fillColor&quot;: &quot;black&quot;, &quot;fillOpacity&quot;: 0.2, &quot;fillRule&quot;: &quot;evenodd&quot;, &quot;lineCap&quot;: &quot;round&quot;, &quot;lineJoin&quot;: &quot;round&quot;, &quot;opacity&quot;: 1.0, &quot;radius&quot;: 0.3974910815290854, &quot;stroke&quot;: true, &quot;weight&quot;: 3}\n",
       "            ).addTo(map_ea1c77cce835ee54a2729a77063d298c);\n",
       "        \n",
       "    \n",
       "        var popup_bf910aa62d03c13ee188a4636c9c5abb = L.popup({&quot;maxWidth&quot;: &quot;100%&quot;});\n",
       "\n",
       "        \n",
       "            \n",
       "                var html_1324d267430b4d1f3186d7ae60fcdf70 = $(`&lt;div id=&quot;html_1324d267430b4d1f3186d7ae60fcdf70&quot; style=&quot;width: 100.0%; height: 100.0%;&quot;&gt;Hungary&lt;/div&gt;`)[0];\n",
       "                popup_bf910aa62d03c13ee188a4636c9c5abb.setContent(html_1324d267430b4d1f3186d7ae60fcdf70);\n",
       "            \n",
       "        \n",
       "\n",
       "        circle_marker_c4f7fbfc0b0be9184c1ae9f7367a5519.bindPopup(popup_bf910aa62d03c13ee188a4636c9c5abb)\n",
       "        ;\n",
       "\n",
       "        \n",
       "    \n",
       "    \n",
       "            var circle_marker_8be1db96ae728dd4067c6f54682aca77 = L.circleMarker(\n",
       "                [-5.0, 120.0],\n",
       "                {&quot;bubblingMouseEvents&quot;: true, &quot;color&quot;: &quot;red&quot;, &quot;dashArray&quot;: null, &quot;dashOffset&quot;: null, &quot;fill&quot;: true, &quot;fillColor&quot;: &quot;red&quot;, &quot;fillOpacity&quot;: 0.2, &quot;fillRule&quot;: &quot;evenodd&quot;, &quot;lineCap&quot;: &quot;round&quot;, &quot;lineJoin&quot;: &quot;round&quot;, &quot;opacity&quot;: 1.0, &quot;radius&quot;: 35.3135560974134, &quot;stroke&quot;: true, &quot;weight&quot;: 3}\n",
       "            ).addTo(map_ea1c77cce835ee54a2729a77063d298c);\n",
       "        \n",
       "    \n",
       "        var popup_98d698d13cb48660a8f85b486fddda47 = L.popup({&quot;maxWidth&quot;: &quot;100%&quot;});\n",
       "\n",
       "        \n",
       "            \n",
       "                var html_982cf6cba300a028273fb72914ac0ee5 = $(`&lt;div id=&quot;html_982cf6cba300a028273fb72914ac0ee5&quot; style=&quot;width: 100.0%; height: 100.0%;&quot;&gt;Indonesia&lt;/div&gt;`)[0];\n",
       "                popup_98d698d13cb48660a8f85b486fddda47.setContent(html_982cf6cba300a028273fb72914ac0ee5);\n",
       "            \n",
       "        \n",
       "\n",
       "        circle_marker_8be1db96ae728dd4067c6f54682aca77.bindPopup(popup_98d698d13cb48660a8f85b486fddda47)\n",
       "        ;\n",
       "\n",
       "        \n",
       "    \n",
       "    \n",
       "            var circle_marker_279350b310fd394077797a16bb8a93f5 = L.circleMarker(\n",
       "                [22.0, 79.0],\n",
       "                {&quot;bubblingMouseEvents&quot;: true, &quot;color&quot;: &quot;red&quot;, &quot;dashArray&quot;: null, &quot;dashOffset&quot;: null, &quot;fill&quot;: true, &quot;fillColor&quot;: &quot;red&quot;, &quot;fillOpacity&quot;: 0.2, &quot;fillRule&quot;: &quot;evenodd&quot;, &quot;lineCap&quot;: &quot;round&quot;, &quot;lineJoin&quot;: &quot;round&quot;, &quot;opacity&quot;: 1.0, &quot;radius&quot;: 96.3527190825973, &quot;stroke&quot;: true, &quot;weight&quot;: 3}\n",
       "            ).addTo(map_ea1c77cce835ee54a2729a77063d298c);\n",
       "        \n",
       "    \n",
       "        var popup_fc76a059c5cb8bc7540808618807ed21 = L.popup({&quot;maxWidth&quot;: &quot;100%&quot;});\n",
       "\n",
       "        \n",
       "            \n",
       "                var html_85a68ba4ef9a2d512175d91bfcaedcba = $(`&lt;div id=&quot;html_85a68ba4ef9a2d512175d91bfcaedcba&quot; style=&quot;width: 100.0%; height: 100.0%;&quot;&gt;India&lt;/div&gt;`)[0];\n",
       "                popup_fc76a059c5cb8bc7540808618807ed21.setContent(html_85a68ba4ef9a2d512175d91bfcaedcba);\n",
       "            \n",
       "        \n",
       "\n",
       "        circle_marker_279350b310fd394077797a16bb8a93f5.bindPopup(popup_fc76a059c5cb8bc7540808618807ed21)\n",
       "        ;\n",
       "\n",
       "        \n",
       "    \n",
       "    \n",
       "            var circle_marker_ea940673be7ab7cb416142ecf85eb8cc = L.circleMarker(\n",
       "                [53.0, -8.0],\n",
       "                {&quot;bubblingMouseEvents&quot;: true, &quot;color&quot;: &quot;black&quot;, &quot;dashArray&quot;: null, &quot;dashOffset&quot;: null, &quot;fill&quot;: true, &quot;fillColor&quot;: &quot;black&quot;, &quot;fillOpacity&quot;: 0.2, &quot;fillRule&quot;: &quot;evenodd&quot;, &quot;lineCap&quot;: &quot;round&quot;, &quot;lineJoin&quot;: &quot;round&quot;, &quot;opacity&quot;: 1.0, &quot;radius&quot;: 0.7224180057415738, &quot;stroke&quot;: true, &quot;weight&quot;: 3}\n",
       "            ).addTo(map_ea1c77cce835ee54a2729a77063d298c);\n",
       "        \n",
       "    \n",
       "        var popup_694e9f96e06dae7dd748d14c94623f0f = L.popup({&quot;maxWidth&quot;: &quot;100%&quot;});\n",
       "\n",
       "        \n",
       "            \n",
       "                var html_7af2872f06a58f33e18d8f2a3702d6b8 = $(`&lt;div id=&quot;html_7af2872f06a58f33e18d8f2a3702d6b8&quot; style=&quot;width: 100.0%; height: 100.0%;&quot;&gt;Ireland&lt;/div&gt;`)[0];\n",
       "                popup_694e9f96e06dae7dd748d14c94623f0f.setContent(html_7af2872f06a58f33e18d8f2a3702d6b8);\n",
       "            \n",
       "        \n",
       "\n",
       "        circle_marker_ea940673be7ab7cb416142ecf85eb8cc.bindPopup(popup_694e9f96e06dae7dd748d14c94623f0f)\n",
       "        ;\n",
       "\n",
       "        \n",
       "    \n",
       "    \n",
       "            var circle_marker_d5a5521bbcf2c6749594a0adf35e9e27 = L.circleMarker(\n",
       "                [32.0, 53.0],\n",
       "                {&quot;bubblingMouseEvents&quot;: true, &quot;color&quot;: &quot;red&quot;, &quot;dashArray&quot;: null, &quot;dashOffset&quot;: null, &quot;fill&quot;: true, &quot;fillColor&quot;: &quot;red&quot;, &quot;fillOpacity&quot;: 0.2, &quot;fillRule&quot;: &quot;evenodd&quot;, &quot;lineCap&quot;: &quot;round&quot;, &quot;lineJoin&quot;: &quot;round&quot;, &quot;opacity&quot;: 1.0, &quot;radius&quot;: 5.834812901019498, &quot;stroke&quot;: true, &quot;weight&quot;: 3}\n",
       "            ).addTo(map_ea1c77cce835ee54a2729a77063d298c);\n",
       "        \n",
       "    \n",
       "        var popup_f57e61e2227c1b3347c15e27f9db06ed = L.popup({&quot;maxWidth&quot;: &quot;100%&quot;});\n",
       "\n",
       "        \n",
       "            \n",
       "                var html_aa0e89679c5d796804bd7448faed8186 = $(`&lt;div id=&quot;html_aa0e89679c5d796804bd7448faed8186&quot; style=&quot;width: 100.0%; height: 100.0%;&quot;&gt;Iran&lt;/div&gt;`)[0];\n",
       "                popup_f57e61e2227c1b3347c15e27f9db06ed.setContent(html_aa0e89679c5d796804bd7448faed8186);\n",
       "            \n",
       "        \n",
       "\n",
       "        circle_marker_d5a5521bbcf2c6749594a0adf35e9e27.bindPopup(popup_f57e61e2227c1b3347c15e27f9db06ed)\n",
       "        ;\n",
       "\n",
       "        \n",
       "    \n",
       "    \n",
       "            var circle_marker_440abc08d0d42c63f3b47afd039db126 = L.circleMarker(\n",
       "                [33.0, 44.0],\n",
       "                {&quot;bubblingMouseEvents&quot;: true, &quot;color&quot;: &quot;red&quot;, &quot;dashArray&quot;: null, &quot;dashOffset&quot;: null, &quot;fill&quot;: true, &quot;fillColor&quot;: &quot;red&quot;, &quot;fillOpacity&quot;: 0.2, &quot;fillRule&quot;: &quot;evenodd&quot;, &quot;lineCap&quot;: &quot;round&quot;, &quot;lineJoin&quot;: &quot;round&quot;, &quot;opacity&quot;: 1.0, &quot;radius&quot;: 6.084128234740463, &quot;stroke&quot;: true, &quot;weight&quot;: 3}\n",
       "            ).addTo(map_ea1c77cce835ee54a2729a77063d298c);\n",
       "        \n",
       "    \n",
       "        var popup_71d88ea5e6dad8caa63fc159d7a9833e = L.popup({&quot;maxWidth&quot;: &quot;100%&quot;});\n",
       "\n",
       "        \n",
       "            \n",
       "                var html_a0abd620f2013f15d78cc4a8fd631e24 = $(`&lt;div id=&quot;html_a0abd620f2013f15d78cc4a8fd631e24&quot; style=&quot;width: 100.0%; height: 100.0%;&quot;&gt;Iraq&lt;/div&gt;`)[0];\n",
       "                popup_71d88ea5e6dad8caa63fc159d7a9833e.setContent(html_a0abd620f2013f15d78cc4a8fd631e24);\n",
       "            \n",
       "        \n",
       "\n",
       "        circle_marker_440abc08d0d42c63f3b47afd039db126.bindPopup(popup_71d88ea5e6dad8caa63fc159d7a9833e)\n",
       "        ;\n",
       "\n",
       "        \n",
       "    \n",
       "    \n",
       "            var circle_marker_1650d82494a06a1f0fad167e3ff3e265 = L.circleMarker(\n",
       "                [31.5, 34.75],\n",
       "                {&quot;bubblingMouseEvents&quot;: true, &quot;color&quot;: &quot;red&quot;, &quot;dashArray&quot;: null, &quot;dashOffset&quot;: null, &quot;fill&quot;: true, &quot;fillColor&quot;: &quot;red&quot;, &quot;fillOpacity&quot;: 0.2, &quot;fillRule&quot;: &quot;evenodd&quot;, &quot;lineCap&quot;: &quot;round&quot;, &quot;lineJoin&quot;: &quot;round&quot;, &quot;opacity&quot;: 1.0, &quot;radius&quot;: 0.954983817739857, &quot;stroke&quot;: true, &quot;weight&quot;: 3}\n",
       "            ).addTo(map_ea1c77cce835ee54a2729a77063d298c);\n",
       "        \n",
       "    \n",
       "        var popup_5c1963771b4ea7aae54fdcfe56bccabc = L.popup({&quot;maxWidth&quot;: &quot;100%&quot;});\n",
       "\n",
       "        \n",
       "            \n",
       "                var html_9192c509d8a7871dbf084fd91cbbc0c2 = $(`&lt;div id=&quot;html_9192c509d8a7871dbf084fd91cbbc0c2&quot; style=&quot;width: 100.0%; height: 100.0%;&quot;&gt;Israel&lt;/div&gt;`)[0];\n",
       "                popup_5c1963771b4ea7aae54fdcfe56bccabc.setContent(html_9192c509d8a7871dbf084fd91cbbc0c2);\n",
       "            \n",
       "        \n",
       "\n",
       "        circle_marker_1650d82494a06a1f0fad167e3ff3e265.bindPopup(popup_5c1963771b4ea7aae54fdcfe56bccabc)\n",
       "        ;\n",
       "\n",
       "        \n",
       "    \n",
       "    \n",
       "            var circle_marker_44929547e189c646d68fd5053f0dae9a = L.circleMarker(\n",
       "                [42.83333, 12.83333],\n",
       "                {&quot;bubblingMouseEvents&quot;: true, &quot;color&quot;: &quot;black&quot;, &quot;dashArray&quot;: null, &quot;dashOffset&quot;: null, &quot;fill&quot;: true, &quot;fillColor&quot;: &quot;black&quot;, &quot;fillOpacity&quot;: 0.2, &quot;fillRule&quot;: &quot;evenodd&quot;, &quot;lineCap&quot;: &quot;round&quot;, &quot;lineJoin&quot;: &quot;round&quot;, &quot;opacity&quot;: 1.0, &quot;radius&quot;: 5.0490732408788075, &quot;stroke&quot;: true, &quot;weight&quot;: 3}\n",
       "            ).addTo(map_ea1c77cce835ee54a2729a77063d298c);\n",
       "        \n",
       "    \n",
       "        var popup_5494a796cb87decc7db6b0d083a19b3b = L.popup({&quot;maxWidth&quot;: &quot;100%&quot;});\n",
       "\n",
       "        \n",
       "            \n",
       "                var html_6f52cef37b63f8e1fc23544176f67f31 = $(`&lt;div id=&quot;html_6f52cef37b63f8e1fc23544176f67f31&quot; style=&quot;width: 100.0%; height: 100.0%;&quot;&gt;Italy&lt;/div&gt;`)[0];\n",
       "                popup_5494a796cb87decc7db6b0d083a19b3b.setContent(html_6f52cef37b63f8e1fc23544176f67f31);\n",
       "            \n",
       "        \n",
       "\n",
       "        circle_marker_44929547e189c646d68fd5053f0dae9a.bindPopup(popup_5494a796cb87decc7db6b0d083a19b3b)\n",
       "        ;\n",
       "\n",
       "        \n",
       "    \n",
       "    \n",
       "            var circle_marker_08e58101df5fd547b3e90e9d5ce3b383 = L.circleMarker(\n",
       "                [18.16667, -77.25],\n",
       "                {&quot;bubblingMouseEvents&quot;: true, &quot;color&quot;: &quot;green&quot;, &quot;dashArray&quot;: null, &quot;dashOffset&quot;: null, &quot;fill&quot;: true, &quot;fillColor&quot;: &quot;green&quot;, &quot;fillOpacity&quot;: 0.2, &quot;fillRule&quot;: &quot;evenodd&quot;, &quot;lineCap&quot;: &quot;round&quot;, &quot;lineJoin&quot;: &quot;round&quot;, &quot;opacity&quot;: 1.0, &quot;radius&quot;: 0.46336123514087135, &quot;stroke&quot;: true, &quot;weight&quot;: 3}\n",
       "            ).addTo(map_ea1c77cce835ee54a2729a77063d298c);\n",
       "        \n",
       "    \n",
       "        var popup_4a5a3f47743cf58a6a292948d5f98c36 = L.popup({&quot;maxWidth&quot;: &quot;100%&quot;});\n",
       "\n",
       "        \n",
       "            \n",
       "                var html_d5eeeecfe9e94e3d9c164838a25cbe4a = $(`&lt;div id=&quot;html_d5eeeecfe9e94e3d9c164838a25cbe4a&quot; style=&quot;width: 100.0%; height: 100.0%;&quot;&gt;Jamaica&lt;/div&gt;`)[0];\n",
       "                popup_4a5a3f47743cf58a6a292948d5f98c36.setContent(html_d5eeeecfe9e94e3d9c164838a25cbe4a);\n",
       "            \n",
       "        \n",
       "\n",
       "        circle_marker_08e58101df5fd547b3e90e9d5ce3b383.bindPopup(popup_4a5a3f47743cf58a6a292948d5f98c36)\n",
       "        ;\n",
       "\n",
       "        \n",
       "    \n",
       "    \n",
       "            var circle_marker_ee32e7a3feb29b9a8174fc93845cf8b2 = L.circleMarker(\n",
       "                [31.0, 36.0],\n",
       "                {&quot;bubblingMouseEvents&quot;: true, &quot;color&quot;: &quot;red&quot;, &quot;dashArray&quot;: null, &quot;dashOffset&quot;: null, &quot;fill&quot;: true, &quot;fillColor&quot;: &quot;red&quot;, &quot;fillOpacity&quot;: 0.2, &quot;fillRule&quot;: &quot;evenodd&quot;, &quot;lineCap&quot;: &quot;round&quot;, &quot;lineJoin&quot;: &quot;round&quot;, &quot;opacity&quot;: 1.0, &quot;radius&quot;: 0.43001584056673353, &quot;stroke&quot;: true, &quot;weight&quot;: 3}\n",
       "            ).addTo(map_ea1c77cce835ee54a2729a77063d298c);\n",
       "        \n",
       "    \n",
       "        var popup_ebe581666d7bbcf295cc20aa88ed0e7e = L.popup({&quot;maxWidth&quot;: &quot;100%&quot;});\n",
       "\n",
       "        \n",
       "            \n",
       "                var html_0ec1ea1061f2eafbd78fb47292d0bfff = $(`&lt;div id=&quot;html_0ec1ea1061f2eafbd78fb47292d0bfff&quot; style=&quot;width: 100.0%; height: 100.0%;&quot;&gt;Jordan&lt;/div&gt;`)[0];\n",
       "                popup_ebe581666d7bbcf295cc20aa88ed0e7e.setContent(html_0ec1ea1061f2eafbd78fb47292d0bfff);\n",
       "            \n",
       "        \n",
       "\n",
       "        circle_marker_ee32e7a3feb29b9a8174fc93845cf8b2.bindPopup(popup_ebe581666d7bbcf295cc20aa88ed0e7e)\n",
       "        ;\n",
       "\n",
       "        \n",
       "    \n",
       "    \n",
       "            var circle_marker_2b6a8f8d0c072ad539bb4510d7257da9 = L.circleMarker(\n",
       "                [35.68536, 139.75309],\n",
       "                {&quot;bubblingMouseEvents&quot;: true, &quot;color&quot;: &quot;red&quot;, &quot;dashArray&quot;: null, &quot;dashOffset&quot;: null, &quot;fill&quot;: true, &quot;fillColor&quot;: &quot;red&quot;, &quot;fillOpacity&quot;: 0.2, &quot;fillRule&quot;: &quot;evenodd&quot;, &quot;lineCap&quot;: &quot;round&quot;, &quot;lineJoin&quot;: &quot;round&quot;, &quot;opacity&quot;: 1.0, &quot;radius&quot;: 3.784270757754456, &quot;stroke&quot;: true, &quot;weight&quot;: 3}\n",
       "            ).addTo(map_ea1c77cce835ee54a2729a77063d298c);\n",
       "        \n",
       "    \n",
       "        var popup_0e87c6794aee62a36ebaf4f5222b5ef2 = L.popup({&quot;maxWidth&quot;: &quot;100%&quot;});\n",
       "\n",
       "        \n",
       "            \n",
       "                var html_f725db74a51a6fda71b5cc9bc4f4f9b7 = $(`&lt;div id=&quot;html_f725db74a51a6fda71b5cc9bc4f4f9b7&quot; style=&quot;width: 100.0%; height: 100.0%;&quot;&gt;Japan&lt;/div&gt;`)[0];\n",
       "                popup_0e87c6794aee62a36ebaf4f5222b5ef2.setContent(html_f725db74a51a6fda71b5cc9bc4f4f9b7);\n",
       "            \n",
       "        \n",
       "\n",
       "        circle_marker_2b6a8f8d0c072ad539bb4510d7257da9.bindPopup(popup_0e87c6794aee62a36ebaf4f5222b5ef2)\n",
       "        ;\n",
       "\n",
       "        \n",
       "    \n",
       "    \n",
       "            var circle_marker_728c0eca2bc323bdb687687ffdcfa457 = L.circleMarker(\n",
       "                [48.0, 68.0],\n",
       "                {&quot;bubblingMouseEvents&quot;: true, &quot;color&quot;: &quot;red&quot;, &quot;dashArray&quot;: null, &quot;dashOffset&quot;: null, &quot;fill&quot;: true, &quot;fillColor&quot;: &quot;red&quot;, &quot;fillOpacity&quot;: 0.2, &quot;fillRule&quot;: &quot;evenodd&quot;, &quot;lineCap&quot;: &quot;round&quot;, &quot;lineJoin&quot;: &quot;round&quot;, &quot;opacity&quot;: 1.0, &quot;radius&quot;: 0.5571315375487853, &quot;stroke&quot;: true, &quot;weight&quot;: 3}\n",
       "            ).addTo(map_ea1c77cce835ee54a2729a77063d298c);\n",
       "        \n",
       "    \n",
       "        var popup_5100c6ca693143641d40181660269ca5 = L.popup({&quot;maxWidth&quot;: &quot;100%&quot;});\n",
       "\n",
       "        \n",
       "            \n",
       "                var html_be28acf7de9d12109bad265c102daf55 = $(`&lt;div id=&quot;html_be28acf7de9d12109bad265c102daf55&quot; style=&quot;width: 100.0%; height: 100.0%;&quot;&gt;Kazakhstan&lt;/div&gt;`)[0];\n",
       "                popup_5100c6ca693143641d40181660269ca5.setContent(html_be28acf7de9d12109bad265c102daf55);\n",
       "            \n",
       "        \n",
       "\n",
       "        circle_marker_728c0eca2bc323bdb687687ffdcfa457.bindPopup(popup_5100c6ca693143641d40181660269ca5)\n",
       "        ;\n",
       "\n",
       "        \n",
       "    \n",
       "    \n",
       "            var circle_marker_b7919939282a588aa4316c19670ff461 = L.circleMarker(\n",
       "                [1.0, 38.0],\n",
       "                {&quot;bubblingMouseEvents&quot;: true, &quot;color&quot;: &quot;blue&quot;, &quot;dashArray&quot;: null, &quot;dashOffset&quot;: null, &quot;fill&quot;: true, &quot;fillColor&quot;: &quot;blue&quot;, &quot;fillOpacity&quot;: 0.2, &quot;fillRule&quot;: &quot;evenodd&quot;, &quot;lineCap&quot;: &quot;round&quot;, &quot;lineJoin&quot;: &quot;round&quot;, &quot;opacity&quot;: 1.0, &quot;radius&quot;: 24.088125409844043, &quot;stroke&quot;: true, &quot;weight&quot;: 3}\n",
       "            ).addTo(map_ea1c77cce835ee54a2729a77063d298c);\n",
       "        \n",
       "    \n",
       "        var popup_69c6be62fec25a022d8f30f98974858f = L.popup({&quot;maxWidth&quot;: &quot;100%&quot;});\n",
       "\n",
       "        \n",
       "            \n",
       "                var html_83996fe138663aa552dc9c4e9bee1f3b = $(`&lt;div id=&quot;html_83996fe138663aa552dc9c4e9bee1f3b&quot; style=&quot;width: 100.0%; height: 100.0%;&quot;&gt;Kenya&lt;/div&gt;`)[0];\n",
       "                popup_69c6be62fec25a022d8f30f98974858f.setContent(html_83996fe138663aa552dc9c4e9bee1f3b);\n",
       "            \n",
       "        \n",
       "\n",
       "        circle_marker_b7919939282a588aa4316c19670ff461.bindPopup(popup_69c6be62fec25a022d8f30f98974858f)\n",
       "        ;\n",
       "\n",
       "        \n",
       "    \n",
       "    \n",
       "            var circle_marker_72e87dd8f06479f4a5afa867c91b4de7 = L.circleMarker(\n",
       "                [41.5, 75.0],\n",
       "                {&quot;bubblingMouseEvents&quot;: true, &quot;color&quot;: &quot;red&quot;, &quot;dashArray&quot;: null, &quot;dashOffset&quot;: null, &quot;fill&quot;: true, &quot;fillColor&quot;: &quot;red&quot;, &quot;fillOpacity&quot;: 0.2, &quot;fillRule&quot;: &quot;evenodd&quot;, &quot;lineCap&quot;: &quot;round&quot;, &quot;lineJoin&quot;: &quot;round&quot;, &quot;opacity&quot;: 1.0, &quot;radius&quot;: 2.9698000122379935, &quot;stroke&quot;: true, &quot;weight&quot;: 3}\n",
       "            ).addTo(map_ea1c77cce835ee54a2729a77063d298c);\n",
       "        \n",
       "    \n",
       "        var popup_239158b17ac8dde136a303f9fdffbb8a = L.popup({&quot;maxWidth&quot;: &quot;100%&quot;});\n",
       "\n",
       "        \n",
       "            \n",
       "                var html_63761da40563e84d5b48f269c8205e30 = $(`&lt;div id=&quot;html_63761da40563e84d5b48f269c8205e30&quot; style=&quot;width: 100.0%; height: 100.0%;&quot;&gt;Kyrgyz Republic&lt;/div&gt;`)[0];\n",
       "                popup_239158b17ac8dde136a303f9fdffbb8a.setContent(html_63761da40563e84d5b48f269c8205e30);\n",
       "            \n",
       "        \n",
       "\n",
       "        circle_marker_72e87dd8f06479f4a5afa867c91b4de7.bindPopup(popup_239158b17ac8dde136a303f9fdffbb8a)\n",
       "        ;\n",
       "\n",
       "        \n",
       "    \n",
       "    \n",
       "            var circle_marker_314c88eb0c02f339a18fac7f396683a6 = L.circleMarker(\n",
       "                [13.0, 105.0],\n",
       "                {&quot;bubblingMouseEvents&quot;: true, &quot;color&quot;: &quot;red&quot;, &quot;dashArray&quot;: null, &quot;dashOffset&quot;: null, &quot;fill&quot;: true, &quot;fillColor&quot;: &quot;red&quot;, &quot;fillOpacity&quot;: 0.2, &quot;fillRule&quot;: &quot;evenodd&quot;, &quot;lineCap&quot;: &quot;round&quot;, &quot;lineJoin&quot;: &quot;round&quot;, &quot;opacity&quot;: 1.0, &quot;radius&quot;: 6.766457659892675, &quot;stroke&quot;: true, &quot;weight&quot;: 3}\n",
       "            ).addTo(map_ea1c77cce835ee54a2729a77063d298c);\n",
       "        \n",
       "    \n",
       "        var popup_5c0794cdc38cf2ff9cd83418d2a5f5f1 = L.popup({&quot;maxWidth&quot;: &quot;100%&quot;});\n",
       "\n",
       "        \n",
       "            \n",
       "                var html_ae4213871b63a3a776472bfabba8e478 = $(`&lt;div id=&quot;html_ae4213871b63a3a776472bfabba8e478&quot; style=&quot;width: 100.0%; height: 100.0%;&quot;&gt;Cambodia&lt;/div&gt;`)[0];\n",
       "                popup_5c0794cdc38cf2ff9cd83418d2a5f5f1.setContent(html_ae4213871b63a3a776472bfabba8e478);\n",
       "            \n",
       "        \n",
       "\n",
       "        circle_marker_314c88eb0c02f339a18fac7f396683a6.bindPopup(popup_5c0794cdc38cf2ff9cd83418d2a5f5f1)\n",
       "        ;\n",
       "\n",
       "        \n",
       "    \n",
       "    \n",
       "            var circle_marker_78a1c807a641774e017d3ffce156e8ea = L.circleMarker(\n",
       "                [18.0, 105.0],\n",
       "                {&quot;bubblingMouseEvents&quot;: true, &quot;color&quot;: &quot;red&quot;, &quot;dashArray&quot;: null, &quot;dashOffset&quot;: null, &quot;fill&quot;: true, &quot;fillColor&quot;: &quot;red&quot;, &quot;fillOpacity&quot;: 0.2, &quot;fillRule&quot;: &quot;evenodd&quot;, &quot;lineCap&quot;: &quot;round&quot;, &quot;lineJoin&quot;: &quot;round&quot;, &quot;opacity&quot;: 1.0, &quot;radius&quot;: 7.758372468047387, &quot;stroke&quot;: true, &quot;weight&quot;: 3}\n",
       "            ).addTo(map_ea1c77cce835ee54a2729a77063d298c);\n",
       "        \n",
       "    \n",
       "        var popup_9679a0dd05cd788707a445097a8d6892 = L.popup({&quot;maxWidth&quot;: &quot;100%&quot;});\n",
       "\n",
       "        \n",
       "            \n",
       "                var html_1a7c19e9e3206cee4afff74e7ed3b5db = $(`&lt;div id=&quot;html_1a7c19e9e3206cee4afff74e7ed3b5db&quot; style=&quot;width: 100.0%; height: 100.0%;&quot;&gt;Lao&lt;/div&gt;`)[0];\n",
       "                popup_9679a0dd05cd788707a445097a8d6892.setContent(html_1a7c19e9e3206cee4afff74e7ed3b5db);\n",
       "            \n",
       "        \n",
       "\n",
       "        circle_marker_78a1c807a641774e017d3ffce156e8ea.bindPopup(popup_9679a0dd05cd788707a445097a8d6892)\n",
       "        ;\n",
       "\n",
       "        \n",
       "    \n",
       "    \n",
       "            var circle_marker_6fcffa47f253b8d9490d655a52eaf95c = L.circleMarker(\n",
       "                [6.5, -9.5],\n",
       "                {&quot;bubblingMouseEvents&quot;: true, &quot;color&quot;: &quot;blue&quot;, &quot;dashArray&quot;: null, &quot;dashOffset&quot;: null, &quot;fill&quot;: true, &quot;fillColor&quot;: &quot;blue&quot;, &quot;fillOpacity&quot;: 0.2, &quot;fillRule&quot;: &quot;evenodd&quot;, &quot;lineCap&quot;: &quot;round&quot;, &quot;lineJoin&quot;: &quot;round&quot;, &quot;opacity&quot;: 1.0, &quot;radius&quot;: 10.185771651662767, &quot;stroke&quot;: true, &quot;weight&quot;: 3}\n",
       "            ).addTo(map_ea1c77cce835ee54a2729a77063d298c);\n",
       "        \n",
       "    \n",
       "        var popup_7afbce58240c6c84bf1da4b1d596d451 = L.popup({&quot;maxWidth&quot;: &quot;100%&quot;});\n",
       "\n",
       "        \n",
       "            \n",
       "                var html_0f75d6b0949f164b9d62f7a39de56f57 = $(`&lt;div id=&quot;html_0f75d6b0949f164b9d62f7a39de56f57&quot; style=&quot;width: 100.0%; height: 100.0%;&quot;&gt;Liberia&lt;/div&gt;`)[0];\n",
       "                popup_7afbce58240c6c84bf1da4b1d596d451.setContent(html_0f75d6b0949f164b9d62f7a39de56f57);\n",
       "            \n",
       "        \n",
       "\n",
       "        circle_marker_6fcffa47f253b8d9490d655a52eaf95c.bindPopup(popup_7afbce58240c6c84bf1da4b1d596d451)\n",
       "        ;\n",
       "\n",
       "        \n",
       "    \n",
       "    \n",
       "            var circle_marker_818f39cc49ae514fe11df8fce98c0f99 = L.circleMarker(\n",
       "                [13.88333, -60.96667],\n",
       "                {&quot;bubblingMouseEvents&quot;: true, &quot;color&quot;: &quot;green&quot;, &quot;dashArray&quot;: null, &quot;dashOffset&quot;: null, &quot;fill&quot;: true, &quot;fillColor&quot;: &quot;green&quot;, &quot;fillOpacity&quot;: 0.2, &quot;fillRule&quot;: &quot;evenodd&quot;, &quot;lineCap&quot;: &quot;round&quot;, &quot;lineJoin&quot;: &quot;round&quot;, &quot;opacity&quot;: 1.0, &quot;radius&quot;: 1.077730342259815, &quot;stroke&quot;: true, &quot;weight&quot;: 3}\n",
       "            ).addTo(map_ea1c77cce835ee54a2729a77063d298c);\n",
       "        \n",
       "    \n",
       "        var popup_25fb0612bf57376037e659e9487fa17a = L.popup({&quot;maxWidth&quot;: &quot;100%&quot;});\n",
       "\n",
       "        \n",
       "            \n",
       "                var html_cef142af3c2aad8c486a6cf0ae306c44 = $(`&lt;div id=&quot;html_cef142af3c2aad8c486a6cf0ae306c44&quot; style=&quot;width: 100.0%; height: 100.0%;&quot;&gt;St. Lucia&lt;/div&gt;`)[0];\n",
       "                popup_25fb0612bf57376037e659e9487fa17a.setContent(html_cef142af3c2aad8c486a6cf0ae306c44);\n",
       "            \n",
       "        \n",
       "\n",
       "        circle_marker_818f39cc49ae514fe11df8fce98c0f99.bindPopup(popup_25fb0612bf57376037e659e9487fa17a)\n",
       "        ;\n",
       "\n",
       "        \n",
       "    \n",
       "    \n",
       "            var circle_marker_89cd9ae64fa90c38af542ffdbf2780fa = L.circleMarker(\n",
       "                [7.75, 80.75],\n",
       "                {&quot;bubblingMouseEvents&quot;: true, &quot;color&quot;: &quot;red&quot;, &quot;dashArray&quot;: null, &quot;dashOffset&quot;: null, &quot;fill&quot;: true, &quot;fillColor&quot;: &quot;red&quot;, &quot;fillOpacity&quot;: 0.2, &quot;fillRule&quot;: &quot;evenodd&quot;, &quot;lineCap&quot;: &quot;round&quot;, &quot;lineJoin&quot;: &quot;round&quot;, &quot;opacity&quot;: 1.0, &quot;radius&quot;: 5.148542738823909, &quot;stroke&quot;: true, &quot;weight&quot;: 3}\n",
       "            ).addTo(map_ea1c77cce835ee54a2729a77063d298c);\n",
       "        \n",
       "    \n",
       "        var popup_82ca64230ddc40ebabea5905cf3eb884 = L.popup({&quot;maxWidth&quot;: &quot;100%&quot;});\n",
       "\n",
       "        \n",
       "            \n",
       "                var html_9b4b306e4368b68b9a4d8a39488699a0 = $(`&lt;div id=&quot;html_9b4b306e4368b68b9a4d8a39488699a0&quot; style=&quot;width: 100.0%; height: 100.0%;&quot;&gt;Sri Lanka&lt;/div&gt;`)[0];\n",
       "                popup_82ca64230ddc40ebabea5905cf3eb884.setContent(html_9b4b306e4368b68b9a4d8a39488699a0);\n",
       "            \n",
       "        \n",
       "\n",
       "        circle_marker_89cd9ae64fa90c38af542ffdbf2780fa.bindPopup(popup_82ca64230ddc40ebabea5905cf3eb884)\n",
       "        ;\n",
       "\n",
       "        \n",
       "    \n",
       "    \n",
       "            var circle_marker_7daaceecfe3ce2a8b3e78573f87c2736 = L.circleMarker(\n",
       "                [-29.5, 28.25],\n",
       "                {&quot;bubblingMouseEvents&quot;: true, &quot;color&quot;: &quot;blue&quot;, &quot;dashArray&quot;: null, &quot;dashOffset&quot;: null, &quot;fill&quot;: true, &quot;fillColor&quot;: &quot;blue&quot;, &quot;fillOpacity&quot;: 0.2, &quot;fillRule&quot;: &quot;evenodd&quot;, &quot;lineCap&quot;: &quot;round&quot;, &quot;lineJoin&quot;: &quot;round&quot;, &quot;opacity&quot;: 1.0, &quot;radius&quot;: 5.975916376425869, &quot;stroke&quot;: true, &quot;weight&quot;: 3}\n",
       "            ).addTo(map_ea1c77cce835ee54a2729a77063d298c);\n",
       "        \n",
       "    \n",
       "        var popup_f65851155b57918b7f71abc13533c3ba = L.popup({&quot;maxWidth&quot;: &quot;100%&quot;});\n",
       "\n",
       "        \n",
       "            \n",
       "                var html_c04a950d301a456b66e0f6f657942c6d = $(`&lt;div id=&quot;html_c04a950d301a456b66e0f6f657942c6d&quot; style=&quot;width: 100.0%; height: 100.0%;&quot;&gt;Lesotho&lt;/div&gt;`)[0];\n",
       "                popup_f65851155b57918b7f71abc13533c3ba.setContent(html_c04a950d301a456b66e0f6f657942c6d);\n",
       "            \n",
       "        \n",
       "\n",
       "        circle_marker_7daaceecfe3ce2a8b3e78573f87c2736.bindPopup(popup_f65851155b57918b7f71abc13533c3ba)\n",
       "        ;\n",
       "\n",
       "        \n",
       "    \n",
       "    \n",
       "            var circle_marker_efcce231353878b2a21064f0897e61b9 = L.circleMarker(\n",
       "                [55.41667, 24.0],\n",
       "                {&quot;bubblingMouseEvents&quot;: true, &quot;color&quot;: &quot;black&quot;, &quot;dashArray&quot;: null, &quot;dashOffset&quot;: null, &quot;fill&quot;: true, &quot;fillColor&quot;: &quot;black&quot;, &quot;fillOpacity&quot;: 0.2, &quot;fillRule&quot;: &quot;evenodd&quot;, &quot;lineCap&quot;: &quot;round&quot;, &quot;lineJoin&quot;: &quot;round&quot;, &quot;opacity&quot;: 1.0, &quot;radius&quot;: 0.9084634475710657, &quot;stroke&quot;: true, &quot;weight&quot;: 3}\n",
       "            ).addTo(map_ea1c77cce835ee54a2729a77063d298c);\n",
       "        \n",
       "    \n",
       "        var popup_4a82a7dacf54e878e5603851276a0058 = L.popup({&quot;maxWidth&quot;: &quot;100%&quot;});\n",
       "\n",
       "        \n",
       "            \n",
       "                var html_56240c4097dfbc04219cf32f340d4ad0 = $(`&lt;div id=&quot;html_56240c4097dfbc04219cf32f340d4ad0&quot; style=&quot;width: 100.0%; height: 100.0%;&quot;&gt;Lithuania&lt;/div&gt;`)[0];\n",
       "                popup_4a82a7dacf54e878e5603851276a0058.setContent(html_56240c4097dfbc04219cf32f340d4ad0);\n",
       "            \n",
       "        \n",
       "\n",
       "        circle_marker_efcce231353878b2a21064f0897e61b9.bindPopup(popup_4a82a7dacf54e878e5603851276a0058)\n",
       "        ;\n",
       "\n",
       "        \n",
       "    \n",
       "    \n",
       "            var circle_marker_c8a556507d3f739bafe443102dd94c63 = L.circleMarker(\n",
       "                [57.0, 25.0],\n",
       "                {&quot;bubblingMouseEvents&quot;: true, &quot;color&quot;: &quot;black&quot;, &quot;dashArray&quot;: null, &quot;dashOffset&quot;: null, &quot;fill&quot;: true, &quot;fillColor&quot;: &quot;black&quot;, &quot;fillOpacity&quot;: 0.2, &quot;fillRule&quot;: &quot;evenodd&quot;, &quot;lineCap&quot;: &quot;round&quot;, &quot;lineJoin&quot;: &quot;round&quot;, &quot;opacity&quot;: 1.0, &quot;radius&quot;: 0.8495081921101485, &quot;stroke&quot;: true, &quot;weight&quot;: 3}\n",
       "            ).addTo(map_ea1c77cce835ee54a2729a77063d298c);\n",
       "        \n",
       "    \n",
       "        var popup_dbcaee08b0fa85f37c7c729f61b7f89a = L.popup({&quot;maxWidth&quot;: &quot;100%&quot;});\n",
       "\n",
       "        \n",
       "            \n",
       "                var html_c01494711a12cab89df0420bc89e3782 = $(`&lt;div id=&quot;html_c01494711a12cab89df0420bc89e3782&quot; style=&quot;width: 100.0%; height: 100.0%;&quot;&gt;Latvia&lt;/div&gt;`)[0];\n",
       "                popup_dbcaee08b0fa85f37c7c729f61b7f89a.setContent(html_c01494711a12cab89df0420bc89e3782);\n",
       "            \n",
       "        \n",
       "\n",
       "        circle_marker_c8a556507d3f739bafe443102dd94c63.bindPopup(popup_dbcaee08b0fa85f37c7c729f61b7f89a)\n",
       "        ;\n",
       "\n",
       "        \n",
       "    \n",
       "    \n",
       "            var circle_marker_2b3d6b1098fc4fa8fbeaf3d389b199ab = L.circleMarker(\n",
       "                [32.0, -6.0],\n",
       "                {&quot;bubblingMouseEvents&quot;: true, &quot;color&quot;: &quot;blue&quot;, &quot;dashArray&quot;: null, &quot;dashOffset&quot;: null, &quot;fill&quot;: true, &quot;fillColor&quot;: &quot;blue&quot;, &quot;fillOpacity&quot;: 0.2, &quot;fillRule&quot;: &quot;evenodd&quot;, &quot;lineCap&quot;: &quot;round&quot;, &quot;lineJoin&quot;: &quot;round&quot;, &quot;opacity&quot;: 1.0, &quot;radius&quot;: 5.1438033128401495, &quot;stroke&quot;: true, &quot;weight&quot;: 3}\n",
       "            ).addTo(map_ea1c77cce835ee54a2729a77063d298c);\n",
       "        \n",
       "    \n",
       "        var popup_0d1b5777a6a5f329689be919f831b95a = L.popup({&quot;maxWidth&quot;: &quot;100%&quot;});\n",
       "\n",
       "        \n",
       "            \n",
       "                var html_940ccc0e90faa2a29df34b1a68acc765 = $(`&lt;div id=&quot;html_940ccc0e90faa2a29df34b1a68acc765&quot; style=&quot;width: 100.0%; height: 100.0%;&quot;&gt;Morocco&lt;/div&gt;`)[0];\n",
       "                popup_0d1b5777a6a5f329689be919f831b95a.setContent(html_940ccc0e90faa2a29df34b1a68acc765);\n",
       "            \n",
       "        \n",
       "\n",
       "        circle_marker_2b3d6b1098fc4fa8fbeaf3d389b199ab.bindPopup(popup_0d1b5777a6a5f329689be919f831b95a)\n",
       "        ;\n",
       "\n",
       "        \n",
       "    \n",
       "    \n",
       "            var circle_marker_9767b2fc56e64cfa19f05645a0e0fca1 = L.circleMarker(\n",
       "                [47.25, 28.58333],\n",
       "                {&quot;bubblingMouseEvents&quot;: true, &quot;color&quot;: &quot;black&quot;, &quot;dashArray&quot;: null, &quot;dashOffset&quot;: null, &quot;fill&quot;: true, &quot;fillColor&quot;: &quot;black&quot;, &quot;fillOpacity&quot;: 0.2, &quot;fillRule&quot;: &quot;evenodd&quot;, &quot;lineCap&quot;: &quot;round&quot;, &quot;lineJoin&quot;: &quot;round&quot;, &quot;opacity&quot;: 1.0, &quot;radius&quot;: 0.5469441048703668, &quot;stroke&quot;: true, &quot;weight&quot;: 3}\n",
       "            ).addTo(map_ea1c77cce835ee54a2729a77063d298c);\n",
       "        \n",
       "    \n",
       "        var popup_555de60147f1bd4a0cfd704c43dc7188 = L.popup({&quot;maxWidth&quot;: &quot;100%&quot;});\n",
       "\n",
       "        \n",
       "            \n",
       "                var html_f98cea13ac644620da800f935f83581d = $(`&lt;div id=&quot;html_f98cea13ac644620da800f935f83581d&quot; style=&quot;width: 100.0%; height: 100.0%;&quot;&gt;Moldova&lt;/div&gt;`)[0];\n",
       "                popup_555de60147f1bd4a0cfd704c43dc7188.setContent(html_f98cea13ac644620da800f935f83581d);\n",
       "            \n",
       "        \n",
       "\n",
       "        circle_marker_9767b2fc56e64cfa19f05645a0e0fca1.bindPopup(popup_555de60147f1bd4a0cfd704c43dc7188)\n",
       "        ;\n",
       "\n",
       "        \n",
       "    \n",
       "    \n",
       "            var circle_marker_31d68871e8c14e489ca7a0140be5a35c = L.circleMarker(\n",
       "                [-20.0, 47.0],\n",
       "                {&quot;bubblingMouseEvents&quot;: true, &quot;color&quot;: &quot;blue&quot;, &quot;dashArray&quot;: null, &quot;dashOffset&quot;: null, &quot;fill&quot;: true, &quot;fillColor&quot;: &quot;blue&quot;, &quot;fillOpacity&quot;: 0.2, &quot;fillRule&quot;: &quot;evenodd&quot;, &quot;lineCap&quot;: &quot;round&quot;, &quot;lineJoin&quot;: &quot;round&quot;, &quot;opacity&quot;: 1.0, &quot;radius&quot;: 24.295318119508444, &quot;stroke&quot;: true, &quot;weight&quot;: 3}\n",
       "            ).addTo(map_ea1c77cce835ee54a2729a77063d298c);\n",
       "        \n",
       "    \n",
       "        var popup_b3a99b57333e4c842d0e44375141bd27 = L.popup({&quot;maxWidth&quot;: &quot;100%&quot;});\n",
       "\n",
       "        \n",
       "            \n",
       "                var html_6eb43e81a35cfa6affa810ff2d51a6ca = $(`&lt;div id=&quot;html_6eb43e81a35cfa6affa810ff2d51a6ca&quot; style=&quot;width: 100.0%; height: 100.0%;&quot;&gt;Madagascar&lt;/div&gt;`)[0];\n",
       "                popup_b3a99b57333e4c842d0e44375141bd27.setContent(html_6eb43e81a35cfa6affa810ff2d51a6ca);\n",
       "            \n",
       "        \n",
       "\n",
       "        circle_marker_31d68871e8c14e489ca7a0140be5a35c.bindPopup(popup_b3a99b57333e4c842d0e44375141bd27)\n",
       "        ;\n",
       "\n",
       "        \n",
       "    \n",
       "    \n",
       "            var circle_marker_944d734fb5ef57cd20150e9e920d3084 = L.circleMarker(\n",
       "                [3.2, 73.0],\n",
       "                {&quot;bubblingMouseEvents&quot;: true, &quot;color&quot;: &quot;red&quot;, &quot;dashArray&quot;: null, &quot;dashOffset&quot;: null, &quot;fill&quot;: true, &quot;fillColor&quot;: &quot;red&quot;, &quot;fillOpacity&quot;: 0.2, &quot;fillRule&quot;: &quot;evenodd&quot;, &quot;lineCap&quot;: &quot;round&quot;, &quot;lineJoin&quot;: &quot;round&quot;, &quot;opacity&quot;: 1.0, &quot;radius&quot;: 0.4150842113565833, &quot;stroke&quot;: true, &quot;weight&quot;: 3}\n",
       "            ).addTo(map_ea1c77cce835ee54a2729a77063d298c);\n",
       "        \n",
       "    \n",
       "        var popup_f299f0dec3b045c303fd9a8945d5f4b4 = L.popup({&quot;maxWidth&quot;: &quot;100%&quot;});\n",
       "\n",
       "        \n",
       "            \n",
       "                var html_98102bc7ca56215695b686b3bb7c29e5 = $(`&lt;div id=&quot;html_98102bc7ca56215695b686b3bb7c29e5&quot; style=&quot;width: 100.0%; height: 100.0%;&quot;&gt;Maldives&lt;/div&gt;`)[0];\n",
       "                popup_f299f0dec3b045c303fd9a8945d5f4b4.setContent(html_98102bc7ca56215695b686b3bb7c29e5);\n",
       "            \n",
       "        \n",
       "\n",
       "        circle_marker_944d734fb5ef57cd20150e9e920d3084.bindPopup(popup_f299f0dec3b045c303fd9a8945d5f4b4)\n",
       "        ;\n",
       "\n",
       "        \n",
       "    \n",
       "    \n",
       "            var circle_marker_1383f3b7631ff83e5ec718d60c9a0e74 = L.circleMarker(\n",
       "                [19.42847, -99.12766],\n",
       "                {&quot;bubblingMouseEvents&quot;: true, &quot;color&quot;: &quot;green&quot;, &quot;dashArray&quot;: null, &quot;dashOffset&quot;: null, &quot;fill&quot;: true, &quot;fillColor&quot;: &quot;green&quot;, &quot;fillOpacity&quot;: 0.2, &quot;fillRule&quot;: &quot;evenodd&quot;, &quot;lineCap&quot;: &quot;round&quot;, &quot;lineJoin&quot;: &quot;round&quot;, &quot;opacity&quot;: 1.0, &quot;radius&quot;: 6.116079214103602, &quot;stroke&quot;: true, &quot;weight&quot;: 3}\n",
       "            ).addTo(map_ea1c77cce835ee54a2729a77063d298c);\n",
       "        \n",
       "    \n",
       "        var popup_5129cdeb22f2eda4217e2742a811b742 = L.popup({&quot;maxWidth&quot;: &quot;100%&quot;});\n",
       "\n",
       "        \n",
       "            \n",
       "                var html_e98c8dfa17e381c08861957e7f6891ac = $(`&lt;div id=&quot;html_e98c8dfa17e381c08861957e7f6891ac&quot; style=&quot;width: 100.0%; height: 100.0%;&quot;&gt;Mexico&lt;/div&gt;`)[0];\n",
       "                popup_5129cdeb22f2eda4217e2742a811b742.setContent(html_e98c8dfa17e381c08861957e7f6891ac);\n",
       "            \n",
       "        \n",
       "\n",
       "        circle_marker_1383f3b7631ff83e5ec718d60c9a0e74.bindPopup(popup_5129cdeb22f2eda4217e2742a811b742)\n",
       "        ;\n",
       "\n",
       "        \n",
       "    \n",
       "    \n",
       "            var circle_marker_117c20225bc58d211e0b9eaa0cc94c32 = L.circleMarker(\n",
       "                [41.66667, 21.75],\n",
       "                {&quot;bubblingMouseEvents&quot;: true, &quot;color&quot;: &quot;black&quot;, &quot;dashArray&quot;: null, &quot;dashOffset&quot;: null, &quot;fill&quot;: true, &quot;fillColor&quot;: &quot;black&quot;, &quot;fillOpacity&quot;: 0.2, &quot;fillRule&quot;: &quot;evenodd&quot;, &quot;lineCap&quot;: &quot;round&quot;, &quot;lineJoin&quot;: &quot;round&quot;, &quot;opacity&quot;: 1.0, &quot;radius&quot;: 0.42960225378859224, &quot;stroke&quot;: true, &quot;weight&quot;: 3}\n",
       "            ).addTo(map_ea1c77cce835ee54a2729a77063d298c);\n",
       "        \n",
       "    \n",
       "        var popup_e4a445fe7d584f5942db9c4e5f62c169 = L.popup({&quot;maxWidth&quot;: &quot;100%&quot;});\n",
       "\n",
       "        \n",
       "            \n",
       "                var html_7e01eab5eecdd97704503518947b0e4d = $(`&lt;div id=&quot;html_7e01eab5eecdd97704503518947b0e4d&quot; style=&quot;width: 100.0%; height: 100.0%;&quot;&gt;North Macedonia&lt;/div&gt;`)[0];\n",
       "                popup_e4a445fe7d584f5942db9c4e5f62c169.setContent(html_7e01eab5eecdd97704503518947b0e4d);\n",
       "            \n",
       "        \n",
       "\n",
       "        circle_marker_117c20225bc58d211e0b9eaa0cc94c32.bindPopup(popup_e4a445fe7d584f5942db9c4e5f62c169)\n",
       "        ;\n",
       "\n",
       "        \n",
       "    \n",
       "    \n",
       "            var circle_marker_4b39695a68d0d7adaf6d300e65824e8a = L.circleMarker(\n",
       "                [18.0, -2.0],\n",
       "                {&quot;bubblingMouseEvents&quot;: true, &quot;color&quot;: &quot;blue&quot;, &quot;dashArray&quot;: null, &quot;dashOffset&quot;: null, &quot;fill&quot;: true, &quot;fillColor&quot;: &quot;blue&quot;, &quot;fillOpacity&quot;: 0.2, &quot;fillRule&quot;: &quot;evenodd&quot;, &quot;lineCap&quot;: &quot;round&quot;, &quot;lineJoin&quot;: &quot;round&quot;, &quot;opacity&quot;: 1.0, &quot;radius&quot;: 15.570484713122086, &quot;stroke&quot;: true, &quot;weight&quot;: 3}\n",
       "            ).addTo(map_ea1c77cce835ee54a2729a77063d298c);\n",
       "        \n",
       "    \n",
       "        var popup_14503cb06d40b7e53e2e8ef329333a43 = L.popup({&quot;maxWidth&quot;: &quot;100%&quot;});\n",
       "\n",
       "        \n",
       "            \n",
       "                var html_ef6751870ffb071f9cdcd65456a6967f = $(`&lt;div id=&quot;html_ef6751870ffb071f9cdcd65456a6967f&quot; style=&quot;width: 100.0%; height: 100.0%;&quot;&gt;Mali&lt;/div&gt;`)[0];\n",
       "                popup_14503cb06d40b7e53e2e8ef329333a43.setContent(html_ef6751870ffb071f9cdcd65456a6967f);\n",
       "            \n",
       "        \n",
       "\n",
       "        circle_marker_4b39695a68d0d7adaf6d300e65824e8a.bindPopup(popup_14503cb06d40b7e53e2e8ef329333a43)\n",
       "        ;\n",
       "\n",
       "        \n",
       "    \n",
       "    \n",
       "            var circle_marker_3904d927f1e9260e5c8d0d3e70b97aee = L.circleMarker(\n",
       "                [42.75, 19.25],\n",
       "                {&quot;bubblingMouseEvents&quot;: true, &quot;color&quot;: &quot;black&quot;, &quot;dashArray&quot;: null, &quot;dashOffset&quot;: null, &quot;fill&quot;: true, &quot;fillColor&quot;: &quot;black&quot;, &quot;fillOpacity&quot;: 0.2, &quot;fillRule&quot;: &quot;evenodd&quot;, &quot;lineCap&quot;: &quot;round&quot;, &quot;lineJoin&quot;: &quot;round&quot;, &quot;opacity&quot;: 1.0, &quot;radius&quot;: 0.20427916502119212, &quot;stroke&quot;: true, &quot;weight&quot;: 3}\n",
       "            ).addTo(map_ea1c77cce835ee54a2729a77063d298c);\n",
       "        \n",
       "    \n",
       "        var popup_e89b562e4a754f026934b85171b151e3 = L.popup({&quot;maxWidth&quot;: &quot;100%&quot;});\n",
       "\n",
       "        \n",
       "            \n",
       "                var html_8cb073859cb2c880bfc19933ffeb30b8 = $(`&lt;div id=&quot;html_8cb073859cb2c880bfc19933ffeb30b8&quot; style=&quot;width: 100.0%; height: 100.0%;&quot;&gt;Montenegro&lt;/div&gt;`)[0];\n",
       "                popup_e89b562e4a754f026934b85171b151e3.setContent(html_8cb073859cb2c880bfc19933ffeb30b8);\n",
       "            \n",
       "        \n",
       "\n",
       "        circle_marker_3904d927f1e9260e5c8d0d3e70b97aee.bindPopup(popup_e89b562e4a754f026934b85171b151e3)\n",
       "        ;\n",
       "\n",
       "        \n",
       "    \n",
       "    \n",
       "            var circle_marker_4a6ea5001bf9f957e1da9d73fc9cf111 = L.circleMarker(\n",
       "                [-18.25, 35.0],\n",
       "                {&quot;bubblingMouseEvents&quot;: true, &quot;color&quot;: &quot;blue&quot;, &quot;dashArray&quot;: null, &quot;dashOffset&quot;: null, &quot;fill&quot;: true, &quot;fillColor&quot;: &quot;blue&quot;, &quot;fillOpacity&quot;: 0.2, &quot;fillRule&quot;: &quot;evenodd&quot;, &quot;lineCap&quot;: &quot;round&quot;, &quot;lineJoin&quot;: &quot;round&quot;, &quot;opacity&quot;: 1.0, &quot;radius&quot;: 21.3245857967595, &quot;stroke&quot;: true, &quot;weight&quot;: 3}\n",
       "            ).addTo(map_ea1c77cce835ee54a2729a77063d298c);\n",
       "        \n",
       "    \n",
       "        var popup_3176c353692eeb97beced1db08b4255d = L.popup({&quot;maxWidth&quot;: &quot;100%&quot;});\n",
       "\n",
       "        \n",
       "            \n",
       "                var html_3ead28bedccd78521dd08df66d909aa4 = $(`&lt;div id=&quot;html_3ead28bedccd78521dd08df66d909aa4&quot; style=&quot;width: 100.0%; height: 100.0%;&quot;&gt;Mozambique&lt;/div&gt;`)[0];\n",
       "                popup_3176c353692eeb97beced1db08b4255d.setContent(html_3ead28bedccd78521dd08df66d909aa4);\n",
       "            \n",
       "        \n",
       "\n",
       "        circle_marker_4a6ea5001bf9f957e1da9d73fc9cf111.bindPopup(popup_3176c353692eeb97beced1db08b4255d)\n",
       "        ;\n",
       "\n",
       "        \n",
       "    \n",
       "    \n",
       "            var circle_marker_0b9c5410859b8790d85124b219271559 = L.circleMarker(\n",
       "                [20.25, -10.5],\n",
       "                {&quot;bubblingMouseEvents&quot;: true, &quot;color&quot;: &quot;blue&quot;, &quot;dashArray&quot;: null, &quot;dashOffset&quot;: null, &quot;fill&quot;: true, &quot;fillColor&quot;: &quot;blue&quot;, &quot;fillOpacity&quot;: 0.2, &quot;fillRule&quot;: &quot;evenodd&quot;, &quot;lineCap&quot;: &quot;round&quot;, &quot;lineJoin&quot;: &quot;round&quot;, &quot;opacity&quot;: 1.0, &quot;radius&quot;: 5.104874710786612, &quot;stroke&quot;: true, &quot;weight&quot;: 3}\n",
       "            ).addTo(map_ea1c77cce835ee54a2729a77063d298c);\n",
       "        \n",
       "    \n",
       "        var popup_8c764981eba3f4bab93bf4db1db63426 = L.popup({&quot;maxWidth&quot;: &quot;100%&quot;});\n",
       "\n",
       "        \n",
       "            \n",
       "                var html_583905c0bf64157b48d92bf885f06ec5 = $(`&lt;div id=&quot;html_583905c0bf64157b48d92bf885f06ec5&quot; style=&quot;width: 100.0%; height: 100.0%;&quot;&gt;Mauritania&lt;/div&gt;`)[0];\n",
       "                popup_8c764981eba3f4bab93bf4db1db63426.setContent(html_583905c0bf64157b48d92bf885f06ec5);\n",
       "            \n",
       "        \n",
       "\n",
       "        circle_marker_0b9c5410859b8790d85124b219271559.bindPopup(popup_8c764981eba3f4bab93bf4db1db63426)\n",
       "        ;\n",
       "\n",
       "        \n",
       "    \n",
       "    \n",
       "            var circle_marker_af4e04e23ebcd78971a9b465f36315ae = L.circleMarker(\n",
       "                [-13.5, 34.0],\n",
       "                {&quot;bubblingMouseEvents&quot;: true, &quot;color&quot;: &quot;blue&quot;, &quot;dashArray&quot;: null, &quot;dashOffset&quot;: null, &quot;fill&quot;: true, &quot;fillColor&quot;: &quot;blue&quot;, &quot;fillOpacity&quot;: 0.2, &quot;fillRule&quot;: &quot;evenodd&quot;, &quot;lineCap&quot;: &quot;round&quot;, &quot;lineJoin&quot;: &quot;round&quot;, &quot;opacity&quot;: 1.0, &quot;radius&quot;: 18.274676161123143, &quot;stroke&quot;: true, &quot;weight&quot;: 3}\n",
       "            ).addTo(map_ea1c77cce835ee54a2729a77063d298c);\n",
       "        \n",
       "    \n",
       "        var popup_6b1417e1280b100b704e86ba4bd08e1c = L.popup({&quot;maxWidth&quot;: &quot;100%&quot;});\n",
       "\n",
       "        \n",
       "            \n",
       "                var html_e0f55b7f4ba1bc7e5a6888f5bce0d06a = $(`&lt;div id=&quot;html_e0f55b7f4ba1bc7e5a6888f5bce0d06a&quot; style=&quot;width: 100.0%; height: 100.0%;&quot;&gt;Malawi&lt;/div&gt;`)[0];\n",
       "                popup_6b1417e1280b100b704e86ba4bd08e1c.setContent(html_e0f55b7f4ba1bc7e5a6888f5bce0d06a);\n",
       "            \n",
       "        \n",
       "\n",
       "        circle_marker_af4e04e23ebcd78971a9b465f36315ae.bindPopup(popup_6b1417e1280b100b704e86ba4bd08e1c)\n",
       "        ;\n",
       "\n",
       "        \n",
       "    \n",
       "    \n",
       "            var circle_marker_3b015caf6cd827ae8201587d40341c83 = L.circleMarker(\n",
       "                [2.5, 112.5],\n",
       "                {&quot;bubblingMouseEvents&quot;: true, &quot;color&quot;: &quot;red&quot;, &quot;dashArray&quot;: null, &quot;dashOffset&quot;: null, &quot;fill&quot;: true, &quot;fillColor&quot;: &quot;red&quot;, &quot;fillOpacity&quot;: 0.2, &quot;fillRule&quot;: &quot;evenodd&quot;, &quot;lineCap&quot;: &quot;round&quot;, &quot;lineJoin&quot;: &quot;round&quot;, &quot;opacity&quot;: 1.0, &quot;radius&quot;: 2.2019543270378152, &quot;stroke&quot;: true, &quot;weight&quot;: 3}\n",
       "            ).addTo(map_ea1c77cce835ee54a2729a77063d298c);\n",
       "        \n",
       "    \n",
       "        var popup_f26abdcd837519051101583367852d62 = L.popup({&quot;maxWidth&quot;: &quot;100%&quot;});\n",
       "\n",
       "        \n",
       "            \n",
       "                var html_e908d441beeeb2e51d2c643c8e220cf2 = $(`&lt;div id=&quot;html_e908d441beeeb2e51d2c643c8e220cf2&quot; style=&quot;width: 100.0%; height: 100.0%;&quot;&gt;Malaysia&lt;/div&gt;`)[0];\n",
       "                popup_f26abdcd837519051101583367852d62.setContent(html_e908d441beeeb2e51d2c643c8e220cf2);\n",
       "            \n",
       "        \n",
       "\n",
       "        circle_marker_3b015caf6cd827ae8201587d40341c83.bindPopup(popup_f26abdcd837519051101583367852d62)\n",
       "        ;\n",
       "\n",
       "        \n",
       "    \n",
       "    \n",
       "            var circle_marker_43e1e67d997db26665e73a25624eb937 = L.circleMarker(\n",
       "                [-22.0, 17.0],\n",
       "                {&quot;bubblingMouseEvents&quot;: true, &quot;color&quot;: &quot;blue&quot;, &quot;dashArray&quot;: null, &quot;dashOffset&quot;: null, &quot;fill&quot;: true, &quot;fillColor&quot;: &quot;blue&quot;, &quot;fillOpacity&quot;: 0.2, &quot;fillRule&quot;: &quot;evenodd&quot;, &quot;lineCap&quot;: &quot;round&quot;, &quot;lineJoin&quot;: &quot;round&quot;, &quot;opacity&quot;: 1.0, &quot;radius&quot;: 3.9845672980253974, &quot;stroke&quot;: true, &quot;weight&quot;: 3}\n",
       "            ).addTo(map_ea1c77cce835ee54a2729a77063d298c);\n",
       "        \n",
       "    \n",
       "        var popup_e880e2544d6470b10e386ab4e81b3fd3 = L.popup({&quot;maxWidth&quot;: &quot;100%&quot;});\n",
       "\n",
       "        \n",
       "            \n",
       "                var html_0328b4030efa2101d8dc897ddab57ff5 = $(`&lt;div id=&quot;html_0328b4030efa2101d8dc897ddab57ff5&quot; style=&quot;width: 100.0%; height: 100.0%;&quot;&gt;Namibia&lt;/div&gt;`)[0];\n",
       "                popup_e880e2544d6470b10e386ab4e81b3fd3.setContent(html_0328b4030efa2101d8dc897ddab57ff5);\n",
       "            \n",
       "        \n",
       "\n",
       "        circle_marker_43e1e67d997db26665e73a25624eb937.bindPopup(popup_e880e2544d6470b10e386ab4e81b3fd3)\n",
       "        ;\n",
       "\n",
       "        \n",
       "    \n",
       "    \n",
       "            var circle_marker_6f0e6ec52442eac1e234ac1bac72440e = L.circleMarker(\n",
       "                [18.0, 9.0],\n",
       "                {&quot;bubblingMouseEvents&quot;: true, &quot;color&quot;: &quot;blue&quot;, &quot;dashArray&quot;: null, &quot;dashOffset&quot;: null, &quot;fill&quot;: true, &quot;fillColor&quot;: &quot;blue&quot;, &quot;fillOpacity&quot;: 0.2, &quot;fillRule&quot;: &quot;evenodd&quot;, &quot;lineCap&quot;: &quot;round&quot;, &quot;lineJoin&quot;: &quot;round&quot;, &quot;opacity&quot;: 1.0, &quot;radius&quot;: 14.62434316861526, &quot;stroke&quot;: true, &quot;weight&quot;: 3}\n",
       "            ).addTo(map_ea1c77cce835ee54a2729a77063d298c);\n",
       "        \n",
       "    \n",
       "        var popup_eec853cd2722d0ebbcafcd6978c0d4b3 = L.popup({&quot;maxWidth&quot;: &quot;100%&quot;});\n",
       "\n",
       "        \n",
       "            \n",
       "                var html_0c318cd910c88b8dd369943bda81bb2f = $(`&lt;div id=&quot;html_0c318cd910c88b8dd369943bda81bb2f&quot; style=&quot;width: 100.0%; height: 100.0%;&quot;&gt;Niger&lt;/div&gt;`)[0];\n",
       "                popup_eec853cd2722d0ebbcafcd6978c0d4b3.setContent(html_0c318cd910c88b8dd369943bda81bb2f);\n",
       "            \n",
       "        \n",
       "\n",
       "        circle_marker_6f0e6ec52442eac1e234ac1bac72440e.bindPopup(popup_eec853cd2722d0ebbcafcd6978c0d4b3)\n",
       "        ;\n",
       "\n",
       "        \n",
       "    \n",
       "    \n",
       "            var circle_marker_eedc83d92f26fc9b1663c72bdc393c39 = L.circleMarker(\n",
       "                [10.0, 8.0],\n",
       "                {&quot;bubblingMouseEvents&quot;: true, &quot;color&quot;: &quot;blue&quot;, &quot;dashArray&quot;: null, &quot;dashOffset&quot;: null, &quot;fill&quot;: true, &quot;fillColor&quot;: &quot;blue&quot;, &quot;fillOpacity&quot;: 0.2, &quot;fillRule&quot;: &quot;evenodd&quot;, &quot;lineCap&quot;: &quot;round&quot;, &quot;lineJoin&quot;: &quot;round&quot;, &quot;opacity&quot;: 1.0, &quot;radius&quot;: 55.942899974084014, &quot;stroke&quot;: true, &quot;weight&quot;: 3}\n",
       "            ).addTo(map_ea1c77cce835ee54a2729a77063d298c);\n",
       "        \n",
       "    \n",
       "        var popup_46288eea038b663c815bae4d6299cd06 = L.popup({&quot;maxWidth&quot;: &quot;100%&quot;});\n",
       "\n",
       "        \n",
       "            \n",
       "                var html_22901444ca5c221491da65ffcfaef240 = $(`&lt;div id=&quot;html_22901444ca5c221491da65ffcfaef240&quot; style=&quot;width: 100.0%; height: 100.0%;&quot;&gt;Nigeria&lt;/div&gt;`)[0];\n",
       "                popup_46288eea038b663c815bae4d6299cd06.setContent(html_22901444ca5c221491da65ffcfaef240);\n",
       "            \n",
       "        \n",
       "\n",
       "        circle_marker_eedc83d92f26fc9b1663c72bdc393c39.bindPopup(popup_46288eea038b663c815bae4d6299cd06)\n",
       "        ;\n",
       "\n",
       "        \n",
       "    \n",
       "    \n",
       "            var circle_marker_6feb3d1bba46659d3ab29f0843128e72 = L.circleMarker(\n",
       "                [13.0, -85.0],\n",
       "                {&quot;bubblingMouseEvents&quot;: true, &quot;color&quot;: &quot;green&quot;, &quot;dashArray&quot;: null, &quot;dashOffset&quot;: null, &quot;fill&quot;: true, &quot;fillColor&quot;: &quot;green&quot;, &quot;fillOpacity&quot;: 0.2, &quot;fillRule&quot;: &quot;evenodd&quot;, &quot;lineCap&quot;: &quot;round&quot;, &quot;lineJoin&quot;: &quot;round&quot;, &quot;opacity&quot;: 1.0, &quot;radius&quot;: 3.978935000974579, &quot;stroke&quot;: true, &quot;weight&quot;: 3}\n",
       "            ).addTo(map_ea1c77cce835ee54a2729a77063d298c);\n",
       "        \n",
       "    \n",
       "        var popup_6ef5afe2574383ba4d2d5702acea60dd = L.popup({&quot;maxWidth&quot;: &quot;100%&quot;});\n",
       "\n",
       "        \n",
       "            \n",
       "                var html_d7bba4225489b156a256da161aee831f = $(`&lt;div id=&quot;html_d7bba4225489b156a256da161aee831f&quot; style=&quot;width: 100.0%; height: 100.0%;&quot;&gt;Nicaragua&lt;/div&gt;`)[0];\n",
       "                popup_6ef5afe2574383ba4d2d5702acea60dd.setContent(html_d7bba4225489b156a256da161aee831f);\n",
       "            \n",
       "        \n",
       "\n",
       "        circle_marker_6feb3d1bba46659d3ab29f0843128e72.bindPopup(popup_6ef5afe2574383ba4d2d5702acea60dd)\n",
       "        ;\n",
       "\n",
       "        \n",
       "    \n",
       "    \n",
       "            var circle_marker_6972b3baa1109e1207323aac3f55d0d5 = L.circleMarker(\n",
       "                [52.25, 5.75],\n",
       "                {&quot;bubblingMouseEvents&quot;: true, &quot;color&quot;: &quot;black&quot;, &quot;dashArray&quot;: null, &quot;dashOffset&quot;: null, &quot;fill&quot;: true, &quot;fillColor&quot;: &quot;black&quot;, &quot;fillOpacity&quot;: 0.2, &quot;fillRule&quot;: &quot;evenodd&quot;, &quot;lineCap&quot;: &quot;round&quot;, &quot;lineJoin&quot;: &quot;round&quot;, &quot;opacity&quot;: 1.0, &quot;radius&quot;: 1.3633118528436077, &quot;stroke&quot;: true, &quot;weight&quot;: 3}\n",
       "            ).addTo(map_ea1c77cce835ee54a2729a77063d298c);\n",
       "        \n",
       "    \n",
       "        var popup_d98848d243ab68a2ada4dbdfc273d26c = L.popup({&quot;maxWidth&quot;: &quot;100%&quot;});\n",
       "\n",
       "        \n",
       "            \n",
       "                var html_20e294361905bb491322f4833923bf6c = $(`&lt;div id=&quot;html_20e294361905bb491322f4833923bf6c&quot; style=&quot;width: 100.0%; height: 100.0%;&quot;&gt;Netherlands&lt;/div&gt;`)[0];\n",
       "                popup_d98848d243ab68a2ada4dbdfc273d26c.setContent(html_20e294361905bb491322f4833923bf6c);\n",
       "            \n",
       "        \n",
       "\n",
       "        circle_marker_6972b3baa1109e1207323aac3f55d0d5.bindPopup(popup_d98848d243ab68a2ada4dbdfc273d26c)\n",
       "        ;\n",
       "\n",
       "        \n",
       "    \n",
       "    \n",
       "            var circle_marker_b73c63a1d1ae4e50d7fd98744d607381 = L.circleMarker(\n",
       "                [62.0, 10.0],\n",
       "                {&quot;bubblingMouseEvents&quot;: true, &quot;color&quot;: &quot;black&quot;, &quot;dashArray&quot;: null, &quot;dashOffset&quot;: null, &quot;fill&quot;: true, &quot;fillColor&quot;: &quot;black&quot;, &quot;fillOpacity&quot;: 0.2, &quot;fillRule&quot;: &quot;evenodd&quot;, &quot;lineCap&quot;: &quot;round&quot;, &quot;lineJoin&quot;: &quot;round&quot;, &quot;opacity&quot;: 1.0, &quot;radius&quot;: 1.020783812057619, &quot;stroke&quot;: true, &quot;weight&quot;: 3}\n",
       "            ).addTo(map_ea1c77cce835ee54a2729a77063d298c);\n",
       "        \n",
       "    \n",
       "        var popup_77ba1a92132839fedee941aabdbe3b64 = L.popup({&quot;maxWidth&quot;: &quot;100%&quot;});\n",
       "\n",
       "        \n",
       "            \n",
       "                var html_73867f0777daa772bcb3b4a717321195 = $(`&lt;div id=&quot;html_73867f0777daa772bcb3b4a717321195&quot; style=&quot;width: 100.0%; height: 100.0%;&quot;&gt;Norway&lt;/div&gt;`)[0];\n",
       "                popup_77ba1a92132839fedee941aabdbe3b64.setContent(html_73867f0777daa772bcb3b4a717321195);\n",
       "            \n",
       "        \n",
       "\n",
       "        circle_marker_b73c63a1d1ae4e50d7fd98744d607381.bindPopup(popup_77ba1a92132839fedee941aabdbe3b64)\n",
       "        ;\n",
       "\n",
       "        \n",
       "    \n",
       "    \n",
       "            var circle_marker_3528faf14371eb711f48e0983f9ffa73 = L.circleMarker(\n",
       "                [28.0, 84.0],\n",
       "                {&quot;bubblingMouseEvents&quot;: true, &quot;color&quot;: &quot;red&quot;, &quot;dashArray&quot;: null, &quot;dashOffset&quot;: null, &quot;fill&quot;: true, &quot;fillColor&quot;: &quot;red&quot;, &quot;fillOpacity&quot;: 0.2, &quot;fillRule&quot;: &quot;evenodd&quot;, &quot;lineCap&quot;: &quot;round&quot;, &quot;lineJoin&quot;: &quot;round&quot;, &quot;opacity&quot;: 1.0, &quot;radius&quot;: 14.287409557902253, &quot;stroke&quot;: true, &quot;weight&quot;: 3}\n",
       "            ).addTo(map_ea1c77cce835ee54a2729a77063d298c);\n",
       "        \n",
       "    \n",
       "        var popup_7b060c9bf23c2ca43c7d732eff433159 = L.popup({&quot;maxWidth&quot;: &quot;100%&quot;});\n",
       "\n",
       "        \n",
       "            \n",
       "                var html_1d569019bc21b112e53cce49f54d645c = $(`&lt;div id=&quot;html_1d569019bc21b112e53cce49f54d645c&quot; style=&quot;width: 100.0%; height: 100.0%;&quot;&gt;Nepal&lt;/div&gt;`)[0];\n",
       "                popup_7b060c9bf23c2ca43c7d732eff433159.setContent(html_1d569019bc21b112e53cce49f54d645c);\n",
       "            \n",
       "        \n",
       "\n",
       "        circle_marker_3528faf14371eb711f48e0983f9ffa73.bindPopup(popup_7b060c9bf23c2ca43c7d732eff433159)\n",
       "        ;\n",
       "\n",
       "        \n",
       "    \n",
       "    \n",
       "            var circle_marker_99d046f23d560c7719c1bb05c5e5ab92 = L.circleMarker(\n",
       "                [30.0, 70.0],\n",
       "                {&quot;bubblingMouseEvents&quot;: true, &quot;color&quot;: &quot;red&quot;, &quot;dashArray&quot;: null, &quot;dashOffset&quot;: null, &quot;fill&quot;: true, &quot;fillColor&quot;: &quot;red&quot;, &quot;fillOpacity&quot;: 0.2, &quot;fillRule&quot;: &quot;evenodd&quot;, &quot;lineCap&quot;: &quot;round&quot;, &quot;lineJoin&quot;: &quot;round&quot;, &quot;opacity&quot;: 1.0, &quot;radius&quot;: 26.974339736030082, &quot;stroke&quot;: true, &quot;weight&quot;: 3}\n",
       "            ).addTo(map_ea1c77cce835ee54a2729a77063d298c);\n",
       "        \n",
       "    \n",
       "        var popup_05696cbdea8434bebebb5fa9341121b1 = L.popup({&quot;maxWidth&quot;: &quot;100%&quot;});\n",
       "\n",
       "        \n",
       "            \n",
       "                var html_728806e689b7d4fd7448ba3a060b6104 = $(`&lt;div id=&quot;html_728806e689b7d4fd7448ba3a060b6104&quot; style=&quot;width: 100.0%; height: 100.0%;&quot;&gt;Pakistan&lt;/div&gt;`)[0];\n",
       "                popup_05696cbdea8434bebebb5fa9341121b1.setContent(html_728806e689b7d4fd7448ba3a060b6104);\n",
       "            \n",
       "        \n",
       "\n",
       "        circle_marker_99d046f23d560c7719c1bb05c5e5ab92.bindPopup(popup_05696cbdea8434bebebb5fa9341121b1)\n",
       "        ;\n",
       "\n",
       "        \n",
       "    \n",
       "    \n",
       "            var circle_marker_d35da3d29aef1a3ed1a3c776df4dd760 = L.circleMarker(\n",
       "                [8.9936, -79.51973],\n",
       "                {&quot;bubblingMouseEvents&quot;: true, &quot;color&quot;: &quot;green&quot;, &quot;dashArray&quot;: null, &quot;dashOffset&quot;: null, &quot;fill&quot;: true, &quot;fillColor&quot;: &quot;green&quot;, &quot;fillOpacity&quot;: 0.2, &quot;fillRule&quot;: &quot;evenodd&quot;, &quot;lineCap&quot;: &quot;round&quot;, &quot;lineJoin&quot;: &quot;round&quot;, &quot;opacity&quot;: 1.0, &quot;radius&quot;: 2.150912175072415, &quot;stroke&quot;: true, &quot;weight&quot;: 3}\n",
       "            ).addTo(map_ea1c77cce835ee54a2729a77063d298c);\n",
       "        \n",
       "    \n",
       "        var popup_556df917c78d979d504ef4e0dbf393c9 = L.popup({&quot;maxWidth&quot;: &quot;100%&quot;});\n",
       "\n",
       "        \n",
       "            \n",
       "                var html_350e1cadf4ace232bb529b1246a388e5 = $(`&lt;div id=&quot;html_350e1cadf4ace232bb529b1246a388e5&quot; style=&quot;width: 100.0%; height: 100.0%;&quot;&gt;Panama&lt;/div&gt;`)[0];\n",
       "                popup_556df917c78d979d504ef4e0dbf393c9.setContent(html_350e1cadf4ace232bb529b1246a388e5);\n",
       "            \n",
       "        \n",
       "\n",
       "        circle_marker_d35da3d29aef1a3ed1a3c776df4dd760.bindPopup(popup_556df917c78d979d504ef4e0dbf393c9)\n",
       "        ;\n",
       "\n",
       "        \n",
       "    \n",
       "    \n",
       "            var circle_marker_95d7b7662f3f3c32c1b924258daba43e = L.circleMarker(\n",
       "                [-10.0, -75.25],\n",
       "                {&quot;bubblingMouseEvents&quot;: true, &quot;color&quot;: &quot;green&quot;, &quot;dashArray&quot;: null, &quot;dashOffset&quot;: null, &quot;fill&quot;: true, &quot;fillColor&quot;: &quot;green&quot;, &quot;fillOpacity&quot;: 0.2, &quot;fillRule&quot;: &quot;evenodd&quot;, &quot;lineCap&quot;: &quot;round&quot;, &quot;lineJoin&quot;: &quot;round&quot;, &quot;opacity&quot;: 1.0, &quot;radius&quot;: 5.167495991684053, &quot;stroke&quot;: true, &quot;weight&quot;: 3}\n",
       "            ).addTo(map_ea1c77cce835ee54a2729a77063d298c);\n",
       "        \n",
       "    \n",
       "        var popup_5e3be6cfe090c7705c395a2ba230422c = L.popup({&quot;maxWidth&quot;: &quot;100%&quot;});\n",
       "\n",
       "        \n",
       "            \n",
       "                var html_041c32f66d881197310c2385c8cafd5e = $(`&lt;div id=&quot;html_041c32f66d881197310c2385c8cafd5e&quot; style=&quot;width: 100.0%; height: 100.0%;&quot;&gt;Peru&lt;/div&gt;`)[0];\n",
       "                popup_5e3be6cfe090c7705c395a2ba230422c.setContent(html_041c32f66d881197310c2385c8cafd5e);\n",
       "            \n",
       "        \n",
       "\n",
       "        circle_marker_95d7b7662f3f3c32c1b924258daba43e.bindPopup(popup_5e3be6cfe090c7705c395a2ba230422c)\n",
       "        ;\n",
       "\n",
       "        \n",
       "    \n",
       "    \n",
       "            var circle_marker_a3bddc6fe275d06fe16229ed9c7054c5 = L.circleMarker(\n",
       "                [13.0, 122.0],\n",
       "                {&quot;bubblingMouseEvents&quot;: true, &quot;color&quot;: &quot;red&quot;, &quot;dashArray&quot;: null, &quot;dashOffset&quot;: null, &quot;fill&quot;: true, &quot;fillColor&quot;: &quot;red&quot;, &quot;fillOpacity&quot;: 0.2, &quot;fillRule&quot;: &quot;evenodd&quot;, &quot;lineCap&quot;: &quot;round&quot;, &quot;lineJoin&quot;: &quot;round&quot;, &quot;opacity&quot;: 1.0, &quot;radius&quot;: 23.81394859801785, &quot;stroke&quot;: true, &quot;weight&quot;: 3}\n",
       "            ).addTo(map_ea1c77cce835ee54a2729a77063d298c);\n",
       "        \n",
       "    \n",
       "        var popup_4352dcbab752240b5959eca1d383ba6c = L.popup({&quot;maxWidth&quot;: &quot;100%&quot;});\n",
       "\n",
       "        \n",
       "            \n",
       "                var html_2ccb1d0101d0fefceca55aad8a588ba3 = $(`&lt;div id=&quot;html_2ccb1d0101d0fefceca55aad8a588ba3&quot; style=&quot;width: 100.0%; height: 100.0%;&quot;&gt;Philippines&lt;/div&gt;`)[0];\n",
       "                popup_4352dcbab752240b5959eca1d383ba6c.setContent(html_2ccb1d0101d0fefceca55aad8a588ba3);\n",
       "            \n",
       "        \n",
       "\n",
       "        circle_marker_a3bddc6fe275d06fe16229ed9c7054c5.bindPopup(popup_4352dcbab752240b5959eca1d383ba6c)\n",
       "        ;\n",
       "\n",
       "        \n",
       "    \n",
       "    \n",
       "            var circle_marker_dd6e52b6eb2fd116377015ae504c3129 = L.circleMarker(\n",
       "                [-6.0, 147.0],\n",
       "                {&quot;bubblingMouseEvents&quot;: true, &quot;color&quot;: &quot;red&quot;, &quot;dashArray&quot;: null, &quot;dashOffset&quot;: null, &quot;fill&quot;: true, &quot;fillColor&quot;: &quot;red&quot;, &quot;fillOpacity&quot;: 0.2, &quot;fillRule&quot;: &quot;evenodd&quot;, &quot;lineCap&quot;: &quot;round&quot;, &quot;lineJoin&quot;: &quot;round&quot;, &quot;opacity&quot;: 1.0, &quot;radius&quot;: 9.12598624834537, &quot;stroke&quot;: true, &quot;weight&quot;: 3}\n",
       "            ).addTo(map_ea1c77cce835ee54a2729a77063d298c);\n",
       "        \n",
       "    \n",
       "        var popup_47b5037364e508d14e07fc2356709320 = L.popup({&quot;maxWidth&quot;: &quot;100%&quot;});\n",
       "\n",
       "        \n",
       "            \n",
       "                var html_92948f5c9f1658ba12f8e40085011d89 = $(`&lt;div id=&quot;html_92948f5c9f1658ba12f8e40085011d89&quot; style=&quot;width: 100.0%; height: 100.0%;&quot;&gt;Papua New Guinea&lt;/div&gt;`)[0];\n",
       "                popup_47b5037364e508d14e07fc2356709320.setContent(html_92948f5c9f1658ba12f8e40085011d89);\n",
       "            \n",
       "        \n",
       "\n",
       "        circle_marker_dd6e52b6eb2fd116377015ae504c3129.bindPopup(popup_47b5037364e508d14e07fc2356709320)\n",
       "        ;\n",
       "\n",
       "        \n",
       "    \n",
       "    \n",
       "            var circle_marker_7a545158144783f9fa71b8aa1429a29b = L.circleMarker(\n",
       "                [52.0, 20.0],\n",
       "                {&quot;bubblingMouseEvents&quot;: true, &quot;color&quot;: &quot;black&quot;, &quot;dashArray&quot;: null, &quot;dashOffset&quot;: null, &quot;fill&quot;: true, &quot;fillColor&quot;: &quot;black&quot;, &quot;fillOpacity&quot;: 0.2, &quot;fillRule&quot;: &quot;evenodd&quot;, &quot;lineCap&quot;: &quot;round&quot;, &quot;lineJoin&quot;: &quot;round&quot;, &quot;opacity&quot;: 1.0, &quot;radius&quot;: 0.3492957082829573, &quot;stroke&quot;: true, &quot;weight&quot;: 3}\n",
       "            ).addTo(map_ea1c77cce835ee54a2729a77063d298c);\n",
       "        \n",
       "    \n",
       "        var popup_01fca404dadffef91bf4f1ad9dbda976 = L.popup({&quot;maxWidth&quot;: &quot;100%&quot;});\n",
       "\n",
       "        \n",
       "            \n",
       "                var html_d82985896cf7d667f0aa16c0c0dc5316 = $(`&lt;div id=&quot;html_d82985896cf7d667f0aa16c0c0dc5316&quot; style=&quot;width: 100.0%; height: 100.0%;&quot;&gt;Poland&lt;/div&gt;`)[0];\n",
       "                popup_01fca404dadffef91bf4f1ad9dbda976.setContent(html_d82985896cf7d667f0aa16c0c0dc5316);\n",
       "            \n",
       "        \n",
       "\n",
       "        circle_marker_7a545158144783f9fa71b8aa1429a29b.bindPopup(popup_01fca404dadffef91bf4f1ad9dbda976)\n",
       "        ;\n",
       "\n",
       "        \n",
       "    \n",
       "    \n",
       "            var circle_marker_ba37d84c6aa941bcc8c46a49202a004b = L.circleMarker(\n",
       "                [-23.33333, -58.0],\n",
       "                {&quot;bubblingMouseEvents&quot;: true, &quot;color&quot;: &quot;green&quot;, &quot;dashArray&quot;: null, &quot;dashOffset&quot;: null, &quot;fill&quot;: true, &quot;fillColor&quot;: &quot;green&quot;, &quot;fillOpacity&quot;: 0.2, &quot;fillRule&quot;: &quot;evenodd&quot;, &quot;lineCap&quot;: &quot;round&quot;, &quot;lineJoin&quot;: &quot;round&quot;, &quot;opacity&quot;: 1.0, &quot;radius&quot;: 2.454807713006764, &quot;stroke&quot;: true, &quot;weight&quot;: 3}\n",
       "            ).addTo(map_ea1c77cce835ee54a2729a77063d298c);\n",
       "        \n",
       "    \n",
       "        var popup_493e0916b68b63a63da9a4a0609f0261 = L.popup({&quot;maxWidth&quot;: &quot;100%&quot;});\n",
       "\n",
       "        \n",
       "            \n",
       "                var html_b0eeb17868f22bf95e68456b251afbde = $(`&lt;div id=&quot;html_b0eeb17868f22bf95e68456b251afbde&quot; style=&quot;width: 100.0%; height: 100.0%;&quot;&gt;Paraguay&lt;/div&gt;`)[0];\n",
       "                popup_493e0916b68b63a63da9a4a0609f0261.setContent(html_b0eeb17868f22bf95e68456b251afbde);\n",
       "            \n",
       "        \n",
       "\n",
       "        circle_marker_ba37d84c6aa941bcc8c46a49202a004b.bindPopup(popup_493e0916b68b63a63da9a4a0609f0261)\n",
       "        ;\n",
       "\n",
       "        \n",
       "    \n",
       "    \n",
       "            var circle_marker_298f438e932d8d9b7dfb76633d753b9f = L.circleMarker(\n",
       "                [31.92157, 35.20329],\n",
       "                {&quot;bubblingMouseEvents&quot;: true, &quot;color&quot;: &quot;red&quot;, &quot;dashArray&quot;: null, &quot;dashOffset&quot;: null, &quot;fill&quot;: true, &quot;fillColor&quot;: &quot;red&quot;, &quot;fillOpacity&quot;: 0.2, &quot;fillRule&quot;: &quot;evenodd&quot;, &quot;lineCap&quot;: &quot;round&quot;, &quot;lineJoin&quot;: &quot;round&quot;, &quot;opacity&quot;: 1.0, &quot;radius&quot;: 0.3213655563775732, &quot;stroke&quot;: true, &quot;weight&quot;: 3}\n",
       "            ).addTo(map_ea1c77cce835ee54a2729a77063d298c);\n",
       "        \n",
       "    \n",
       "        var popup_36781d4cfc13d1a27e8d6ff593a79011 = L.popup({&quot;maxWidth&quot;: &quot;100%&quot;});\n",
       "\n",
       "        \n",
       "            \n",
       "                var html_2624bbbe262f0e7cc77911ded128340a = $(`&lt;div id=&quot;html_2624bbbe262f0e7cc77911ded128340a&quot; style=&quot;width: 100.0%; height: 100.0%;&quot;&gt;Palestine&lt;/div&gt;`)[0];\n",
       "                popup_36781d4cfc13d1a27e8d6ff593a79011.setContent(html_2624bbbe262f0e7cc77911ded128340a);\n",
       "            \n",
       "        \n",
       "\n",
       "        circle_marker_298f438e932d8d9b7dfb76633d753b9f.bindPopup(popup_36781d4cfc13d1a27e8d6ff593a79011)\n",
       "        ;\n",
       "\n",
       "        \n",
       "    \n",
       "    \n",
       "            var circle_marker_49f79e735140ecdee0d1ac281264481b = L.circleMarker(\n",
       "                [46.0, 25.0],\n",
       "                {&quot;bubblingMouseEvents&quot;: true, &quot;color&quot;: &quot;black&quot;, &quot;dashArray&quot;: null, &quot;dashOffset&quot;: null, &quot;fill&quot;: true, &quot;fillColor&quot;: &quot;black&quot;, &quot;fillOpacity&quot;: 0.2, &quot;fillRule&quot;: &quot;evenodd&quot;, &quot;lineCap&quot;: &quot;round&quot;, &quot;lineJoin&quot;: &quot;round&quot;, &quot;opacity&quot;: 1.0, &quot;radius&quot;: 3.1985529258894063, &quot;stroke&quot;: true, &quot;weight&quot;: 3}\n",
       "            ).addTo(map_ea1c77cce835ee54a2729a77063d298c);\n",
       "        \n",
       "    \n",
       "        var popup_fced89fd60135d7ab942bcee78aeb256 = L.popup({&quot;maxWidth&quot;: &quot;100%&quot;});\n",
       "\n",
       "        \n",
       "            \n",
       "                var html_6538e7d08cdc1f2a928d6c0b8e0d9246 = $(`&lt;div id=&quot;html_6538e7d08cdc1f2a928d6c0b8e0d9246&quot; style=&quot;width: 100.0%; height: 100.0%;&quot;&gt;Romania&lt;/div&gt;`)[0];\n",
       "                popup_fced89fd60135d7ab942bcee78aeb256.setContent(html_6538e7d08cdc1f2a928d6c0b8e0d9246);\n",
       "            \n",
       "        \n",
       "\n",
       "        circle_marker_49f79e735140ecdee0d1ac281264481b.bindPopup(popup_fced89fd60135d7ab942bcee78aeb256)\n",
       "        ;\n",
       "\n",
       "        \n",
       "    \n",
       "    \n",
       "            var circle_marker_7e430bf306281c0287bdc1e57ad3543f = L.circleMarker(\n",
       "                [60.0, 100.0],\n",
       "                {&quot;bubblingMouseEvents&quot;: true, &quot;color&quot;: &quot;black&quot;, &quot;dashArray&quot;: null, &quot;dashOffset&quot;: null, &quot;fill&quot;: true, &quot;fillColor&quot;: &quot;black&quot;, &quot;fillOpacity&quot;: 0.2, &quot;fillRule&quot;: &quot;evenodd&quot;, &quot;lineCap&quot;: &quot;round&quot;, &quot;lineJoin&quot;: &quot;round&quot;, &quot;opacity&quot;: 1.0, &quot;radius&quot;: 1.1705238706454861, &quot;stroke&quot;: true, &quot;weight&quot;: 3}\n",
       "            ).addTo(map_ea1c77cce835ee54a2729a77063d298c);\n",
       "        \n",
       "    \n",
       "        var popup_5ce9c4b2d0663070fcef3354c86cea18 = L.popup({&quot;maxWidth&quot;: &quot;100%&quot;});\n",
       "\n",
       "        \n",
       "            \n",
       "                var html_a61991be7c035289857bcc8deeb5d9ca = $(`&lt;div id=&quot;html_a61991be7c035289857bcc8deeb5d9ca&quot; style=&quot;width: 100.0%; height: 100.0%;&quot;&gt;Russia&lt;/div&gt;`)[0];\n",
       "                popup_5ce9c4b2d0663070fcef3354c86cea18.setContent(html_a61991be7c035289857bcc8deeb5d9ca);\n",
       "            \n",
       "        \n",
       "\n",
       "        circle_marker_7e430bf306281c0287bdc1e57ad3543f.bindPopup(popup_5ce9c4b2d0663070fcef3354c86cea18)\n",
       "        ;\n",
       "\n",
       "        \n",
       "    \n",
       "    \n",
       "            var circle_marker_a4de1e47535327454465f5f355f0dd33 = L.circleMarker(\n",
       "                [-2.0, 30.0],\n",
       "                {&quot;bubblingMouseEvents&quot;: true, &quot;color&quot;: &quot;blue&quot;, &quot;dashArray&quot;: null, &quot;dashOffset&quot;: null, &quot;fill&quot;: true, &quot;fillColor&quot;: &quot;blue&quot;, &quot;fillOpacity&quot;: 0.2, &quot;fillRule&quot;: &quot;evenodd&quot;, &quot;lineCap&quot;: &quot;round&quot;, &quot;lineJoin&quot;: &quot;round&quot;, &quot;opacity&quot;: 1.0, &quot;radius&quot;: 14.19112420450124, &quot;stroke&quot;: true, &quot;weight&quot;: 3}\n",
       "            ).addTo(map_ea1c77cce835ee54a2729a77063d298c);\n",
       "        \n",
       "    \n",
       "        var popup_9d6c7e9e31d4b2c43a80afd328d95720 = L.popup({&quot;maxWidth&quot;: &quot;100%&quot;});\n",
       "\n",
       "        \n",
       "            \n",
       "                var html_a13f216c856e2296593f6c76516d539f = $(`&lt;div id=&quot;html_a13f216c856e2296593f6c76516d539f&quot; style=&quot;width: 100.0%; height: 100.0%;&quot;&gt;Rwanda&lt;/div&gt;`)[0];\n",
       "                popup_9d6c7e9e31d4b2c43a80afd328d95720.setContent(html_a13f216c856e2296593f6c76516d539f);\n",
       "            \n",
       "        \n",
       "\n",
       "        circle_marker_a4de1e47535327454465f5f355f0dd33.bindPopup(popup_9d6c7e9e31d4b2c43a80afd328d95720)\n",
       "        ;\n",
       "\n",
       "        \n",
       "    \n",
       "    \n",
       "            var circle_marker_991e175ebac7c76cdd2f696e0b9c963c = L.circleMarker(\n",
       "                [16.0, 30.0],\n",
       "                {&quot;bubblingMouseEvents&quot;: true, &quot;color&quot;: &quot;blue&quot;, &quot;dashArray&quot;: null, &quot;dashOffset&quot;: null, &quot;fill&quot;: true, &quot;fillColor&quot;: &quot;blue&quot;, &quot;fillOpacity&quot;: 0.2, &quot;fillRule&quot;: &quot;evenodd&quot;, &quot;lineCap&quot;: &quot;round&quot;, &quot;lineJoin&quot;: &quot;round&quot;, &quot;opacity&quot;: 1.0, &quot;radius&quot;: 14.755378192246976, &quot;stroke&quot;: true, &quot;weight&quot;: 3}\n",
       "            ).addTo(map_ea1c77cce835ee54a2729a77063d298c);\n",
       "        \n",
       "    \n",
       "        var popup_6b561539023d3abd8a0f1bd1d8646d8e = L.popup({&quot;maxWidth&quot;: &quot;100%&quot;});\n",
       "\n",
       "        \n",
       "            \n",
       "                var html_9bd7e28119ce0206af53c05a7224120e = $(`&lt;div id=&quot;html_9bd7e28119ce0206af53c05a7224120e&quot; style=&quot;width: 100.0%; height: 100.0%;&quot;&gt;Sudan&lt;/div&gt;`)[0];\n",
       "                popup_6b561539023d3abd8a0f1bd1d8646d8e.setContent(html_9bd7e28119ce0206af53c05a7224120e);\n",
       "            \n",
       "        \n",
       "\n",
       "        circle_marker_991e175ebac7c76cdd2f696e0b9c963c.bindPopup(popup_6b561539023d3abd8a0f1bd1d8646d8e)\n",
       "        ;\n",
       "\n",
       "        \n",
       "    \n",
       "    \n",
       "            var circle_marker_cbc81bd46ebf595a3838464e0a4d09e8 = L.circleMarker(\n",
       "                [14.5, -14.25],\n",
       "                {&quot;bubblingMouseEvents&quot;: true, &quot;color&quot;: &quot;blue&quot;, &quot;dashArray&quot;: null, &quot;dashOffset&quot;: null, &quot;fill&quot;: true, &quot;fillColor&quot;: &quot;blue&quot;, &quot;fillOpacity&quot;: 0.2, &quot;fillRule&quot;: &quot;evenodd&quot;, &quot;lineCap&quot;: &quot;round&quot;, &quot;lineJoin&quot;: &quot;round&quot;, &quot;opacity&quot;: 1.0, &quot;radius&quot;: 11.723983767358392, &quot;stroke&quot;: true, &quot;weight&quot;: 3}\n",
       "            ).addTo(map_ea1c77cce835ee54a2729a77063d298c);\n",
       "        \n",
       "    \n",
       "        var popup_0ef641ea5d4bf3c0ddfa73adcdf23f9e = L.popup({&quot;maxWidth&quot;: &quot;100%&quot;});\n",
       "\n",
       "        \n",
       "            \n",
       "                var html_ef7b71d6cbe4663704403e1c37e6f734 = $(`&lt;div id=&quot;html_ef7b71d6cbe4663704403e1c37e6f734&quot; style=&quot;width: 100.0%; height: 100.0%;&quot;&gt;Senegal&lt;/div&gt;`)[0];\n",
       "                popup_0ef641ea5d4bf3c0ddfa73adcdf23f9e.setContent(html_ef7b71d6cbe4663704403e1c37e6f734);\n",
       "            \n",
       "        \n",
       "\n",
       "        circle_marker_cbc81bd46ebf595a3838464e0a4d09e8.bindPopup(popup_0ef641ea5d4bf3c0ddfa73adcdf23f9e)\n",
       "        ;\n",
       "\n",
       "        \n",
       "    \n",
       "    \n",
       "            var circle_marker_6cc4d48c7da9dea8cea6114a1c7e090c = L.circleMarker(\n",
       "                [8.5, -11.5],\n",
       "                {&quot;bubblingMouseEvents&quot;: true, &quot;color&quot;: &quot;blue&quot;, &quot;dashArray&quot;: null, &quot;dashOffset&quot;: null, &quot;fill&quot;: true, &quot;fillColor&quot;: &quot;blue&quot;, &quot;fillOpacity&quot;: 0.2, &quot;fillRule&quot;: &quot;evenodd&quot;, &quot;lineCap&quot;: &quot;round&quot;, &quot;lineJoin&quot;: &quot;round&quot;, &quot;opacity&quot;: 1.0, &quot;radius&quot;: 10.753954689670865, &quot;stroke&quot;: true, &quot;weight&quot;: 3}\n",
       "            ).addTo(map_ea1c77cce835ee54a2729a77063d298c);\n",
       "        \n",
       "    \n",
       "        var popup_b791529444b34be59394472d4a0c3767 = L.popup({&quot;maxWidth&quot;: &quot;100%&quot;});\n",
       "\n",
       "        \n",
       "            \n",
       "                var html_e8c96361389abaf8a4eb81e85f7479a5 = $(`&lt;div id=&quot;html_e8c96361389abaf8a4eb81e85f7479a5&quot; style=&quot;width: 100.0%; height: 100.0%;&quot;&gt;Sierra Leone&lt;/div&gt;`)[0];\n",
       "                popup_b791529444b34be59394472d4a0c3767.setContent(html_e8c96361389abaf8a4eb81e85f7479a5);\n",
       "            \n",
       "        \n",
       "\n",
       "        circle_marker_6cc4d48c7da9dea8cea6114a1c7e090c.bindPopup(popup_b791529444b34be59394472d4a0c3767)\n",
       "        ;\n",
       "\n",
       "        \n",
       "    \n",
       "    \n",
       "            var circle_marker_bc1911a1aa08b1d437bb53ed0ea1bcbb = L.circleMarker(\n",
       "                [13.83333, -88.91667],\n",
       "                {&quot;bubblingMouseEvents&quot;: true, &quot;color&quot;: &quot;green&quot;, &quot;dashArray&quot;: null, &quot;dashOffset&quot;: null, &quot;fill&quot;: true, &quot;fillColor&quot;: &quot;green&quot;, &quot;fillOpacity&quot;: 0.2, &quot;fillRule&quot;: &quot;evenodd&quot;, &quot;lineCap&quot;: &quot;round&quot;, &quot;lineJoin&quot;: &quot;round&quot;, &quot;opacity&quot;: 1.0, &quot;radius&quot;: 2.2315968801808133, &quot;stroke&quot;: true, &quot;weight&quot;: 3}\n",
       "            ).addTo(map_ea1c77cce835ee54a2729a77063d298c);\n",
       "        \n",
       "    \n",
       "        var popup_40704357b02837ffaf23ac31c4f78c1c = L.popup({&quot;maxWidth&quot;: &quot;100%&quot;});\n",
       "\n",
       "        \n",
       "            \n",
       "                var html_5ddf393309a4b23db262ee5d7d0a2d6e = $(`&lt;div id=&quot;html_5ddf393309a4b23db262ee5d7d0a2d6e&quot; style=&quot;width: 100.0%; height: 100.0%;&quot;&gt;El Salvador&lt;/div&gt;`)[0];\n",
       "                popup_40704357b02837ffaf23ac31c4f78c1c.setContent(html_5ddf393309a4b23db262ee5d7d0a2d6e);\n",
       "            \n",
       "        \n",
       "\n",
       "        circle_marker_bc1911a1aa08b1d437bb53ed0ea1bcbb.bindPopup(popup_40704357b02837ffaf23ac31c4f78c1c)\n",
       "        ;\n",
       "\n",
       "        \n",
       "    \n",
       "    \n",
       "            var circle_marker_879520e830d788472b5c34521042902c = L.circleMarker(\n",
       "                [44.81892, 20.45998],\n",
       "                {&quot;bubblingMouseEvents&quot;: true, &quot;color&quot;: &quot;black&quot;, &quot;dashArray&quot;: null, &quot;dashOffset&quot;: null, &quot;fill&quot;: true, &quot;fillColor&quot;: &quot;black&quot;, &quot;fillOpacity&quot;: 0.2, &quot;fillRule&quot;: &quot;evenodd&quot;, &quot;lineCap&quot;: &quot;round&quot;, &quot;lineJoin&quot;: &quot;round&quot;, &quot;opacity&quot;: 1.0, &quot;radius&quot;: 0.3782860234418592, &quot;stroke&quot;: true, &quot;weight&quot;: 3}\n",
       "            ).addTo(map_ea1c77cce835ee54a2729a77063d298c);\n",
       "        \n",
       "    \n",
       "        var popup_b812f26f9c0c9684d74c1b2b99b101e6 = L.popup({&quot;maxWidth&quot;: &quot;100%&quot;});\n",
       "\n",
       "        \n",
       "            \n",
       "                var html_9c567bb736ea99560bed73be404851e3 = $(`&lt;div id=&quot;html_9c567bb736ea99560bed73be404851e3&quot; style=&quot;width: 100.0%; height: 100.0%;&quot;&gt;Serbia&lt;/div&gt;`)[0];\n",
       "                popup_b812f26f9c0c9684d74c1b2b99b101e6.setContent(html_9c567bb736ea99560bed73be404851e3);\n",
       "            \n",
       "        \n",
       "\n",
       "        circle_marker_879520e830d788472b5c34521042902c.bindPopup(popup_b812f26f9c0c9684d74c1b2b99b101e6)\n",
       "        ;\n",
       "\n",
       "        \n",
       "    \n",
       "    \n",
       "            var circle_marker_a22cbc5b31bb67e842ea7e840fe9048c = L.circleMarker(\n",
       "                [1.0, 7.0],\n",
       "                {&quot;bubblingMouseEvents&quot;: true, &quot;color&quot;: &quot;blue&quot;, &quot;dashArray&quot;: null, &quot;dashOffset&quot;: null, &quot;fill&quot;: true, &quot;fillColor&quot;: &quot;blue&quot;, &quot;fillOpacity&quot;: 0.2, &quot;fillRule&quot;: &quot;evenodd&quot;, &quot;lineCap&quot;: &quot;round&quot;, &quot;lineJoin&quot;: &quot;round&quot;, &quot;opacity&quot;: 1.0, &quot;radius&quot;: 1.5808983917763437, &quot;stroke&quot;: true, &quot;weight&quot;: 3}\n",
       "            ).addTo(map_ea1c77cce835ee54a2729a77063d298c);\n",
       "        \n",
       "    \n",
       "        var popup_b14b3cd67b7aa46ca7d3bcb944762d72 = L.popup({&quot;maxWidth&quot;: &quot;100%&quot;});\n",
       "\n",
       "        \n",
       "            \n",
       "                var html_68996b7c331d709bbf88862754b0303a = $(`&lt;div id=&quot;html_68996b7c331d709bbf88862754b0303a&quot; style=&quot;width: 100.0%; height: 100.0%;&quot;&gt;Sao Tome and Principe&lt;/div&gt;`)[0];\n",
       "                popup_b14b3cd67b7aa46ca7d3bcb944762d72.setContent(html_68996b7c331d709bbf88862754b0303a);\n",
       "            \n",
       "        \n",
       "\n",
       "        circle_marker_a22cbc5b31bb67e842ea7e840fe9048c.bindPopup(popup_b14b3cd67b7aa46ca7d3bcb944762d72)\n",
       "        ;\n",
       "\n",
       "        \n",
       "    \n",
       "    \n",
       "            var circle_marker_93bbf3b7c7f1db74a3aa241652bad154 = L.circleMarker(\n",
       "                [4.0, -56.0],\n",
       "                {&quot;bubblingMouseEvents&quot;: true, &quot;color&quot;: &quot;green&quot;, &quot;dashArray&quot;: null, &quot;dashOffset&quot;: null, &quot;fill&quot;: true, &quot;fillColor&quot;: &quot;green&quot;, &quot;fillOpacity&quot;: 0.2, &quot;fillRule&quot;: &quot;evenodd&quot;, &quot;lineCap&quot;: &quot;round&quot;, &quot;lineJoin&quot;: &quot;round&quot;, &quot;opacity&quot;: 1.0, &quot;radius&quot;: 1.6178197094995426, &quot;stroke&quot;: true, &quot;weight&quot;: 3}\n",
       "            ).addTo(map_ea1c77cce835ee54a2729a77063d298c);\n",
       "        \n",
       "    \n",
       "        var popup_6e76c20b1a68d573cf73e6d632ff121a = L.popup({&quot;maxWidth&quot;: &quot;100%&quot;});\n",
       "\n",
       "        \n",
       "            \n",
       "                var html_29e2eea5660e923013227bc21d6d00fe = $(`&lt;div id=&quot;html_29e2eea5660e923013227bc21d6d00fe&quot; style=&quot;width: 100.0%; height: 100.0%;&quot;&gt;Suriname&lt;/div&gt;`)[0];\n",
       "                popup_6e76c20b1a68d573cf73e6d632ff121a.setContent(html_29e2eea5660e923013227bc21d6d00fe);\n",
       "            \n",
       "        \n",
       "\n",
       "        circle_marker_93bbf3b7c7f1db74a3aa241652bad154.bindPopup(popup_6e76c20b1a68d573cf73e6d632ff121a)\n",
       "        ;\n",
       "\n",
       "        \n",
       "    \n",
       "    \n",
       "            var circle_marker_e55c1ec70527abe06bcb2c00470b7012 = L.circleMarker(\n",
       "                [48.66667, 19.5],\n",
       "                {&quot;bubblingMouseEvents&quot;: true, &quot;color&quot;: &quot;black&quot;, &quot;dashArray&quot;: null, &quot;dashOffset&quot;: null, &quot;fill&quot;: true, &quot;fillColor&quot;: &quot;black&quot;, &quot;fillOpacity&quot;: 0.2, &quot;fillRule&quot;: &quot;evenodd&quot;, &quot;lineCap&quot;: &quot;round&quot;, &quot;lineJoin&quot;: &quot;round&quot;, &quot;opacity&quot;: 1.0, &quot;radius&quot;: 0.7183814912149095, &quot;stroke&quot;: true, &quot;weight&quot;: 3}\n",
       "            ).addTo(map_ea1c77cce835ee54a2729a77063d298c);\n",
       "        \n",
       "    \n",
       "        var popup_86d977bf454378a72ab5f262bddfacd4 = L.popup({&quot;maxWidth&quot;: &quot;100%&quot;});\n",
       "\n",
       "        \n",
       "            \n",
       "                var html_2f10450cfa1c8520ad9779782c36c889 = $(`&lt;div id=&quot;html_2f10450cfa1c8520ad9779782c36c889&quot; style=&quot;width: 100.0%; height: 100.0%;&quot;&gt;Slovak Republic&lt;/div&gt;`)[0];\n",
       "                popup_86d977bf454378a72ab5f262bddfacd4.setContent(html_2f10450cfa1c8520ad9779782c36c889);\n",
       "            \n",
       "        \n",
       "\n",
       "        circle_marker_e55c1ec70527abe06bcb2c00470b7012.bindPopup(popup_86d977bf454378a72ab5f262bddfacd4)\n",
       "        ;\n",
       "\n",
       "        \n",
       "    \n",
       "    \n",
       "            var circle_marker_edf1f9b944d06ccebb6cde0b94a382c4 = L.circleMarker(\n",
       "                [46.08333, 15.0],\n",
       "                {&quot;bubblingMouseEvents&quot;: true, &quot;color&quot;: &quot;black&quot;, &quot;dashArray&quot;: null, &quot;dashOffset&quot;: null, &quot;fill&quot;: true, &quot;fillColor&quot;: &quot;black&quot;, &quot;fillOpacity&quot;: 0.2, &quot;fillRule&quot;: &quot;evenodd&quot;, &quot;lineCap&quot;: &quot;round&quot;, &quot;lineJoin&quot;: &quot;round&quot;, &quot;opacity&quot;: 1.0, &quot;radius&quot;: 0.08064825166085389, &quot;stroke&quot;: true, &quot;weight&quot;: 3}\n",
       "            ).addTo(map_ea1c77cce835ee54a2729a77063d298c);\n",
       "        \n",
       "    \n",
       "        var popup_19184209ffbc7a680d6594cd3ee9f97d = L.popup({&quot;maxWidth&quot;: &quot;100%&quot;});\n",
       "\n",
       "        \n",
       "            \n",
       "                var html_e4d2ba5946821c4f69515e43edfec38a = $(`&lt;div id=&quot;html_e4d2ba5946821c4f69515e43edfec38a&quot; style=&quot;width: 100.0%; height: 100.0%;&quot;&gt;Slovenia&lt;/div&gt;`)[0];\n",
       "                popup_19184209ffbc7a680d6594cd3ee9f97d.setContent(html_e4d2ba5946821c4f69515e43edfec38a);\n",
       "            \n",
       "        \n",
       "\n",
       "        circle_marker_edf1f9b944d06ccebb6cde0b94a382c4.bindPopup(popup_19184209ffbc7a680d6594cd3ee9f97d)\n",
       "        ;\n",
       "\n",
       "        \n",
       "    \n",
       "    \n",
       "            var circle_marker_dcc027ec3ea20d674c39e5d47a53ea06 = L.circleMarker(\n",
       "                [62.0, 15.0],\n",
       "                {&quot;bubblingMouseEvents&quot;: true, &quot;color&quot;: &quot;black&quot;, &quot;dashArray&quot;: null, &quot;dashOffset&quot;: null, &quot;fill&quot;: true, &quot;fillColor&quot;: &quot;black&quot;, &quot;fillOpacity&quot;: 0.2, &quot;fillRule&quot;: &quot;evenodd&quot;, &quot;lineCap&quot;: &quot;round&quot;, &quot;lineJoin&quot;: &quot;round&quot;, &quot;opacity&quot;: 1.0, &quot;radius&quot;: 1.0228112885920226, &quot;stroke&quot;: true, &quot;weight&quot;: 3}\n",
       "            ).addTo(map_ea1c77cce835ee54a2729a77063d298c);\n",
       "        \n",
       "    \n",
       "        var popup_08665f7c1523fd5ecc1e0239e3abcd1f = L.popup({&quot;maxWidth&quot;: &quot;100%&quot;});\n",
       "\n",
       "        \n",
       "            \n",
       "                var html_bdcdfeefc267cdc303864be1d150e138 = $(`&lt;div id=&quot;html_bdcdfeefc267cdc303864be1d150e138&quot; style=&quot;width: 100.0%; height: 100.0%;&quot;&gt;Sweden&lt;/div&gt;`)[0];\n",
       "                popup_08665f7c1523fd5ecc1e0239e3abcd1f.setContent(html_bdcdfeefc267cdc303864be1d150e138);\n",
       "            \n",
       "        \n",
       "\n",
       "        circle_marker_dcc027ec3ea20d674c39e5d47a53ea06.bindPopup(popup_08665f7c1523fd5ecc1e0239e3abcd1f)\n",
       "        ;\n",
       "\n",
       "        \n",
       "    \n",
       "    \n",
       "            var circle_marker_b7be42fc1897bfd6794dbe8259fcd3bb = L.circleMarker(\n",
       "                [-26.5, 31.5],\n",
       "                {&quot;bubblingMouseEvents&quot;: true, &quot;color&quot;: &quot;blue&quot;, &quot;dashArray&quot;: null, &quot;dashOffset&quot;: null, &quot;fill&quot;: true, &quot;fillColor&quot;: &quot;blue&quot;, &quot;fillOpacity&quot;: 0.2, &quot;fillRule&quot;: &quot;evenodd&quot;, &quot;lineCap&quot;: &quot;round&quot;, &quot;lineJoin&quot;: &quot;round&quot;, &quot;opacity&quot;: 1.0, &quot;radius&quot;: 3.6497550751103383, &quot;stroke&quot;: true, &quot;weight&quot;: 3}\n",
       "            ).addTo(map_ea1c77cce835ee54a2729a77063d298c);\n",
       "        \n",
       "    \n",
       "        var popup_8090884401d8676284b6040e00b1302e = L.popup({&quot;maxWidth&quot;: &quot;100%&quot;});\n",
       "\n",
       "        \n",
       "            \n",
       "                var html_06bf6bcb0cae258e11486e04d12e6b1a = $(`&lt;div id=&quot;html_06bf6bcb0cae258e11486e04d12e6b1a&quot; style=&quot;width: 100.0%; height: 100.0%;&quot;&gt;Swaziland&lt;/div&gt;`)[0];\n",
       "                popup_8090884401d8676284b6040e00b1302e.setContent(html_06bf6bcb0cae258e11486e04d12e6b1a);\n",
       "            \n",
       "        \n",
       "\n",
       "        circle_marker_b7be42fc1897bfd6794dbe8259fcd3bb.bindPopup(popup_8090884401d8676284b6040e00b1302e)\n",
       "        ;\n",
       "\n",
       "        \n",
       "    \n",
       "    \n",
       "            var circle_marker_71460d13fb4a84c1c4a02bec12b4fa49 = L.circleMarker(\n",
       "                [-4.58333, 55.66667],\n",
       "                {&quot;bubblingMouseEvents&quot;: true, &quot;color&quot;: &quot;blue&quot;, &quot;dashArray&quot;: null, &quot;dashOffset&quot;: null, &quot;fill&quot;: true, &quot;fillColor&quot;: &quot;blue&quot;, &quot;fillOpacity&quot;: 0.2, &quot;fillRule&quot;: &quot;evenodd&quot;, &quot;lineCap&quot;: &quot;round&quot;, &quot;lineJoin&quot;: &quot;round&quot;, &quot;opacity&quot;: 1.0, &quot;radius&quot;: 0.08522484708354297, &quot;stroke&quot;: true, &quot;weight&quot;: 3}\n",
       "            ).addTo(map_ea1c77cce835ee54a2729a77063d298c);\n",
       "        \n",
       "    \n",
       "        var popup_94fe5a4a951aa647714466d14fd68d73 = L.popup({&quot;maxWidth&quot;: &quot;100%&quot;});\n",
       "\n",
       "        \n",
       "            \n",
       "                var html_5c021354837e9e6f0e49b9bee34d1c2a = $(`&lt;div id=&quot;html_5c021354837e9e6f0e49b9bee34d1c2a&quot; style=&quot;width: 100.0%; height: 100.0%;&quot;&gt;Seychelles&lt;/div&gt;`)[0];\n",
       "                popup_94fe5a4a951aa647714466d14fd68d73.setContent(html_5c021354837e9e6f0e49b9bee34d1c2a);\n",
       "            \n",
       "        \n",
       "\n",
       "        circle_marker_71460d13fb4a84c1c4a02bec12b4fa49.bindPopup(popup_94fe5a4a951aa647714466d14fd68d73)\n",
       "        ;\n",
       "\n",
       "        \n",
       "    \n",
       "    \n",
       "            var circle_marker_3b0d47d25d6edc09564b0c15f0f7363c = L.circleMarker(\n",
       "                [35.0, 38.0],\n",
       "                {&quot;bubblingMouseEvents&quot;: true, &quot;color&quot;: &quot;red&quot;, &quot;dashArray&quot;: null, &quot;dashOffset&quot;: null, &quot;fill&quot;: true, &quot;fillColor&quot;: &quot;red&quot;, &quot;fillOpacity&quot;: 0.2, &quot;fillRule&quot;: &quot;evenodd&quot;, &quot;lineCap&quot;: &quot;round&quot;, &quot;lineJoin&quot;: &quot;round&quot;, &quot;opacity&quot;: 1.0, &quot;radius&quot;: 3.409962268158435, &quot;stroke&quot;: true, &quot;weight&quot;: 3}\n",
       "            ).addTo(map_ea1c77cce835ee54a2729a77063d298c);\n",
       "        \n",
       "    \n",
       "        var popup_821332d334812304eb07ea8c295f4c3b = L.popup({&quot;maxWidth&quot;: &quot;100%&quot;});\n",
       "\n",
       "        \n",
       "            \n",
       "                var html_c5cd47a174586c1d53d5a7672402dd62 = $(`&lt;div id=&quot;html_c5cd47a174586c1d53d5a7672402dd62&quot; style=&quot;width: 100.0%; height: 100.0%;&quot;&gt;Syria&lt;/div&gt;`)[0];\n",
       "                popup_821332d334812304eb07ea8c295f4c3b.setContent(html_c5cd47a174586c1d53d5a7672402dd62);\n",
       "            \n",
       "        \n",
       "\n",
       "        circle_marker_3b0d47d25d6edc09564b0c15f0f7363c.bindPopup(popup_821332d334812304eb07ea8c295f4c3b)\n",
       "        ;\n",
       "\n",
       "        \n",
       "    \n",
       "    \n",
       "            var circle_marker_35e753202fbfc107e9bcf11ceae28c32 = L.circleMarker(\n",
       "                [15.0, 19.0],\n",
       "                {&quot;bubblingMouseEvents&quot;: true, &quot;color&quot;: &quot;blue&quot;, &quot;dashArray&quot;: null, &quot;dashOffset&quot;: null, &quot;fill&quot;: true, &quot;fillColor&quot;: &quot;blue&quot;, &quot;fillOpacity&quot;: 0.2, &quot;fillRule&quot;: &quot;evenodd&quot;, &quot;lineCap&quot;: &quot;round&quot;, &quot;lineJoin&quot;: &quot;round&quot;, &quot;opacity&quot;: 1.0, &quot;radius&quot;: 11.787268459224281, &quot;stroke&quot;: true, &quot;weight&quot;: 3}\n",
       "            ).addTo(map_ea1c77cce835ee54a2729a77063d298c);\n",
       "        \n",
       "    \n",
       "        var popup_ab72600f9e5947b2f2f1caa09354d6ba = L.popup({&quot;maxWidth&quot;: &quot;100%&quot;});\n",
       "\n",
       "        \n",
       "            \n",
       "                var html_dff6fbb77720d4b533d2363768c69feb = $(`&lt;div id=&quot;html_dff6fbb77720d4b533d2363768c69feb&quot; style=&quot;width: 100.0%; height: 100.0%;&quot;&gt;Chad&lt;/div&gt;`)[0];\n",
       "                popup_ab72600f9e5947b2f2f1caa09354d6ba.setContent(html_dff6fbb77720d4b533d2363768c69feb);\n",
       "            \n",
       "        \n",
       "\n",
       "        circle_marker_35e753202fbfc107e9bcf11ceae28c32.bindPopup(popup_ab72600f9e5947b2f2f1caa09354d6ba)\n",
       "        ;\n",
       "\n",
       "        \n",
       "    \n",
       "    \n",
       "            var circle_marker_05a8c22bbf365d13377e983f6e10d55a = L.circleMarker(\n",
       "                [8.66667, 1.08333],\n",
       "                {&quot;bubblingMouseEvents&quot;: true, &quot;color&quot;: &quot;blue&quot;, &quot;dashArray&quot;: null, &quot;dashOffset&quot;: null, &quot;fill&quot;: true, &quot;fillColor&quot;: &quot;blue&quot;, &quot;fillOpacity&quot;: 0.2, &quot;fillRule&quot;: &quot;evenodd&quot;, &quot;lineCap&quot;: &quot;round&quot;, &quot;lineJoin&quot;: &quot;round&quot;, &quot;opacity&quot;: 1.0, &quot;radius&quot;: 10.355315471282946, &quot;stroke&quot;: true, &quot;weight&quot;: 3}\n",
       "            ).addTo(map_ea1c77cce835ee54a2729a77063d298c);\n",
       "        \n",
       "    \n",
       "        var popup_4acb0ccc810f157b1b2936453f65a5b6 = L.popup({&quot;maxWidth&quot;: &quot;100%&quot;});\n",
       "\n",
       "        \n",
       "            \n",
       "                var html_6e222a4bf550e8db6ea5833b2e06cb45 = $(`&lt;div id=&quot;html_6e222a4bf550e8db6ea5833b2e06cb45&quot; style=&quot;width: 100.0%; height: 100.0%;&quot;&gt;Togo&lt;/div&gt;`)[0];\n",
       "                popup_4acb0ccc810f157b1b2936453f65a5b6.setContent(html_6e222a4bf550e8db6ea5833b2e06cb45);\n",
       "            \n",
       "        \n",
       "\n",
       "        circle_marker_05a8c22bbf365d13377e983f6e10d55a.bindPopup(popup_4acb0ccc810f157b1b2936453f65a5b6)\n",
       "        ;\n",
       "\n",
       "        \n",
       "    \n",
       "    \n",
       "            var circle_marker_773f9efc267c6e2c4d3ed13e1ec6e254 = L.circleMarker(\n",
       "                [15.5, 101.0],\n",
       "                {&quot;bubblingMouseEvents&quot;: true, &quot;color&quot;: &quot;red&quot;, &quot;dashArray&quot;: null, &quot;dashOffset&quot;: null, &quot;fill&quot;: true, &quot;fillColor&quot;: &quot;red&quot;, &quot;fillOpacity&quot;: 0.2, &quot;fillRule&quot;: &quot;evenodd&quot;, &quot;lineCap&quot;: &quot;round&quot;, &quot;lineJoin&quot;: &quot;round&quot;, &quot;opacity&quot;: 1.0, &quot;radius&quot;: 2.5749837526266477, &quot;stroke&quot;: true, &quot;weight&quot;: 3}\n",
       "            ).addTo(map_ea1c77cce835ee54a2729a77063d298c);\n",
       "        \n",
       "    \n",
       "        var popup_e92fcc38da09e57317d3ef7759696f32 = L.popup({&quot;maxWidth&quot;: &quot;100%&quot;});\n",
       "\n",
       "        \n",
       "            \n",
       "                var html_96d5d0aed4940410d5712cea89121e65 = $(`&lt;div id=&quot;html_96d5d0aed4940410d5712cea89121e65&quot; style=&quot;width: 100.0%; height: 100.0%;&quot;&gt;Thailand&lt;/div&gt;`)[0];\n",
       "                popup_e92fcc38da09e57317d3ef7759696f32.setContent(html_96d5d0aed4940410d5712cea89121e65);\n",
       "            \n",
       "        \n",
       "\n",
       "        circle_marker_773f9efc267c6e2c4d3ed13e1ec6e254.bindPopup(popup_e92fcc38da09e57317d3ef7759696f32)\n",
       "        ;\n",
       "\n",
       "        \n",
       "    \n",
       "    \n",
       "            var circle_marker_14450fb6b0c895c708cf31d0d4221965 = L.circleMarker(\n",
       "                [39.0, 71.0],\n",
       "                {&quot;bubblingMouseEvents&quot;: true, &quot;color&quot;: &quot;red&quot;, &quot;dashArray&quot;: null, &quot;dashOffset&quot;: null, &quot;fill&quot;: true, &quot;fillColor&quot;: &quot;red&quot;, &quot;fillOpacity&quot;: 0.2, &quot;fillRule&quot;: &quot;evenodd&quot;, &quot;lineCap&quot;: &quot;round&quot;, &quot;lineJoin&quot;: &quot;round&quot;, &quot;opacity&quot;: 1.0, &quot;radius&quot;: 3.937310044773772, &quot;stroke&quot;: true, &quot;weight&quot;: 3}\n",
       "            ).addTo(map_ea1c77cce835ee54a2729a77063d298c);\n",
       "        \n",
       "    \n",
       "        var popup_a78c05497791cdc294d5c8acf320a8a8 = L.popup({&quot;maxWidth&quot;: &quot;100%&quot;});\n",
       "\n",
       "        \n",
       "            \n",
       "                var html_5f788482d472e1471c3fd82578dc7979 = $(`&lt;div id=&quot;html_5f788482d472e1471c3fd82578dc7979&quot; style=&quot;width: 100.0%; height: 100.0%;&quot;&gt;Tajikistan&lt;/div&gt;`)[0];\n",
       "                popup_a78c05497791cdc294d5c8acf320a8a8.setContent(html_5f788482d472e1471c3fd82578dc7979);\n",
       "            \n",
       "        \n",
       "\n",
       "        circle_marker_14450fb6b0c895c708cf31d0d4221965.bindPopup(popup_a78c05497791cdc294d5c8acf320a8a8)\n",
       "        ;\n",
       "\n",
       "        \n",
       "    \n",
       "    \n",
       "            var circle_marker_024a17d65f0a0998552e165741c74107 = L.circleMarker(\n",
       "                [39.75, 59.66667],\n",
       "                {&quot;bubblingMouseEvents&quot;: true, &quot;color&quot;: &quot;red&quot;, &quot;dashArray&quot;: null, &quot;dashOffset&quot;: null, &quot;fill&quot;: true, &quot;fillColor&quot;: &quot;red&quot;, &quot;fillOpacity&quot;: 0.2, &quot;fillRule&quot;: &quot;evenodd&quot;, &quot;lineCap&quot;: &quot;round&quot;, &quot;lineJoin&quot;: &quot;round&quot;, &quot;opacity&quot;: 1.0, &quot;radius&quot;: 6.339657967136766, &quot;stroke&quot;: true, &quot;weight&quot;: 3}\n",
       "            ).addTo(map_ea1c77cce835ee54a2729a77063d298c);\n",
       "        \n",
       "    \n",
       "        var popup_8a03adc0edf8b96ec33d504849995ffa = L.popup({&quot;maxWidth&quot;: &quot;100%&quot;});\n",
       "\n",
       "        \n",
       "            \n",
       "                var html_29648fbe11bd1160a38abfd4456574d6 = $(`&lt;div id=&quot;html_29648fbe11bd1160a38abfd4456574d6&quot; style=&quot;width: 100.0%; height: 100.0%;&quot;&gt;Turkmenistan&lt;/div&gt;`)[0];\n",
       "                popup_8a03adc0edf8b96ec33d504849995ffa.setContent(html_29648fbe11bd1160a38abfd4456574d6);\n",
       "            \n",
       "        \n",
       "\n",
       "        circle_marker_024a17d65f0a0998552e165741c74107.bindPopup(popup_8a03adc0edf8b96ec33d504849995ffa)\n",
       "        ;\n",
       "\n",
       "        \n",
       "    \n",
       "    \n",
       "            var circle_marker_a1f44d055d635de57d1de4f85d9e23db = L.circleMarker(\n",
       "                [-8.83333, 125.75],\n",
       "                {&quot;bubblingMouseEvents&quot;: true, &quot;color&quot;: &quot;red&quot;, &quot;dashArray&quot;: null, &quot;dashOffset&quot;: null, &quot;fill&quot;: true, &quot;fillColor&quot;: &quot;red&quot;, &quot;fillOpacity&quot;: 0.2, &quot;fillRule&quot;: &quot;evenodd&quot;, &quot;lineCap&quot;: &quot;round&quot;, &quot;lineJoin&quot;: &quot;round&quot;, &quot;opacity&quot;: 1.0, &quot;radius&quot;: 3.483884967678483, &quot;stroke&quot;: true, &quot;weight&quot;: 3}\n",
       "            ).addTo(map_ea1c77cce835ee54a2729a77063d298c);\n",
       "        \n",
       "    \n",
       "        var popup_bebf2b721ea57f37571a983c3afc67d3 = L.popup({&quot;maxWidth&quot;: &quot;100%&quot;});\n",
       "\n",
       "        \n",
       "            \n",
       "                var html_a301bac76239170c0a10d8cd8322baf4 = $(`&lt;div id=&quot;html_a301bac76239170c0a10d8cd8322baf4&quot; style=&quot;width: 100.0%; height: 100.0%;&quot;&gt;Timor-Leste&lt;/div&gt;`)[0];\n",
       "                popup_bebf2b721ea57f37571a983c3afc67d3.setContent(html_a301bac76239170c0a10d8cd8322baf4);\n",
       "            \n",
       "        \n",
       "\n",
       "        circle_marker_a1f44d055d635de57d1de4f85d9e23db.bindPopup(popup_bebf2b721ea57f37571a983c3afc67d3)\n",
       "        ;\n",
       "\n",
       "        \n",
       "    \n",
       "    \n",
       "            var circle_marker_d35753cd58ac373c3a35899dc44b4222 = L.circleMarker(\n",
       "                [11.0, -61.0],\n",
       "                {&quot;bubblingMouseEvents&quot;: true, &quot;color&quot;: &quot;green&quot;, &quot;dashArray&quot;: null, &quot;dashOffset&quot;: null, &quot;fill&quot;: true, &quot;fillColor&quot;: &quot;green&quot;, &quot;fillOpacity&quot;: 0.2, &quot;fillRule&quot;: &quot;evenodd&quot;, &quot;lineCap&quot;: &quot;round&quot;, &quot;lineJoin&quot;: &quot;round&quot;, &quot;opacity&quot;: 1.0, &quot;radius&quot;: 1.3261550740312567, &quot;stroke&quot;: true, &quot;weight&quot;: 3}\n",
       "            ).addTo(map_ea1c77cce835ee54a2729a77063d298c);\n",
       "        \n",
       "    \n",
       "        var popup_1b63948d691cc5bf192dd30ab1bb914d = L.popup({&quot;maxWidth&quot;: &quot;100%&quot;});\n",
       "\n",
       "        \n",
       "            \n",
       "                var html_afb7eb19742026df76d07c53294611d0 = $(`&lt;div id=&quot;html_afb7eb19742026df76d07c53294611d0&quot; style=&quot;width: 100.0%; height: 100.0%;&quot;&gt;Trinidad and Tobago&lt;/div&gt;`)[0];\n",
       "                popup_1b63948d691cc5bf192dd30ab1bb914d.setContent(html_afb7eb19742026df76d07c53294611d0);\n",
       "            \n",
       "        \n",
       "\n",
       "        circle_marker_d35753cd58ac373c3a35899dc44b4222.bindPopup(popup_1b63948d691cc5bf192dd30ab1bb914d)\n",
       "        ;\n",
       "\n",
       "        \n",
       "    \n",
       "    \n",
       "            var circle_marker_440fa5168fb196160415225082653fe4 = L.circleMarker(\n",
       "                [34.0, 9.0],\n",
       "                {&quot;bubblingMouseEvents&quot;: true, &quot;color&quot;: &quot;blue&quot;, &quot;dashArray&quot;: null, &quot;dashOffset&quot;: null, &quot;fill&quot;: true, &quot;fillColor&quot;: &quot;blue&quot;, &quot;fillOpacity&quot;: 0.2, &quot;fillRule&quot;: &quot;evenodd&quot;, &quot;lineCap&quot;: &quot;round&quot;, &quot;lineJoin&quot;: &quot;round&quot;, &quot;opacity&quot;: 1.0, &quot;radius&quot;: 1.5827585674575197, &quot;stroke&quot;: true, &quot;weight&quot;: 3}\n",
       "            ).addTo(map_ea1c77cce835ee54a2729a77063d298c);\n",
       "        \n",
       "    \n",
       "        var popup_c7e31448693d4a401686f21fa119306e = L.popup({&quot;maxWidth&quot;: &quot;100%&quot;});\n",
       "\n",
       "        \n",
       "            \n",
       "                var html_ac95fbd04ade418220bc2d8de20cd153 = $(`&lt;div id=&quot;html_ac95fbd04ade418220bc2d8de20cd153&quot; style=&quot;width: 100.0%; height: 100.0%;&quot;&gt;Tunisia&lt;/div&gt;`)[0];\n",
       "                popup_c7e31448693d4a401686f21fa119306e.setContent(html_ac95fbd04ade418220bc2d8de20cd153);\n",
       "            \n",
       "        \n",
       "\n",
       "        circle_marker_440fa5168fb196160415225082653fe4.bindPopup(popup_c7e31448693d4a401686f21fa119306e)\n",
       "        ;\n",
       "\n",
       "        \n",
       "    \n",
       "    \n",
       "            var circle_marker_d1b8f7fe10a3e0952691bbe11dd1b0ab = L.circleMarker(\n",
       "                [39.0, 35.0],\n",
       "                {&quot;bubblingMouseEvents&quot;: true, &quot;color&quot;: &quot;black&quot;, &quot;dashArray&quot;: null, &quot;dashOffset&quot;: null, &quot;fill&quot;: true, &quot;fillColor&quot;: &quot;black&quot;, &quot;fillOpacity&quot;: 0.2, &quot;fillRule&quot;: &quot;evenodd&quot;, &quot;lineCap&quot;: &quot;round&quot;, &quot;lineJoin&quot;: &quot;round&quot;, &quot;opacity&quot;: 1.0, &quot;radius&quot;: 1.3571262753785571, &quot;stroke&quot;: true, &quot;weight&quot;: 3}\n",
       "            ).addTo(map_ea1c77cce835ee54a2729a77063d298c);\n",
       "        \n",
       "    \n",
       "        var popup_9e721ce9f45c690ac806fa14b6ea33e3 = L.popup({&quot;maxWidth&quot;: &quot;100%&quot;});\n",
       "\n",
       "        \n",
       "            \n",
       "                var html_ab3cf8755a7b1c2a06abe7c5c11d54a6 = $(`&lt;div id=&quot;html_ab3cf8755a7b1c2a06abe7c5c11d54a6&quot; style=&quot;width: 100.0%; height: 100.0%;&quot;&gt;Turkey&lt;/div&gt;`)[0];\n",
       "                popup_9e721ce9f45c690ac806fa14b6ea33e3.setContent(html_ab3cf8755a7b1c2a06abe7c5c11d54a6);\n",
       "            \n",
       "        \n",
       "\n",
       "        circle_marker_d1b8f7fe10a3e0952691bbe11dd1b0ab.bindPopup(popup_9e721ce9f45c690ac806fa14b6ea33e3)\n",
       "        ;\n",
       "\n",
       "        \n",
       "    \n",
       "    \n",
       "            var circle_marker_19f2773922d0b74afc1dccf58da376cb = L.circleMarker(\n",
       "                [-6.0, 35.0],\n",
       "                {&quot;bubblingMouseEvents&quot;: true, &quot;color&quot;: &quot;blue&quot;, &quot;dashArray&quot;: null, &quot;dashOffset&quot;: null, &quot;fill&quot;: true, &quot;fillColor&quot;: &quot;blue&quot;, &quot;fillOpacity&quot;: 0.2, &quot;fillRule&quot;: &quot;evenodd&quot;, &quot;lineCap&quot;: &quot;round&quot;, &quot;lineJoin&quot;: &quot;round&quot;, &quot;opacity&quot;: 1.0, &quot;radius&quot;: 24.77420133503888, &quot;stroke&quot;: true, &quot;weight&quot;: 3}\n",
       "            ).addTo(map_ea1c77cce835ee54a2729a77063d298c);\n",
       "        \n",
       "    \n",
       "        var popup_086c9338c03e22e50641ee7b88fda4e9 = L.popup({&quot;maxWidth&quot;: &quot;100%&quot;});\n",
       "\n",
       "        \n",
       "            \n",
       "                var html_941f5ebe92b34bd23ed31a9221fd3a3b = $(`&lt;div id=&quot;html_941f5ebe92b34bd23ed31a9221fd3a3b&quot; style=&quot;width: 100.0%; height: 100.0%;&quot;&gt;Tanzania&lt;/div&gt;`)[0];\n",
       "                popup_086c9338c03e22e50641ee7b88fda4e9.setContent(html_941f5ebe92b34bd23ed31a9221fd3a3b);\n",
       "            \n",
       "        \n",
       "\n",
       "        circle_marker_19f2773922d0b74afc1dccf58da376cb.bindPopup(popup_086c9338c03e22e50641ee7b88fda4e9)\n",
       "        ;\n",
       "\n",
       "        \n",
       "    \n",
       "    \n",
       "            var circle_marker_f2580180ba341105a602e1130e6ec0f6 = L.circleMarker(\n",
       "                [1.25, 32.5],\n",
       "                {&quot;bubblingMouseEvents&quot;: true, &quot;color&quot;: &quot;blue&quot;, &quot;dashArray&quot;: null, &quot;dashOffset&quot;: null, &quot;fill&quot;: true, &quot;fillColor&quot;: &quot;blue&quot;, &quot;fillOpacity&quot;: 0.2, &quot;fillRule&quot;: &quot;evenodd&quot;, &quot;lineCap&quot;: &quot;round&quot;, &quot;lineJoin&quot;: &quot;round&quot;, &quot;opacity&quot;: 1.0, &quot;radius&quot;: 19.747731823005793, &quot;stroke&quot;: true, &quot;weight&quot;: 3}\n",
       "            ).addTo(map_ea1c77cce835ee54a2729a77063d298c);\n",
       "        \n",
       "    \n",
       "        var popup_bbbf5fa4f8f5ebdfe9e5f2f4fda79c28 = L.popup({&quot;maxWidth&quot;: &quot;100%&quot;});\n",
       "\n",
       "        \n",
       "            \n",
       "                var html_8016e7b2fe275bab4dbd336dc6b099f7 = $(`&lt;div id=&quot;html_8016e7b2fe275bab4dbd336dc6b099f7&quot; style=&quot;width: 100.0%; height: 100.0%;&quot;&gt;Uganda&lt;/div&gt;`)[0];\n",
       "                popup_bbbf5fa4f8f5ebdfe9e5f2f4fda79c28.setContent(html_8016e7b2fe275bab4dbd336dc6b099f7);\n",
       "            \n",
       "        \n",
       "\n",
       "        circle_marker_f2580180ba341105a602e1130e6ec0f6.bindPopup(popup_bbbf5fa4f8f5ebdfe9e5f2f4fda79c28)\n",
       "        ;\n",
       "\n",
       "        \n",
       "    \n",
       "    \n",
       "            var circle_marker_d9a99d4019c9721d7c6d9309b66965ae = L.circleMarker(\n",
       "                [49.0, 32.0],\n",
       "                {&quot;bubblingMouseEvents&quot;: true, &quot;color&quot;: &quot;black&quot;, &quot;dashArray&quot;: null, &quot;dashOffset&quot;: null, &quot;fill&quot;: true, &quot;fillColor&quot;: &quot;black&quot;, &quot;fillOpacity&quot;: 0.2, &quot;fillRule&quot;: &quot;evenodd&quot;, &quot;lineCap&quot;: &quot;round&quot;, &quot;lineJoin&quot;: &quot;round&quot;, &quot;opacity&quot;: 1.0, &quot;radius&quot;: 0.9351814909239282, &quot;stroke&quot;: true, &quot;weight&quot;: 3}\n",
       "            ).addTo(map_ea1c77cce835ee54a2729a77063d298c);\n",
       "        \n",
       "    \n",
       "        var popup_3493a4361757504c6659236d66c4465a = L.popup({&quot;maxWidth&quot;: &quot;100%&quot;});\n",
       "\n",
       "        \n",
       "            \n",
       "                var html_886b432583a5bba03789a097f770aa57 = $(`&lt;div id=&quot;html_886b432583a5bba03789a097f770aa57&quot; style=&quot;width: 100.0%; height: 100.0%;&quot;&gt;Ukraine&lt;/div&gt;`)[0];\n",
       "                popup_3493a4361757504c6659236d66c4465a.setContent(html_886b432583a5bba03789a097f770aa57);\n",
       "            \n",
       "        \n",
       "\n",
       "        circle_marker_d9a99d4019c9721d7c6d9309b66965ae.bindPopup(popup_3493a4361757504c6659236d66c4465a)\n",
       "        ;\n",
       "\n",
       "        \n",
       "    \n",
       "    \n",
       "            var circle_marker_4d9de1a23df0f7402f67791bd53675df = L.circleMarker(\n",
       "                [-33.0, -56.0],\n",
       "                {&quot;bubblingMouseEvents&quot;: true, &quot;color&quot;: &quot;green&quot;, &quot;dashArray&quot;: null, &quot;dashOffset&quot;: null, &quot;fill&quot;: true, &quot;fillColor&quot;: &quot;green&quot;, &quot;fillOpacity&quot;: 0.2, &quot;fillRule&quot;: &quot;evenodd&quot;, &quot;lineCap&quot;: &quot;round&quot;, &quot;lineJoin&quot;: &quot;round&quot;, &quot;opacity&quot;: 1.0, &quot;radius&quot;: 0.5757428592262236, &quot;stroke&quot;: true, &quot;weight&quot;: 3}\n",
       "            ).addTo(map_ea1c77cce835ee54a2729a77063d298c);\n",
       "        \n",
       "    \n",
       "        var popup_e40d597d27cde0471c6514802501402e = L.popup({&quot;maxWidth&quot;: &quot;100%&quot;});\n",
       "\n",
       "        \n",
       "            \n",
       "                var html_805dc038e2f1d48f5d9816f2c4585026 = $(`&lt;div id=&quot;html_805dc038e2f1d48f5d9816f2c4585026&quot; style=&quot;width: 100.0%; height: 100.0%;&quot;&gt;Uruguay&lt;/div&gt;`)[0];\n",
       "                popup_e40d597d27cde0471c6514802501402e.setContent(html_805dc038e2f1d48f5d9816f2c4585026);\n",
       "            \n",
       "        \n",
       "\n",
       "        circle_marker_4d9de1a23df0f7402f67791bd53675df.bindPopup(popup_e40d597d27cde0471c6514802501402e)\n",
       "        ;\n",
       "\n",
       "        \n",
       "    \n",
       "    \n",
       "            var circle_marker_c5fc55b82036952b6528298e20cfe04d = L.circleMarker(\n",
       "                [39.76, -98.5],\n",
       "                {&quot;bubblingMouseEvents&quot;: true, &quot;color&quot;: &quot;green&quot;, &quot;dashArray&quot;: null, &quot;dashOffset&quot;: null, &quot;fill&quot;: true, &quot;fillColor&quot;: &quot;green&quot;, &quot;fillOpacity&quot;: 0.2, &quot;fillRule&quot;: &quot;evenodd&quot;, &quot;lineCap&quot;: &quot;round&quot;, &quot;lineJoin&quot;: &quot;round&quot;, &quot;opacity&quot;: 1.0, &quot;radius&quot;: 12.816534134854198, &quot;stroke&quot;: true, &quot;weight&quot;: 3}\n",
       "            ).addTo(map_ea1c77cce835ee54a2729a77063d298c);\n",
       "        \n",
       "    \n",
       "        var popup_83c940b5b299bf3887452eb4c53f7811 = L.popup({&quot;maxWidth&quot;: &quot;100%&quot;});\n",
       "\n",
       "        \n",
       "            \n",
       "                var html_874d666a5603566e2ea4713a9f3a7195 = $(`&lt;div id=&quot;html_874d666a5603566e2ea4713a9f3a7195&quot; style=&quot;width: 100.0%; height: 100.0%;&quot;&gt;United States&lt;/div&gt;`)[0];\n",
       "                popup_83c940b5b299bf3887452eb4c53f7811.setContent(html_874d666a5603566e2ea4713a9f3a7195);\n",
       "            \n",
       "        \n",
       "\n",
       "        circle_marker_c5fc55b82036952b6528298e20cfe04d.bindPopup(popup_83c940b5b299bf3887452eb4c53f7811)\n",
       "        ;\n",
       "\n",
       "        \n",
       "    \n",
       "    \n",
       "            var circle_marker_aa1568456fb700087ab128fa14ee02ac = L.circleMarker(\n",
       "                [8.0, -66.0],\n",
       "                {&quot;bubblingMouseEvents&quot;: true, &quot;color&quot;: &quot;green&quot;, &quot;dashArray&quot;: null, &quot;dashOffset&quot;: null, &quot;fill&quot;: true, &quot;fillColor&quot;: &quot;green&quot;, &quot;fillOpacity&quot;: 0.2, &quot;fillRule&quot;: &quot;evenodd&quot;, &quot;lineCap&quot;: &quot;round&quot;, &quot;lineJoin&quot;: &quot;round&quot;, &quot;opacity&quot;: 1.0, &quot;radius&quot;: 7.7472252108900665, &quot;stroke&quot;: true, &quot;weight&quot;: 3}\n",
       "            ).addTo(map_ea1c77cce835ee54a2729a77063d298c);\n",
       "        \n",
       "    \n",
       "        var popup_b808a28aa4a5b71aaafb5035146c6a25 = L.popup({&quot;maxWidth&quot;: &quot;100%&quot;});\n",
       "\n",
       "        \n",
       "            \n",
       "                var html_f8d24a5014b9c0c06ee3e5c4b1a0e72f = $(`&lt;div id=&quot;html_f8d24a5014b9c0c06ee3e5c4b1a0e72f&quot; style=&quot;width: 100.0%; height: 100.0%;&quot;&gt;Venezuela&lt;/div&gt;`)[0];\n",
       "                popup_b808a28aa4a5b71aaafb5035146c6a25.setContent(html_f8d24a5014b9c0c06ee3e5c4b1a0e72f);\n",
       "            \n",
       "        \n",
       "\n",
       "        circle_marker_aa1568456fb700087ab128fa14ee02ac.bindPopup(popup_b808a28aa4a5b71aaafb5035146c6a25)\n",
       "        ;\n",
       "\n",
       "        \n",
       "    \n",
       "    \n",
       "            var circle_marker_1b7e47dbf363c6f3c6045cdee6d806fc = L.circleMarker(\n",
       "                [16.16667, 107.83333],\n",
       "                {&quot;bubblingMouseEvents&quot;: true, &quot;color&quot;: &quot;red&quot;, &quot;dashArray&quot;: null, &quot;dashOffset&quot;: null, &quot;fill&quot;: true, &quot;fillColor&quot;: &quot;red&quot;, &quot;fillOpacity&quot;: 0.2, &quot;fillRule&quot;: &quot;evenodd&quot;, &quot;lineCap&quot;: &quot;round&quot;, &quot;lineJoin&quot;: &quot;round&quot;, &quot;opacity&quot;: 1.0, &quot;radius&quot;: 8.26573512594059, &quot;stroke&quot;: true, &quot;weight&quot;: 3}\n",
       "            ).addTo(map_ea1c77cce835ee54a2729a77063d298c);\n",
       "        \n",
       "    \n",
       "        var popup_5abb43ee2dcc6ade51672d8973564ee9 = L.popup({&quot;maxWidth&quot;: &quot;100%&quot;});\n",
       "\n",
       "        \n",
       "            \n",
       "                var html_6d09a1a6b4c448071b7af71574519db4 = $(`&lt;div id=&quot;html_6d09a1a6b4c448071b7af71574519db4&quot; style=&quot;width: 100.0%; height: 100.0%;&quot;&gt;Vietnam&lt;/div&gt;`)[0];\n",
       "                popup_5abb43ee2dcc6ade51672d8973564ee9.setContent(html_6d09a1a6b4c448071b7af71574519db4);\n",
       "            \n",
       "        \n",
       "\n",
       "        circle_marker_1b7e47dbf363c6f3c6045cdee6d806fc.bindPopup(popup_5abb43ee2dcc6ade51672d8973564ee9)\n",
       "        ;\n",
       "\n",
       "        \n",
       "    \n",
       "    \n",
       "            var circle_marker_d60a2f30d51f0ef14f1f2317c9af13e2 = L.circleMarker(\n",
       "                [15.5, 47.5],\n",
       "                {&quot;bubblingMouseEvents&quot;: true, &quot;color&quot;: &quot;red&quot;, &quot;dashArray&quot;: null, &quot;dashOffset&quot;: null, &quot;fill&quot;: true, &quot;fillColor&quot;: &quot;red&quot;, &quot;fillOpacity&quot;: 0.2, &quot;fillRule&quot;: &quot;evenodd&quot;, &quot;lineCap&quot;: &quot;round&quot;, &quot;lineJoin&quot;: &quot;round&quot;, &quot;opacity&quot;: 1.0, &quot;radius&quot;: 8.49015295776982, &quot;stroke&quot;: true, &quot;weight&quot;: 3}\n",
       "            ).addTo(map_ea1c77cce835ee54a2729a77063d298c);\n",
       "        \n",
       "    \n",
       "        var popup_a59bc05030d490bc2e18f1a57e7d3890 = L.popup({&quot;maxWidth&quot;: &quot;100%&quot;});\n",
       "\n",
       "        \n",
       "            \n",
       "                var html_4d91065b30c693acb2112202dc16d66b = $(`&lt;div id=&quot;html_4d91065b30c693acb2112202dc16d66b&quot; style=&quot;width: 100.0%; height: 100.0%;&quot;&gt;Yemen&lt;/div&gt;`)[0];\n",
       "                popup_a59bc05030d490bc2e18f1a57e7d3890.setContent(html_4d91065b30c693acb2112202dc16d66b);\n",
       "            \n",
       "        \n",
       "\n",
       "        circle_marker_d60a2f30d51f0ef14f1f2317c9af13e2.bindPopup(popup_a59bc05030d490bc2e18f1a57e7d3890)\n",
       "        ;\n",
       "\n",
       "        \n",
       "    \n",
       "    \n",
       "            var circle_marker_ab554edd18a117fdf2d0b32cfac455da = L.circleMarker(\n",
       "                [-29.0, 24.0],\n",
       "                {&quot;bubblingMouseEvents&quot;: true, &quot;color&quot;: &quot;blue&quot;, &quot;dashArray&quot;: null, &quot;dashOffset&quot;: null, &quot;fill&quot;: true, &quot;fillColor&quot;: &quot;blue&quot;, &quot;fillOpacity&quot;: 0.2, &quot;fillRule&quot;: &quot;evenodd&quot;, &quot;lineCap&quot;: &quot;round&quot;, &quot;lineJoin&quot;: &quot;round&quot;, &quot;opacity&quot;: 1.0, &quot;radius&quot;: 12.392457647349426, &quot;stroke&quot;: true, &quot;weight&quot;: 3}\n",
       "            ).addTo(map_ea1c77cce835ee54a2729a77063d298c);\n",
       "        \n",
       "    \n",
       "        var popup_5273dd9c0054b9e877576727f26e2e37 = L.popup({&quot;maxWidth&quot;: &quot;100%&quot;});\n",
       "\n",
       "        \n",
       "            \n",
       "                var html_ba166d615029407cdd6127d96e8df693 = $(`&lt;div id=&quot;html_ba166d615029407cdd6127d96e8df693&quot; style=&quot;width: 100.0%; height: 100.0%;&quot;&gt;South Africa&lt;/div&gt;`)[0];\n",
       "                popup_5273dd9c0054b9e877576727f26e2e37.setContent(html_ba166d615029407cdd6127d96e8df693);\n",
       "            \n",
       "        \n",
       "\n",
       "        circle_marker_ab554edd18a117fdf2d0b32cfac455da.bindPopup(popup_5273dd9c0054b9e877576727f26e2e37)\n",
       "        ;\n",
       "\n",
       "        \n",
       "    \n",
       "    \n",
       "            var circle_marker_5383c6e7fb1727f0070f228061fc85aa = L.circleMarker(\n",
       "                [-14.33333, 28.5],\n",
       "                {&quot;bubblingMouseEvents&quot;: true, &quot;color&quot;: &quot;blue&quot;, &quot;dashArray&quot;: null, &quot;dashOffset&quot;: null, &quot;fill&quot;: true, &quot;fillColor&quot;: &quot;blue&quot;, &quot;fillOpacity&quot;: 0.2, &quot;fillRule&quot;: &quot;evenodd&quot;, &quot;lineCap&quot;: &quot;round&quot;, &quot;lineJoin&quot;: &quot;round&quot;, &quot;opacity&quot;: 1.0, &quot;radius&quot;: 17.940846235041857, &quot;stroke&quot;: true, &quot;weight&quot;: 3}\n",
       "            ).addTo(map_ea1c77cce835ee54a2729a77063d298c);\n",
       "        \n",
       "    \n",
       "        var popup_fdaf92dfb47a27f7653ee2838e0157f4 = L.popup({&quot;maxWidth&quot;: &quot;100%&quot;});\n",
       "\n",
       "        \n",
       "            \n",
       "                var html_55a14873502f659c6e9835b27243fb81 = $(`&lt;div id=&quot;html_55a14873502f659c6e9835b27243fb81&quot; style=&quot;width: 100.0%; height: 100.0%;&quot;&gt;Zambia&lt;/div&gt;`)[0];\n",
       "                popup_fdaf92dfb47a27f7653ee2838e0157f4.setContent(html_55a14873502f659c6e9835b27243fb81);\n",
       "            \n",
       "        \n",
       "\n",
       "        circle_marker_5383c6e7fb1727f0070f228061fc85aa.bindPopup(popup_fdaf92dfb47a27f7653ee2838e0157f4)\n",
       "        ;\n",
       "\n",
       "        \n",
       "    \n",
       "&lt;/script&gt;\n",
       "&lt;/html&gt;\" style=\"position:absolute;width:100%;height:100%;left:0;top:0;border:none !important;\" allowfullscreen webkitallowfullscreen mozallowfullscreen></iframe></div></div>"
      ],
      "text/plain": [
       "<datascience.maps.Map at 0x7d83275e8b30>"
      ]
     },
     "execution_count": 138,
     "metadata": {},
     "output_type": "execute_result"
    }
   ],
   "source": [
    "# It may take a few seconds to generate this map.\n",
    "colors = {'africa': 'blue', 'europe': 'black', 'asia': 'red', 'americas': 'green'}\n",
    "scaled = poverty_map.with_columns(\n",
    "    'labels', poverty_map.column('name'),\n",
    "    'colors', poverty_map.apply(colors.get, 'region'),\n",
    "    'areas', 1e-4 * poverty_map.column('poverty_total')\n",
    ").drop('name', 'region', 'poverty_total')\n",
    "\n",
    "Circle.map_table(scaled)"
   ]
  },
  {
   "cell_type": "markdown",
   "metadata": {
    "deletable": false,
    "editable": false
   },
   "source": [
    "Although people lived in extreme poverty throughout the world in 2010 (with more than 5 million in the United States), the largest numbers were in Asia and Africa."
   ]
  },
  {
   "cell_type": "markdown",
   "metadata": {},
   "source": [
    "**Question 5.** Assign `largest` to a two-column table with the `name` (not the 3-letter code) and `poverty_total` of the 10 countries with the largest number of people living in extreme poverty.\n",
    "\n",
    "*Hint*: How can we use `take` and `np.arange` in conjunction with each other?\n"
   ]
  },
  {
   "cell_type": "code",
   "execution_count": 139,
   "metadata": {
    "deletable": false,
    "tags": []
   },
   "outputs": [
    {
     "data": {
      "text/html": [
       "<table border=\"1\" class=\"dataframe\">\n",
       "    <thead>\n",
       "        <tr>\n",
       "            <th>name</th> <th>poverty_total</th>\n",
       "        </tr>\n",
       "    </thead>\n",
       "    <tbody>\n",
       "        <tr>\n",
       "            <td>India           </td> <td>291,660,638.82</td>\n",
       "        </tr>\n",
       "        <tr>\n",
       "            <td>Nigeria         </td> <td>98,319,536.82 </td>\n",
       "        </tr>\n",
       "        <tr>\n",
       "            <td>China           </td> <td>85,687,543.81 </td>\n",
       "        </tr>\n",
       "        <tr>\n",
       "            <td>Bangladesh      </td> <td>63,826,374.77 </td>\n",
       "        </tr>\n",
       "        <tr>\n",
       "            <td>Congo, Dem. Rep.</td> <td>56,635,411.85 </td>\n",
       "        </tr>\n",
       "        <tr>\n",
       "            <td>Indonesia       </td> <td>39,177,144.61 </td>\n",
       "        </tr>\n",
       "        <tr>\n",
       "            <td>Ethiopia        </td> <td>32,242,742.02 </td>\n",
       "        </tr>\n",
       "        <tr>\n",
       "            <td>Pakistan        </td> <td>22,858,699.52 </td>\n",
       "        </tr>\n",
       "        <tr>\n",
       "            <td>Tanzania        </td> <td>19,281,872.11 </td>\n",
       "        </tr>\n",
       "        <tr>\n",
       "            <td>Madagascar      </td> <td>18,543,642.79 </td>\n",
       "        </tr>\n",
       "    </tbody>\n",
       "</table>"
      ],
      "text/plain": [
       "name             | poverty_total\n",
       "India            | 291,660,638.82\n",
       "Nigeria          | 98,319,536.82\n",
       "China            | 85,687,543.81\n",
       "Bangladesh       | 63,826,374.77\n",
       "Congo, Dem. Rep. | 56,635,411.85\n",
       "Indonesia        | 39,177,144.61\n",
       "Ethiopia         | 32,242,742.02\n",
       "Pakistan         | 22,858,699.52\n",
       "Tanzania         | 19,281,872.11\n",
       "Madagascar       | 18,543,642.79"
      ]
     },
     "execution_count": 139,
     "metadata": {},
     "output_type": "execute_result"
    }
   ],
   "source": [
    "poverty_map = poverty_map.sort(\"poverty_total\", descending=True)\n",
    "largest = poverty_map.select(\"name\", \"poverty_total\").take(np.arange(0, 10))\n",
    "largest.set_format('poverty_total', NumberFormatter)"
   ]
  },
  {
   "cell_type": "code",
   "execution_count": 140,
   "metadata": {
    "deletable": false,
    "editable": false
   },
   "outputs": [
    {
     "data": {
      "text/html": [
       "<p><strong><pre style='display: inline;'>q2_5</pre></strong> passed! ✨</p>"
      ],
      "text/plain": [
       "q2_5 results: All test cases passed!"
      ]
     },
     "execution_count": 140,
     "metadata": {},
     "output_type": "execute_result"
    }
   ],
   "source": [
    "grader.check(\"q2_5\")"
   ]
  },
  {
   "cell_type": "markdown",
   "metadata": {},
   "source": [
    "<!-- BEGIN QUESTION -->\n",
    "\n",
    "**Question 6.** It is important to study the absolute number of people living in poverty, not just the percent. The absolute number is an important factor in determining the amount of resources needed to support people living in poverty. In the next two questions you will explore this.\n",
    "\n",
    "In Question 7, you will be asked to write a function called `poverty_timeline` that takes **the name of a country** as its argument (not the Alpha-3 country code). It should draw a line plot of the number of people living in poverty in that country with time on the horizontal axis. The line plot should have a point for each row in the poverty table for that country. To compute the population living in poverty from a poverty percentage, multiply by the population of the country **in that year**.\n",
    "\n",
    "For this question, write out a generalized process for Question 7. Make sure to answer/include the following: \n",
    "- What should this function output? \n",
    "- Additionally, **make a numbered list** of the steps you take within the function body. If you added/edited, say, 5 lines in the function body, then it would be good to see the numbers 1 through 5 describing what you did (i.e. what functions/methods you used) in each line and why.\n",
    "\n",
    "As a tip, after finishing question 7, we recommend polishing up your description of the steps for this question."
   ]
  },
  {
   "cell_type": "markdown",
   "metadata": {},
   "source": [
    "_The function should output a line plot graph that shows the poverty population for a given country._"
   ]
  },
  {
   "cell_type": "markdown",
   "metadata": {
    "deletable": false
   },
   "source": [
    "<!-- END QUESTION -->\n",
    "\n",
    "<!-- BEGIN QUESTION -->\n",
    "\n",
    "**Question 7.** Now, we'll actually write the function called `poverty_timeline`. Recall that `poverty_timeline` takes **the name of a country** as its argument (not the Alpha-3 country code). It should draw a line plot of the number of people living in poverty in that country with time on the horizontal axis. The line plot should have a point for each row in the `poverty` table for that country. To compute the population living in poverty from a poverty percentage, multiply by the population of the country **in that year**.\n",
    "\n",
    "**Note:** You **should <u>not</u>** return anything from your function. Simply call `plots.show()` at the end of your function body.\n",
    "\n",
    "*Hint 1:* This question is long. Feel free to create cells and experiment. You can create cells by going to the toolbar and hitting the `+` button.\n",
    "\n",
    "*Hint 2:* Consider using `join` in your code.\n",
    "\n",
    "Feel free to use the markdown cell below to plan out your answer, but you needn't fill it in."
   ]
  },
  {
   "cell_type": "markdown",
   "metadata": {},
   "source": [
    "_Type your answer here, replacing this text._"
   ]
  },
  {
   "cell_type": "code",
   "execution_count": 143,
   "metadata": {
    "tags": []
   },
   "outputs": [
    {
     "data": {
      "text/html": [
       "<table border=\"1\" class=\"dataframe\">\n",
       "    <thead>\n",
       "        <tr>\n",
       "            <th>country</th> <th>name</th>\n",
       "        </tr>\n",
       "    </thead>\n",
       "    <tbody>\n",
       "        <tr>\n",
       "            <td>afg    </td> <td>Afghanistan         </td>\n",
       "        </tr>\n",
       "        <tr>\n",
       "            <td>ago    </td> <td>Angola              </td>\n",
       "        </tr>\n",
       "        <tr>\n",
       "            <td>alb    </td> <td>Albania             </td>\n",
       "        </tr>\n",
       "        <tr>\n",
       "            <td>and    </td> <td>Andorra             </td>\n",
       "        </tr>\n",
       "        <tr>\n",
       "            <td>are    </td> <td>United Arab Emirates</td>\n",
       "        </tr>\n",
       "        <tr>\n",
       "            <td>arg    </td> <td>Argentina           </td>\n",
       "        </tr>\n",
       "        <tr>\n",
       "            <td>arm    </td> <td>Armenia             </td>\n",
       "        </tr>\n",
       "        <tr>\n",
       "            <td>atg    </td> <td>Antigua and Barbuda </td>\n",
       "        </tr>\n",
       "        <tr>\n",
       "            <td>aus    </td> <td>Australia           </td>\n",
       "        </tr>\n",
       "        <tr>\n",
       "            <td>aut    </td> <td>Austria             </td>\n",
       "        </tr>\n",
       "    </tbody>\n",
       "</table>\n",
       "<p>... (187 rows omitted)</p>"
      ],
      "text/plain": [
       "country | name\n",
       "afg     | Afghanistan\n",
       "ago     | Angola\n",
       "alb     | Albania\n",
       "and     | Andorra\n",
       "are     | United Arab Emirates\n",
       "arg     | Argentina\n",
       "arm     | Armenia\n",
       "atg     | Antigua and Barbuda\n",
       "aus     | Australia\n",
       "aut     | Austria\n",
       "... (187 rows omitted)"
      ]
     },
     "execution_count": 143,
     "metadata": {},
     "output_type": "execute_result"
    }
   ],
   "source": [
    "def poverty_timeline(country):\n",
    "    '''Draw a timeline of people living in extreme poverty in a country.'''\n",
    "    geo = country\n",
    "    # This solution will take multiple lines of code. Use as many as you need\n",
    "    geo_codes = countries.column(\"country\")\n",
    "    timeline = poverty.where(\"\", are.contained_in)\n",
    "    # Don't change anything below this line. \n",
    "    # plots.title(country)\n",
    "    # plots.ylim(bottom=0)\n",
    "    # plots.show() # This should be the last line of your function.\n",
    "    return timeline\n",
    "\n",
    "poverty_timeline(test)"
   ]
  },
  {
   "cell_type": "code",
   "execution_count": null,
   "metadata": {
    "deletable": false,
    "tags": []
   },
   "outputs": [],
   "source": [
    "poverty_timeline('Poland')\n",
    "poverty_timeline('India')\n",
    "poverty_timeline('Nigeria')\n",
    "poverty_timeline('China')\n",
    "poverty_timeline('Colombia')\n",
    "poverty_timeline('United States')"
   ]
  },
  {
   "cell_type": "markdown",
   "metadata": {
    "deletable": false
   },
   "source": [
    "<!-- END QUESTION -->\n",
    "\n",
    "Although the number of people living in extreme poverty increased in some countries including Nigeria and the United States, the decreases in other countries, most notably the massive decreases in China and India, have shaped the overall trend that extreme poverty is decreasing worldwide, both in percentage and in absolute number. \n",
    "\n",
    "To learn more, watch [Hans Rosling in a 2015 film](https://www.gapminder.org/videos/dont-panic-end-poverty/) about the UN goal of eradicating extreme poverty from the world. \n",
    "\n",
    "Below, we've also added an interactive dropdown menu for you to visualize `poverty_timeline` graphs for other countries. Note that each dropdown menu selection may take a few seconds to run."
   ]
  },
  {
   "cell_type": "code",
   "execution_count": null,
   "metadata": {
    "deletable": false,
    "editable": false
   },
   "outputs": [],
   "source": [
    "# Just run this cell\n",
    "\n",
    "all_countries = poverty_map.column('name')\n",
    "_ = widgets.interact(poverty_timeline, country=list(all_countries))"
   ]
  },
  {
   "cell_type": "markdown",
   "metadata": {},
   "source": [
    " "
   ]
  }
 ],
 "metadata": {
  "kernelspec": {
   "display_name": "Python 3",
   "language": "python",
   "name": "python3"
  },
  "language_info": {
   "codemirror_mode": {
    "name": "ipython",
    "version": 3
   },
   "file_extension": ".py",
   "mimetype": "text/x-python",
   "name": "python",
   "nbconvert_exporter": "python",
   "pygments_lexer": "ipython3",
   "version": "3.12.1"
  },
  "otter": {
   "OK_FORMAT": true,
   "tests": {
    "q0": {
     "name": "q0",
     "points": [
      0
     ],
     "suites": [
      {
       "cases": [
        {
         "code": ">>> i_wont_use_show_without_an_argument == True\nTrue",
         "hidden": false,
         "locked": false
        }
       ],
       "scored": true,
       "setup": "",
       "teardown": "",
       "type": "doctest"
      }
     ]
    },
    "q1_1": {
     "name": "q1_1",
     "points": [
      0,
      0
     ],
     "suites": [
      {
       "cases": [
        {
         "code": ">>> # Check your column labels and spelling\n>>> p_pop.labels == ('time', 'population_total')\nTrue",
         "hidden": false,
         "locked": false
        },
        {
         "code": ">>> # Times should range from 1900 through 2020\n>>> all(p_pop.sort(\"time\").column(\"time\") == np.arange(1900, 2021))\nTrue",
         "hidden": false,
         "locked": false
        }
       ],
       "scored": true,
       "setup": "",
       "teardown": "",
       "type": "doctest"
      }
     ]
    },
    "q1_11": {
     "name": "q1_11",
     "points": [
      0,
      0,
      0,
      4
     ],
     "suites": [
      {
       "cases": [
        {
         "code": ">>> # Incorrect labels for columns\n>>> t = stats_for_year(1990)\n>>> t.labels == ('geo', 'population_total', 'children_per_woman_total_fertility', 'child_mortality_under_5_per_1000_born')\nTrue",
         "hidden": false,
         "locked": false
        },
        {
         "code": ">>> # Incorrect number of rows\n>>> t = stats_for_year(1990)\n>>> t.num_rows\n50",
         "hidden": false,
         "locked": false
        },
        {
         "code": ">>> print(stats_for_year(1960).sort('geo').take(np.arange(5, 50, 5)))\ngeo  | population_total | children_per_woman_total_fertility | child_mortality_under_5_per_1000_born\ncan  | 17847404         | 3.88                               | 32.6\ndza  | 11057864         | 7.52                               | 242.54\ngbr  | 52370595         | 2.69                               | 26.56\nirq  | 7289753          | 6.25                               | 191.93\nmar  | 12328532         | 7.04                               | 237.06\nnga  | 45138460         | 6.35                               | 339.85\npol  | 29614201         | 3.11                               | 65.03\ntur  | 27472339         | 6.37                               | 258.29\nuzb  | 8526299          | 6.26                               | 169.4\n",
         "hidden": false,
         "locked": false
        },
        {
         "code": ">>> print(stats_for_year(2010).sort('geo').take(np.arange(3, 50, 5)))\ngeo  | population_total | children_per_woman_total_fertility | child_mortality_under_5_per_1000_born\nbgd  | 147575433        | 2.28                               | 49.1\ncol  | 45222699         | 2.01                               | 18.47\neth  | 87639962         | 4.92                               | 82.94\nind  | 1234281163       | 2.6                                | 58.23\nken  | 42030684         | 4.37                               | 56.54\nmoz  | 23531567         | 5.56                               | 104.53\nper  | 29027680         | 2.55                               | 20.13\nsdn  | 34545014         | 4.88                               | 75.92\nukr  | 45792086         | 1.45                               | 11.72\nyem  | 23154854         | 4.67                               | 55.96\n",
         "hidden": false,
         "locked": false
        }
       ],
       "scored": true,
       "setup": "",
       "teardown": "",
       "type": "doctest"
      }
     ]
    },
    "q1_12": {
     "name": "q1_12",
     "points": [
      0,
      0
     ],
     "suites": [
      {
       "cases": [
        {
         "code": ">>> # Check your column labels and spelling\n>>> pop_by_decade.labels == ('decade', 'population')\nTrue",
         "hidden": false,
         "locked": false
        },
        {
         "code": ">>> # The first year of the 1960's is 1960.\n>>> pop_by_decade.column(0).item(0) == 1960\nTrue",
         "hidden": false,
         "locked": false
        }
       ],
       "scored": true,
       "setup": "",
       "teardown": "",
       "type": "doctest"
      }
     ]
    },
    "q1_12_0": {
     "name": "q1_12_0",
     "points": [
      0,
      0,
      0
     ],
     "suites": [
      {
       "cases": [
        {
         "code": ">>> pop_for_year(1972) == 3355562066\nTrue",
         "hidden": false,
         "locked": false
        },
        {
         "code": ">>> pop_for_year(2020) == 6765161289\nTrue",
         "hidden": false,
         "locked": false
        },
        {
         "code": ">>> pop_for_year(1989) == 4576679948\nTrue",
         "hidden": false,
         "locked": false
        }
       ],
       "scored": true,
       "setup": "",
       "teardown": "",
       "type": "doctest"
      }
     ]
    },
    "q1_13": {
     "name": "q1_13",
     "points": [
      0,
      0
     ],
     "suites": [
      {
       "cases": [
        {
         "code": ">>> # Check your column labels and spelling\n>>> region_counts.labels == ('region', 'count')\nTrue",
         "hidden": false,
         "locked": false
        },
        {
         "code": ">>> # Counts must sum to 50\n>>> sum(region_counts.column('count')) == 50\nTrue",
         "hidden": false,
         "locked": false
        }
       ],
       "scored": true,
       "setup": "",
       "teardown": "",
       "type": "doctest"
      }
     ]
    },
    "q1_14": {
     "name": "q1_14",
     "points": [
      0
     ],
     "suites": [
      {
       "cases": [
        {
         "code": ">>> # Please use a list of integers from 1 to 5\n>>> all(x in range(1, 6) for x in set(scatter_statements))\nTrue",
         "hidden": false,
         "locked": false
        }
       ],
       "scored": true,
       "setup": "",
       "teardown": "",
       "type": "doctest"
      }
     ]
    },
    "q1_2": {
     "name": "q1_2",
     "points": [
      0,
      0
     ],
     "suites": [
      {
       "cases": [
        {
         "code": ">>> first = round(p_five_growth.sort(0).column(2).item(0), 8)\n>>> 0.005 <= first <= 0.5\nTrue",
         "hidden": false,
         "locked": false
        },
        {
         "code": ">>> # Compute the annual exponential growth rate\n>>> max(p_five_growth.column(2)) < 0.03\nTrue",
         "hidden": false,
         "locked": false
        }
       ],
       "scored": true,
       "setup": "",
       "teardown": "",
       "type": "doctest"
      }
     ]
    },
    "q1_5": {
     "name": "q1_5",
     "points": [
      0,
      0,
      0
     ],
     "suites": [
      {
       "cases": [
        {
         "code": ">>> # Check your column labels and spelling\n>>> fertility_over_time('usa', 2010).labels == ('Year', 'Children per woman')\nTrue",
         "hidden": false,
         "locked": false
        },
        {
         "code": ">>> # Check that you use the start year to determine the data range.\n>>> all(fertility_over_time('usa', 2010).column('Year') == np.arange(2010, 2021))\nTrue",
         "hidden": false,
         "locked": false
        },
        {
         "code": ">>> # Check that you use the start year to determine the data range.\n>>> all(fertility_over_time('usa', 2005).column('Year') == np.arange(2005, 2021))\nTrue",
         "hidden": false,
         "locked": false
        }
       ],
       "scored": true,
       "setup": "",
       "teardown": "",
       "type": "doctest"
      }
     ]
    },
    "q1_7": {
     "name": "q1_7",
     "points": [
      0,
      0
     ],
     "suites": [
      {
       "cases": [
        {
         "code": ">>> # Make sure you are using the date range 1950-2020\n>>> poland_since_1950.num_rows\n71",
         "hidden": false,
         "locked": false
        },
        {
         "code": ">>> # Check your column labels and spelling\n>>> all([label in poland_since_1950.labels for label in ['Children per woman', 'Child deaths per 1000 born']])\nTrue",
         "hidden": false,
         "locked": false
        }
       ],
       "scored": true,
       "setup": "",
       "teardown": "",
       "type": "doctest"
      }
     ]
    },
    "q1_9": {
     "name": "q1_9",
     "points": [
      0
     ],
     "suites": [
      {
       "cases": [
        {
         "code": ">>> # Please use a list of integers from 1 to 6\n>>> all(x in range(1, 7) for x in set(fertility_statements))\nTrue",
         "hidden": false,
         "locked": false
        }
       ],
       "scored": true,
       "setup": "",
       "teardown": "",
       "type": "doctest"
      }
     ]
    },
    "q2_1": {
     "name": "q2_1",
     "points": [
      0,
      0
     ],
     "suites": [
      {
       "cases": [
        {
         "code": ">>> # Please don't edit the last line.\n>>> latest_poverty.labels == ('geo', 'time', 'poverty_percent')\nTrue",
         "hidden": false,
         "locked": false
        },
        {
         "code": ">>> # The result should have one row per country.\n>>> latest_poverty.num_rows\n145",
         "hidden": false,
         "locked": false
        }
       ],
       "scored": true,
       "setup": "",
       "teardown": "",
       "type": "doctest"
      }
     ]
    },
    "q2_2": {
     "name": "q2_2",
     "points": [
      0,
      0,
      0
     ],
     "suites": [
      {
       "cases": [
        {
         "code": ">>> # Check your column labels and spelling\n>>> recent_poverty_total.labels == ('geo', 'poverty_percent', 'population_total', 'poverty_total')\nTrue",
         "hidden": false,
         "locked": false
        },
        {
         "code": ">>> # Careful, the population of Australia in 2010 was 22,154,687\n>>> float(recent_poverty_total.where('geo', 'aus').column(2).item(0)) == 22154687\nTrue",
         "hidden": false,
         "locked": false
        },
        {
         "code": ">>> # The number of people estimated to be living in extreme poverty\n>>> # in Australia should be 301,304. That's 22,154,687 * 0.0136\n>>> # rounded to the nearest integer.\n>>> float(recent_poverty_total.where('geo', 'aus').column(3).item(0)) == 301304\nTrue",
         "hidden": false,
         "locked": false
        }
       ],
       "scored": true,
       "setup": "",
       "teardown": "",
       "type": "doctest"
      }
     ]
    },
    "q2_3": {
     "name": "q2_3",
     "points": [
      0
     ],
     "suites": [
      {
       "cases": [
        {
         "code": ">>> 10 <= poverty_percent <= 20\nTrue",
         "hidden": false,
         "locked": false
        }
       ],
       "scored": true,
       "setup": "",
       "teardown": "",
       "type": "doctest"
      }
     ]
    },
    "q2_4": {
     "name": "q2_4",
     "points": [
      0,
      0
     ],
     "suites": [
      {
       "cases": [
        {
         "code": ">>> # Check your column labels and spelling\n>>> poverty_map.labels == ('latitude', 'longitude', 'name', 'region', 'poverty_total')\nTrue",
         "hidden": false,
         "locked": false
        },
        {
         "code": ">>> # Something is wrong with your region column.\n>>> list(np.sort(np.unique(poverty_map.column('region'))))\n['africa', 'americas', 'asia', 'europe']",
         "hidden": false,
         "locked": false
        }
       ],
       "scored": true,
       "setup": "",
       "teardown": "",
       "type": "doctest"
      }
     ]
    },
    "q2_5": {
     "name": "q2_5",
     "points": [
      0,
      0,
      0
     ],
     "suites": [
      {
       "cases": [
        {
         "code": ">>> # Check your column labels and spelling\n>>> largest.labels == ('name', 'poverty_total')\nTrue",
         "hidden": false,
         "locked": false
        },
        {
         "code": ">>> # India is the country with the largest number of people living\n>>> # in extreme poverty.\n>>> largest.column(0).item(0)\n'India'",
         "hidden": false,
         "locked": false
        },
        {
         "code": ">>> # The table should contain exactly 10 rows.\n>>> largest.num_rows\n10",
         "hidden": false,
         "locked": false
        }
       ],
       "scored": true,
       "setup": "",
       "teardown": "",
       "type": "doctest"
      }
     ]
    }
   }
  }
 },
 "nbformat": 4,
 "nbformat_minor": 5
}
